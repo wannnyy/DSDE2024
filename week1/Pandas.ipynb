{
  "cells": [
    {
      "cell_type": "markdown",
      "metadata": {
        "id": "YQibouG4iHAQ"
      },
      "source": [
        "# Import Library"
      ]
    },
    {
      "cell_type": "code",
      "execution_count": 1,
      "metadata": {
        "id": "uD1qAqYuiHAR"
      },
      "outputs": [],
      "source": [
        "import pandas as pd\n",
        "import numpy as np"
      ]
    },
    {
      "cell_type": "markdown",
      "metadata": {
        "id": "xZ93LnsmiHAV"
      },
      "source": [
        "# Series"
      ]
    },
    {
      "cell_type": "markdown",
      "metadata": {
        "id": "QVmY7u58iHAW"
      },
      "source": [
        "## Create Series"
      ]
    },
    {
      "cell_type": "markdown",
      "metadata": {
        "id": "ArvcnmK5iHAW"
      },
      "source": [
        "There are many approaches to create a Series.  We first create a Series with 5 elements from a list:\n",
        "\n",
        "Index | Data (int)\n",
        ":---: | :---:\n",
        "0 | 14\n",
        "1 | -8\n",
        "2 | 0\n",
        "3 | 3\n",
        "4 | 9\n",
        "\n",
        "Note that **integer index starts from 0**"
      ]
    },
    {
      "cell_type": "code",
      "execution_count": 2,
      "metadata": {
        "id": "0okZD2xSiHAX",
        "outputId": "68540455-e0a7-4f84-a9df-bc44f21ec14f"
      },
      "outputs": [
        {
          "data": {
            "text/plain": [
              "0    14\n",
              "1    -8\n",
              "2     0\n",
              "3     3\n",
              "4     9\n",
              "dtype: int64"
            ]
          },
          "execution_count": 2,
          "metadata": {},
          "output_type": "execute_result"
        }
      ],
      "source": [
        "# create Series from a list\n",
        "s1 = pd.Series([14, -8, 0, 3, 9])\n",
        "s1"
      ]
    },
    {
      "cell_type": "code",
      "execution_count": 3,
      "metadata": {
        "id": "SqHNCqsfiHAc",
        "outputId": "21d1bab7-a836-4bbf-b899-1d79523d2b00"
      },
      "outputs": [
        {
          "data": {
            "text/plain": [
              "pandas.core.series.Series"
            ]
          },
          "execution_count": 3,
          "metadata": {},
          "output_type": "execute_result"
        }
      ],
      "source": [
        "type(s1)"
      ]
    },
    {
      "cell_type": "code",
      "execution_count": 4,
      "metadata": {
        "id": "r1D7WphoiHAg",
        "outputId": "dd8f839c-abdc-43d8-c949-de937408b0d9"
      },
      "outputs": [
        {
          "data": {
            "text/plain": [
              "dtype('int64')"
            ]
          },
          "execution_count": 4,
          "metadata": {},
          "output_type": "execute_result"
        }
      ],
      "source": [
        "s1.dtype"
      ]
    },
    {
      "cell_type": "code",
      "execution_count": 5,
      "metadata": {
        "id": "uDhLS9XHiHAj",
        "outputId": "8c3244b9-9e9a-439d-b89f-e226fb79e171"
      },
      "outputs": [
        {
          "data": {
            "text/plain": [
              "array([14, -8,  0,  3,  9])"
            ]
          },
          "execution_count": 5,
          "metadata": {},
          "output_type": "execute_result"
        }
      ],
      "source": [
        "s1.values"
      ]
    },
    {
      "cell_type": "code",
      "execution_count": 6,
      "metadata": {
        "id": "2PDS0JV0iHAn",
        "outputId": "3694766d-3735-42a3-824f-96adeb3e4e34"
      },
      "outputs": [
        {
          "data": {
            "text/plain": [
              "RangeIndex(start=0, stop=5, step=1)"
            ]
          },
          "execution_count": 6,
          "metadata": {},
          "output_type": "execute_result"
        }
      ],
      "source": [
        "s1.index"
      ]
    },
    {
      "cell_type": "code",
      "execution_count": 7,
      "metadata": {
        "id": "SVefUyMmiHAt",
        "outputId": "b0998e3e-45eb-49e9-d689-008ffad3d1ac"
      },
      "outputs": [
        {
          "name": "stdout",
          "output_type": "stream",
          "text": [
            "14\n",
            "0\n"
          ]
        }
      ],
      "source": [
        "#Get value in index 0\n",
        "print(s1[0])\n",
        "print(s1[2])"
      ]
    },
    {
      "cell_type": "markdown",
      "metadata": {
        "id": "8S0VFDAfiHA2"
      },
      "source": [
        "## Create Series with Index"
      ]
    },
    {
      "cell_type": "markdown",
      "metadata": {
        "id": "dJG58kEAiHA3"
      },
      "source": [
        "We can create a Series with labels as index.  A label can be an arbitary string.  Although, we assign labels to the Series, integer index still exists.\n",
        "\n",
        "Index | Label | Data (int)\n",
        ":---: | :---: | :---:\n",
        "0 | d | 14\n",
        "1 | b | -8\n",
        "2 | a | 0\n",
        "3 | c | 3\n",
        "4 | x | 9\n",
        "\n",
        "Note that when we display a Series, it will show labels (if exist) or integer index (otherwise)."
      ]
    },
    {
      "cell_type": "code",
      "execution_count": 8,
      "metadata": {
        "id": "GxGz9biZiHA4",
        "outputId": "a0be5b05-dedd-4fe8-dca7-f71dcdf3f371"
      },
      "outputs": [
        {
          "data": {
            "text/plain": [
              "d    14\n",
              "a    -8\n",
              "b     0\n",
              "c     3\n",
              "x     9\n",
              "dtype: int64"
            ]
          },
          "execution_count": 8,
          "metadata": {},
          "output_type": "execute_result"
        }
      ],
      "source": [
        "# create series with index, which can be numbers or strings\n",
        "s2 = pd.Series([14, -8, 0, 3, 9], index=['d','a','b','c', 'x'])\n",
        "s2"
      ]
    },
    {
      "cell_type": "code",
      "execution_count": 9,
      "metadata": {
        "id": "GMyhV6fJiHA8",
        "outputId": "66bcc73e-c7fc-44ce-f870-bccab48a33ee"
      },
      "outputs": [
        {
          "data": {
            "text/plain": [
              "Index(['d', 'a', 'b', 'c', 'x'], dtype='object')"
            ]
          },
          "execution_count": 9,
          "metadata": {},
          "output_type": "execute_result"
        }
      ],
      "source": [
        "s2.index"
      ]
    },
    {
      "cell_type": "code",
      "execution_count": 10,
      "metadata": {
        "id": "wGbtZYrgiHBA",
        "outputId": "66f5d51e-8d77-4f87-a176-2f5284ef88b7"
      },
      "outputs": [
        {
          "name": "stdout",
          "output_type": "stream",
          "text": [
            "-8\n",
            "-8\n"
          ]
        },
        {
          "name": "stderr",
          "output_type": "stream",
          "text": [
            "C:\\Users\\tonwa\\AppData\\Local\\Temp\\ipykernel_22196\\2101003936.py:3: FutureWarning: Series.__getitem__ treating keys as positions is deprecated. In a future version, integer keys will always be treated as labels (consistent with DataFrame behavior). To access a value by position, use `ser.iloc[pos]`\n",
            "  print(s2[1])\n"
          ]
        }
      ],
      "source": [
        "#Get value in index 'a'\n",
        "print(s2['a'])\n",
        "print(s2[1])"
      ]
    },
    {
      "cell_type": "markdown",
      "metadata": {
        "id": "wDD7C_qqiHBH"
      },
      "source": [
        "# Series Operation"
      ]
    },
    {
      "cell_type": "code",
      "execution_count": 11,
      "metadata": {
        "id": "SyilPt3XiHBH",
        "outputId": "f475ccc2-bc72-47bf-a3d8-8fae86c121c6"
      },
      "outputs": [
        {
          "data": {
            "text/plain": [
              "array([14, -8,  0,  3,  9])"
            ]
          },
          "execution_count": 11,
          "metadata": {},
          "output_type": "execute_result"
        }
      ],
      "source": [
        "s2.values"
      ]
    },
    {
      "cell_type": "code",
      "execution_count": 12,
      "metadata": {
        "id": "bTx8Z-h-iHBL",
        "outputId": "b8017b51-a441-4c94-b83b-fa0e7d987438"
      },
      "outputs": [
        {
          "data": {
            "text/plain": [
              "d    196\n",
              "a     64\n",
              "b      0\n",
              "c      9\n",
              "x     81\n",
              "dtype: int64"
            ]
          },
          "execution_count": 12,
          "metadata": {},
          "output_type": "execute_result"
        }
      ],
      "source": [
        "# Apply with Lambda\n",
        "s2.apply(lambda x : x**2)"
      ]
    },
    {
      "cell_type": "code",
      "execution_count": 13,
      "metadata": {
        "id": "RbcFKpMdiHBO",
        "outputId": "af3c01f9-ce3e-4389-ce79-4493243c4eb7"
      },
      "outputs": [
        {
          "data": {
            "text/plain": [
              "d    196\n",
              "a     64\n",
              "b      0\n",
              "c      9\n",
              "x     81\n",
              "dtype: int64"
            ]
          },
          "execution_count": 13,
          "metadata": {},
          "output_type": "execute_result"
        }
      ],
      "source": [
        "# Apply with method\n",
        "def power(x):\n",
        "    return x**2\n",
        "s2.apply(power)"
      ]
    },
    {
      "cell_type": "code",
      "execution_count": 14,
      "metadata": {
        "id": "PrLzixM4N4_H",
        "outputId": "a5301886-78ba-40ee-9228-daed50d065fd"
      },
      "outputs": [
        {
          "data": {
            "text/plain": [
              "d    14\n",
              "a    -8\n",
              "b     0\n",
              "c     3\n",
              "x     9\n",
              "dtype: int64"
            ]
          },
          "execution_count": 14,
          "metadata": {},
          "output_type": "execute_result"
        }
      ],
      "source": [
        "s2"
      ]
    },
    {
      "cell_type": "markdown",
      "metadata": {
        "id": "8LB4-VBliHBU"
      },
      "source": [
        "# DataFrame"
      ]
    },
    {
      "cell_type": "markdown",
      "metadata": {
        "id": "CEB0WMzdiHBV"
      },
      "source": [
        "## Create DataFrame from List"
      ]
    },
    {
      "cell_type": "markdown",
      "metadata": {
        "id": "xovWG8PuiHBV"
      },
      "source": [
        "There are several approaches to create a DataFrame.  A simple one is to create from dict.\n",
        "We create the following DataFrame:\n",
        "\n",
        "Index | province | year | population\n",
        ":---: | :---: | :---: | :---:\n",
        "0 | Chiang Mai | 2016 | 1630428\n",
        "1 | Chiang Mai | 2017 | 1664012\n",
        "2 | Chiang Mai | 2018 | 1687971\n",
        "3 | Phrae | 2016 | 398936\n",
        "4 | Phrae | 2017 | 410382\n",
        "5 | Phrae | 2018 | 421653"
      ]
    },
    {
      "cell_type": "code",
      "execution_count": 15,
      "metadata": {
        "id": "hTAe8EWKiHBW",
        "outputId": "e6aa047d-3c06-41cc-c4ae-445d0abf4983"
      },
      "outputs": [
        {
          "data": {
            "text/html": [
              "<div>\n",
              "<style scoped>\n",
              "    .dataframe tbody tr th:only-of-type {\n",
              "        vertical-align: middle;\n",
              "    }\n",
              "\n",
              "    .dataframe tbody tr th {\n",
              "        vertical-align: top;\n",
              "    }\n",
              "\n",
              "    .dataframe thead th {\n",
              "        text-align: right;\n",
              "    }\n",
              "</style>\n",
              "<table border=\"1\" class=\"dataframe\">\n",
              "  <thead>\n",
              "    <tr style=\"text-align: right;\">\n",
              "      <th></th>\n",
              "      <th>province</th>\n",
              "      <th>year</th>\n",
              "      <th>population</th>\n",
              "    </tr>\n",
              "  </thead>\n",
              "  <tbody>\n",
              "    <tr>\n",
              "      <th>0</th>\n",
              "      <td>Chiang Mai</td>\n",
              "      <td>2016</td>\n",
              "      <td>1630428</td>\n",
              "    </tr>\n",
              "    <tr>\n",
              "      <th>1</th>\n",
              "      <td>Chiang Mai</td>\n",
              "      <td>2017</td>\n",
              "      <td>1664012</td>\n",
              "    </tr>\n",
              "    <tr>\n",
              "      <th>2</th>\n",
              "      <td>Chiang Mai</td>\n",
              "      <td>2018</td>\n",
              "      <td>1687971</td>\n",
              "    </tr>\n",
              "    <tr>\n",
              "      <th>3</th>\n",
              "      <td>Phrae</td>\n",
              "      <td>2016</td>\n",
              "      <td>398936</td>\n",
              "    </tr>\n",
              "    <tr>\n",
              "      <th>4</th>\n",
              "      <td>Phrae</td>\n",
              "      <td>2017</td>\n",
              "      <td>410382</td>\n",
              "    </tr>\n",
              "    <tr>\n",
              "      <th>5</th>\n",
              "      <td>Phrae</td>\n",
              "      <td>2018</td>\n",
              "      <td>421653</td>\n",
              "    </tr>\n",
              "  </tbody>\n",
              "</table>\n",
              "</div>"
            ],
            "text/plain": [
              "     province  year  population\n",
              "0  Chiang Mai  2016     1630428\n",
              "1  Chiang Mai  2017     1664012\n",
              "2  Chiang Mai  2018     1687971\n",
              "3       Phrae  2016      398936\n",
              "4       Phrae  2017      410382\n",
              "5       Phrae  2018      421653"
            ]
          },
          "execution_count": 15,
          "metadata": {},
          "output_type": "execute_result"
        }
      ],
      "source": [
        "# Create From a List\n",
        "data = [\n",
        "    ['Chiang Mai', 2016, 1630428],\n",
        "    ['Chiang Mai', 2017, 1664012],\n",
        "    ['Chiang Mai', 2018, 1687971],\n",
        "    ['Phrae', 2016, 398936],\n",
        "    ['Phrae', 2017, 410382],\n",
        "    ['Phrae', 2018, 421653]\n",
        "]\n",
        "df = pd.DataFrame(\n",
        "    data=data,\n",
        "    columns=['province','year','population']\n",
        ")\n",
        "df"
      ]
    },
    {
      "cell_type": "code",
      "execution_count": 16,
      "metadata": {
        "id": "ONGYgffciHBY",
        "outputId": "5ee8b2d2-5129-4f5e-80b8-ba1d908061d1"
      },
      "outputs": [
        {
          "data": {
            "text/html": [
              "<div>\n",
              "<style scoped>\n",
              "    .dataframe tbody tr th:only-of-type {\n",
              "        vertical-align: middle;\n",
              "    }\n",
              "\n",
              "    .dataframe tbody tr th {\n",
              "        vertical-align: top;\n",
              "    }\n",
              "\n",
              "    .dataframe thead th {\n",
              "        text-align: right;\n",
              "    }\n",
              "</style>\n",
              "<table border=\"1\" class=\"dataframe\">\n",
              "  <thead>\n",
              "    <tr style=\"text-align: right;\">\n",
              "      <th></th>\n",
              "      <th>province</th>\n",
              "      <th>year</th>\n",
              "      <th>population</th>\n",
              "    </tr>\n",
              "  </thead>\n",
              "  <tbody>\n",
              "    <tr>\n",
              "      <th>0</th>\n",
              "      <td>Chiang Mai</td>\n",
              "      <td>2016</td>\n",
              "      <td>1630428</td>\n",
              "    </tr>\n",
              "    <tr>\n",
              "      <th>1</th>\n",
              "      <td>Chiang Mai</td>\n",
              "      <td>2017</td>\n",
              "      <td>1664012</td>\n",
              "    </tr>\n",
              "    <tr>\n",
              "      <th>2</th>\n",
              "      <td>Chiang Mai</td>\n",
              "      <td>2018</td>\n",
              "      <td>1687971</td>\n",
              "    </tr>\n",
              "    <tr>\n",
              "      <th>3</th>\n",
              "      <td>Phrae</td>\n",
              "      <td>2016</td>\n",
              "      <td>398936</td>\n",
              "    </tr>\n",
              "    <tr>\n",
              "      <th>4</th>\n",
              "      <td>Phrae</td>\n",
              "      <td>2017</td>\n",
              "      <td>410382</td>\n",
              "    </tr>\n",
              "    <tr>\n",
              "      <th>5</th>\n",
              "      <td>Phrae</td>\n",
              "      <td>2018</td>\n",
              "      <td>421653</td>\n",
              "    </tr>\n",
              "  </tbody>\n",
              "</table>\n",
              "</div>"
            ],
            "text/plain": [
              "     province  year  population\n",
              "0  Chiang Mai  2016     1630428\n",
              "1  Chiang Mai  2017     1664012\n",
              "2  Chiang Mai  2018     1687971\n",
              "3       Phrae  2016      398936\n",
              "4       Phrae  2017      410382\n",
              "5       Phrae  2018      421653"
            ]
          },
          "execution_count": 16,
          "metadata": {},
          "output_type": "execute_result"
        }
      ],
      "source": [
        "# Create From a Dict\n",
        "data = {\n",
        "    'province': ['Chiang Mai', 'Chiang Mai', 'Chiang Mai', 'Phrae', 'Phrae', 'Phrae'],\n",
        "    'year': [2016, 2017, 2018, 2016, 2017, 2018],\n",
        "    'population': [1630428, 1664012, 1687971, 398936, 410382, 421653]\n",
        "}\n",
        "df = pd.DataFrame(data)\n",
        "df"
      ]
    },
    {
      "cell_type": "code",
      "execution_count": 17,
      "metadata": {
        "id": "KAMgnRxziHBe",
        "outputId": "6427e023-b694-415b-cb62-eeb22cbbea74"
      },
      "outputs": [
        {
          "data": {
            "text/plain": [
              "[['Chiang Mai', 2016, 1630428],\n",
              " ['Chiang Mai', 2017, 1664012],\n",
              " ['Chiang Mai', 2018, 1687971],\n",
              " ['Phrae', 2016, 398936],\n",
              " ['Phrae', 2017, 410382],\n",
              " ['Phrae', 2018, 421653]]"
            ]
          },
          "execution_count": 17,
          "metadata": {},
          "output_type": "execute_result"
        }
      ],
      "source": [
        "# Pandas to List\n",
        "df.values.tolist()"
      ]
    },
    {
      "cell_type": "markdown",
      "metadata": {
        "id": "mgLvfWItiHBh"
      },
      "source": [
        "## Create DataFrame from File"
      ]
    },
    {
      "cell_type": "markdown",
      "metadata": {
        "id": "8An1gYRiiT7J"
      },
      "source": [
        "### Download Data"
      ]
    },
    {
      "cell_type": "markdown",
      "metadata": {
        "id": "-cBxxR8PiHBi"
      },
      "source": [
        "### Read File"
      ]
    },
    {
      "cell_type": "code",
      "execution_count": 18,
      "metadata": {
        "id": "_4Mn5_1_iHBi",
        "outputId": "806b8514-e184-4934-b3e4-e98211241fd8"
      },
      "outputs": [
        {
          "data": {
            "text/html": [
              "<div>\n",
              "<style scoped>\n",
              "    .dataframe tbody tr th:only-of-type {\n",
              "        vertical-align: middle;\n",
              "    }\n",
              "\n",
              "    .dataframe tbody tr th {\n",
              "        vertical-align: top;\n",
              "    }\n",
              "\n",
              "    .dataframe thead th {\n",
              "        text-align: right;\n",
              "    }\n",
              "</style>\n",
              "<table border=\"1\" class=\"dataframe\">\n",
              "  <thead>\n",
              "    <tr style=\"text-align: right;\">\n",
              "      <th></th>\n",
              "      <th>province</th>\n",
              "      <th>year</th>\n",
              "      <th>population</th>\n",
              "    </tr>\n",
              "  </thead>\n",
              "  <tbody>\n",
              "    <tr>\n",
              "      <th>0</th>\n",
              "      <td>Chiang Mai</td>\n",
              "      <td>2016</td>\n",
              "      <td>1630428</td>\n",
              "    </tr>\n",
              "    <tr>\n",
              "      <th>1</th>\n",
              "      <td>Chiang Mai</td>\n",
              "      <td>2017</td>\n",
              "      <td>1664012</td>\n",
              "    </tr>\n",
              "    <tr>\n",
              "      <th>2</th>\n",
              "      <td>Chiang Mai</td>\n",
              "      <td>2018</td>\n",
              "      <td>1687971</td>\n",
              "    </tr>\n",
              "    <tr>\n",
              "      <th>3</th>\n",
              "      <td>Phrae</td>\n",
              "      <td>2016</td>\n",
              "      <td>398936</td>\n",
              "    </tr>\n",
              "    <tr>\n",
              "      <th>4</th>\n",
              "      <td>Phrae</td>\n",
              "      <td>2017</td>\n",
              "      <td>410382</td>\n",
              "    </tr>\n",
              "    <tr>\n",
              "      <th>5</th>\n",
              "      <td>Phrae</td>\n",
              "      <td>2018</td>\n",
              "      <td>421653</td>\n",
              "    </tr>\n",
              "  </tbody>\n",
              "</table>\n",
              "</div>"
            ],
            "text/plain": [
              "     province  year  population\n",
              "0  Chiang Mai  2016     1630428\n",
              "1  Chiang Mai  2017     1664012\n",
              "2  Chiang Mai  2018     1687971\n",
              "3       Phrae  2016      398936\n",
              "4       Phrae  2017      410382\n",
              "5       Phrae  2018      421653"
            ]
          },
          "execution_count": 18,
          "metadata": {},
          "output_type": "execute_result"
        }
      ],
      "source": [
        "df = pd.read_csv('https://github.com/kaopanboonyuen/2110446_DataScience_2021s2/raw/main/datasets/sample.csv')\n",
        "df"
      ]
    },
    {
      "cell_type": "code",
      "execution_count": 20,
      "metadata": {
        "id": "RMH6neN4iHBk",
        "outputId": "e658c99e-1a58-4131-ffe6-36d4bef114fd"
      },
      "outputs": [
        {
          "data": {
            "text/html": [
              "<div>\n",
              "<style scoped>\n",
              "    .dataframe tbody tr th:only-of-type {\n",
              "        vertical-align: middle;\n",
              "    }\n",
              "\n",
              "    .dataframe tbody tr th {\n",
              "        vertical-align: top;\n",
              "    }\n",
              "\n",
              "    .dataframe thead th {\n",
              "        text-align: right;\n",
              "    }\n",
              "</style>\n",
              "<table border=\"1\" class=\"dataframe\">\n",
              "  <thead>\n",
              "    <tr style=\"text-align: right;\">\n",
              "      <th></th>\n",
              "      <th>province</th>\n",
              "      <th>year</th>\n",
              "      <th>population</th>\n",
              "    </tr>\n",
              "  </thead>\n",
              "  <tbody>\n",
              "    <tr>\n",
              "      <th>0</th>\n",
              "      <td>Chiang Mai</td>\n",
              "      <td>2016</td>\n",
              "      <td>1630428</td>\n",
              "    </tr>\n",
              "    <tr>\n",
              "      <th>1</th>\n",
              "      <td>Chiang Mai</td>\n",
              "      <td>2017</td>\n",
              "      <td>1664012</td>\n",
              "    </tr>\n",
              "    <tr>\n",
              "      <th>2</th>\n",
              "      <td>Chiang Mai</td>\n",
              "      <td>2018</td>\n",
              "      <td>1687971</td>\n",
              "    </tr>\n",
              "    <tr>\n",
              "      <th>3</th>\n",
              "      <td>Phrae</td>\n",
              "      <td>2016</td>\n",
              "      <td>398936</td>\n",
              "    </tr>\n",
              "    <tr>\n",
              "      <th>4</th>\n",
              "      <td>Phrae</td>\n",
              "      <td>2017</td>\n",
              "      <td>410382</td>\n",
              "    </tr>\n",
              "    <tr>\n",
              "      <th>5</th>\n",
              "      <td>Phrae</td>\n",
              "      <td>2018</td>\n",
              "      <td>421653</td>\n",
              "    </tr>\n",
              "  </tbody>\n",
              "</table>\n",
              "</div>"
            ],
            "text/plain": [
              "     province  year  population\n",
              "0  Chiang Mai  2016     1630428\n",
              "1  Chiang Mai  2017     1664012\n",
              "2  Chiang Mai  2018     1687971\n",
              "3       Phrae  2016      398936\n",
              "4       Phrae  2017      410382\n",
              "5       Phrae  2018      421653"
            ]
          },
          "execution_count": 20,
          "metadata": {},
          "output_type": "execute_result"
        }
      ],
      "source": [
        "df = pd.read_excel('https://github.com/kaopanboonyuen/2110446_DataScience_2021s2/raw/main/datasets/sample.xlsx', sheet_name='sheet1')\n",
        "df"
      ]
    },
    {
      "cell_type": "code",
      "execution_count": 21,
      "metadata": {
        "id": "S1lot6iDiHBn",
        "outputId": "d52f46ed-9b8c-4ae0-f3ad-4a3380ed1936"
      },
      "outputs": [
        {
          "data": {
            "text/html": [
              "<div>\n",
              "<style scoped>\n",
              "    .dataframe tbody tr th:only-of-type {\n",
              "        vertical-align: middle;\n",
              "    }\n",
              "\n",
              "    .dataframe tbody tr th {\n",
              "        vertical-align: top;\n",
              "    }\n",
              "\n",
              "    .dataframe thead th {\n",
              "        text-align: right;\n",
              "    }\n",
              "</style>\n",
              "<table border=\"1\" class=\"dataframe\">\n",
              "  <thead>\n",
              "    <tr style=\"text-align: right;\">\n",
              "      <th></th>\n",
              "      <th>TARGET_B</th>\n",
              "      <th>ID</th>\n",
              "      <th>TARGET_D</th>\n",
              "      <th>GiftCnt36</th>\n",
              "      <th>GiftCntAll</th>\n",
              "      <th>GiftCntCard36</th>\n",
              "      <th>GiftCntCardAll</th>\n",
              "      <th>GiftAvgLast</th>\n",
              "      <th>GiftAvg36</th>\n",
              "      <th>GiftAvgAll</th>\n",
              "      <th>...</th>\n",
              "      <th>PromCntCardAll</th>\n",
              "      <th>StatusCat96NK</th>\n",
              "      <th>StatusCatStarAll</th>\n",
              "      <th>DemCluster</th>\n",
              "      <th>DemAge</th>\n",
              "      <th>DemGender</th>\n",
              "      <th>DemHomeOwner</th>\n",
              "      <th>DemMedHomeValue</th>\n",
              "      <th>DemPctVeterans</th>\n",
              "      <th>DemMedIncome</th>\n",
              "    </tr>\n",
              "  </thead>\n",
              "  <tbody>\n",
              "    <tr>\n",
              "      <th>0</th>\n",
              "      <td>0.0</td>\n",
              "      <td>b'00014974'</td>\n",
              "      <td>NaN</td>\n",
              "      <td>2.0</td>\n",
              "      <td>4.0</td>\n",
              "      <td>1.0</td>\n",
              "      <td>3.0</td>\n",
              "      <td>17.0</td>\n",
              "      <td>13.50</td>\n",
              "      <td>9.25</td>\n",
              "      <td>...</td>\n",
              "      <td>13.0</td>\n",
              "      <td>b'A'</td>\n",
              "      <td>0.0</td>\n",
              "      <td>b'00'</td>\n",
              "      <td>NaN</td>\n",
              "      <td>b'F'</td>\n",
              "      <td>b'U'</td>\n",
              "      <td>0.0</td>\n",
              "      <td>0.0</td>\n",
              "      <td>0.0</td>\n",
              "    </tr>\n",
              "    <tr>\n",
              "      <th>1</th>\n",
              "      <td>0.0</td>\n",
              "      <td>b'00006294'</td>\n",
              "      <td>NaN</td>\n",
              "      <td>1.0</td>\n",
              "      <td>8.0</td>\n",
              "      <td>0.0</td>\n",
              "      <td>3.0</td>\n",
              "      <td>20.0</td>\n",
              "      <td>20.00</td>\n",
              "      <td>15.88</td>\n",
              "      <td>...</td>\n",
              "      <td>24.0</td>\n",
              "      <td>b'A'</td>\n",
              "      <td>0.0</td>\n",
              "      <td>b'23'</td>\n",
              "      <td>67.0</td>\n",
              "      <td>b'F'</td>\n",
              "      <td>b'U'</td>\n",
              "      <td>186800.0</td>\n",
              "      <td>85.0</td>\n",
              "      <td>0.0</td>\n",
              "    </tr>\n",
              "    <tr>\n",
              "      <th>2</th>\n",
              "      <td>1.0</td>\n",
              "      <td>b'00046110'</td>\n",
              "      <td>4.0</td>\n",
              "      <td>6.0</td>\n",
              "      <td>41.0</td>\n",
              "      <td>3.0</td>\n",
              "      <td>20.0</td>\n",
              "      <td>6.0</td>\n",
              "      <td>5.17</td>\n",
              "      <td>3.73</td>\n",
              "      <td>...</td>\n",
              "      <td>22.0</td>\n",
              "      <td>b'S'</td>\n",
              "      <td>1.0</td>\n",
              "      <td>b'00'</td>\n",
              "      <td>NaN</td>\n",
              "      <td>b'M'</td>\n",
              "      <td>b'U'</td>\n",
              "      <td>87600.0</td>\n",
              "      <td>36.0</td>\n",
              "      <td>38750.0</td>\n",
              "    </tr>\n",
              "    <tr>\n",
              "      <th>3</th>\n",
              "      <td>1.0</td>\n",
              "      <td>b'00185937'</td>\n",
              "      <td>10.0</td>\n",
              "      <td>3.0</td>\n",
              "      <td>12.0</td>\n",
              "      <td>3.0</td>\n",
              "      <td>8.0</td>\n",
              "      <td>10.0</td>\n",
              "      <td>8.67</td>\n",
              "      <td>8.50</td>\n",
              "      <td>...</td>\n",
              "      <td>16.0</td>\n",
              "      <td>b'E'</td>\n",
              "      <td>1.0</td>\n",
              "      <td>b'00'</td>\n",
              "      <td>NaN</td>\n",
              "      <td>b'M'</td>\n",
              "      <td>b'U'</td>\n",
              "      <td>139200.0</td>\n",
              "      <td>27.0</td>\n",
              "      <td>38942.0</td>\n",
              "    </tr>\n",
              "    <tr>\n",
              "      <th>4</th>\n",
              "      <td>0.0</td>\n",
              "      <td>b'00029637'</td>\n",
              "      <td>NaN</td>\n",
              "      <td>1.0</td>\n",
              "      <td>1.0</td>\n",
              "      <td>1.0</td>\n",
              "      <td>1.0</td>\n",
              "      <td>20.0</td>\n",
              "      <td>20.00</td>\n",
              "      <td>20.00</td>\n",
              "      <td>...</td>\n",
              "      <td>6.0</td>\n",
              "      <td>b'F'</td>\n",
              "      <td>0.0</td>\n",
              "      <td>b'35'</td>\n",
              "      <td>53.0</td>\n",
              "      <td>b'M'</td>\n",
              "      <td>b'U'</td>\n",
              "      <td>168100.0</td>\n",
              "      <td>37.0</td>\n",
              "      <td>71509.0</td>\n",
              "    </tr>\n",
              "    <tr>\n",
              "      <th>...</th>\n",
              "      <td>...</td>\n",
              "      <td>...</td>\n",
              "      <td>...</td>\n",
              "      <td>...</td>\n",
              "      <td>...</td>\n",
              "      <td>...</td>\n",
              "      <td>...</td>\n",
              "      <td>...</td>\n",
              "      <td>...</td>\n",
              "      <td>...</td>\n",
              "      <td>...</td>\n",
              "      <td>...</td>\n",
              "      <td>...</td>\n",
              "      <td>...</td>\n",
              "      <td>...</td>\n",
              "      <td>...</td>\n",
              "      <td>...</td>\n",
              "      <td>...</td>\n",
              "      <td>...</td>\n",
              "      <td>...</td>\n",
              "      <td>...</td>\n",
              "    </tr>\n",
              "    <tr>\n",
              "      <th>9681</th>\n",
              "      <td>1.0</td>\n",
              "      <td>b'00002796'</td>\n",
              "      <td>25.0</td>\n",
              "      <td>2.0</td>\n",
              "      <td>2.0</td>\n",
              "      <td>2.0</td>\n",
              "      <td>2.0</td>\n",
              "      <td>10.0</td>\n",
              "      <td>15.00</td>\n",
              "      <td>15.00</td>\n",
              "      <td>...</td>\n",
              "      <td>11.0</td>\n",
              "      <td>b'N'</td>\n",
              "      <td>0.0</td>\n",
              "      <td>b'44'</td>\n",
              "      <td>NaN</td>\n",
              "      <td>b'M'</td>\n",
              "      <td>b'H'</td>\n",
              "      <td>68200.0</td>\n",
              "      <td>38.0</td>\n",
              "      <td>45909.0</td>\n",
              "    </tr>\n",
              "    <tr>\n",
              "      <th>9682</th>\n",
              "      <td>0.0</td>\n",
              "      <td>b'00184939'</td>\n",
              "      <td>NaN</td>\n",
              "      <td>3.0</td>\n",
              "      <td>4.0</td>\n",
              "      <td>1.0</td>\n",
              "      <td>1.0</td>\n",
              "      <td>10.0</td>\n",
              "      <td>13.33</td>\n",
              "      <td>11.50</td>\n",
              "      <td>...</td>\n",
              "      <td>13.0</td>\n",
              "      <td>b'A'</td>\n",
              "      <td>0.0</td>\n",
              "      <td>b'44'</td>\n",
              "      <td>NaN</td>\n",
              "      <td>b'U'</td>\n",
              "      <td>b'H'</td>\n",
              "      <td>71900.0</td>\n",
              "      <td>35.0</td>\n",
              "      <td>50530.0</td>\n",
              "    </tr>\n",
              "    <tr>\n",
              "      <th>9683</th>\n",
              "      <td>1.0</td>\n",
              "      <td>b'00184974'</td>\n",
              "      <td>10.0</td>\n",
              "      <td>9.0</td>\n",
              "      <td>14.0</td>\n",
              "      <td>5.0</td>\n",
              "      <td>7.0</td>\n",
              "      <td>10.0</td>\n",
              "      <td>8.78</td>\n",
              "      <td>7.71</td>\n",
              "      <td>...</td>\n",
              "      <td>18.0</td>\n",
              "      <td>b'S'</td>\n",
              "      <td>1.0</td>\n",
              "      <td>b'40'</td>\n",
              "      <td>71.0</td>\n",
              "      <td>b'F'</td>\n",
              "      <td>b'H'</td>\n",
              "      <td>115700.0</td>\n",
              "      <td>32.0</td>\n",
              "      <td>0.0</td>\n",
              "    </tr>\n",
              "    <tr>\n",
              "      <th>9684</th>\n",
              "      <td>0.0</td>\n",
              "      <td>b'00184994'</td>\n",
              "      <td>NaN</td>\n",
              "      <td>2.0</td>\n",
              "      <td>7.0</td>\n",
              "      <td>0.0</td>\n",
              "      <td>1.0</td>\n",
              "      <td>5.0</td>\n",
              "      <td>12.50</td>\n",
              "      <td>7.43</td>\n",
              "      <td>...</td>\n",
              "      <td>16.0</td>\n",
              "      <td>b'A'</td>\n",
              "      <td>0.0</td>\n",
              "      <td>b'40'</td>\n",
              "      <td>NaN</td>\n",
              "      <td>b'M'</td>\n",
              "      <td>b'H'</td>\n",
              "      <td>106300.0</td>\n",
              "      <td>32.0</td>\n",
              "      <td>62717.0</td>\n",
              "    </tr>\n",
              "    <tr>\n",
              "      <th>9685</th>\n",
              "      <td>0.0</td>\n",
              "      <td>b'00001928'</td>\n",
              "      <td>NaN</td>\n",
              "      <td>8.0</td>\n",
              "      <td>15.0</td>\n",
              "      <td>7.0</td>\n",
              "      <td>10.0</td>\n",
              "      <td>5.0</td>\n",
              "      <td>4.88</td>\n",
              "      <td>4.53</td>\n",
              "      <td>...</td>\n",
              "      <td>21.0</td>\n",
              "      <td>b'A'</td>\n",
              "      <td>1.0</td>\n",
              "      <td>b'38'</td>\n",
              "      <td>81.0</td>\n",
              "      <td>b'F'</td>\n",
              "      <td>b'H'</td>\n",
              "      <td>110400.0</td>\n",
              "      <td>36.0</td>\n",
              "      <td>59813.0</td>\n",
              "    </tr>\n",
              "  </tbody>\n",
              "</table>\n",
              "<p>9686 rows × 28 columns</p>\n",
              "</div>"
            ],
            "text/plain": [
              "      TARGET_B           ID  TARGET_D  GiftCnt36  GiftCntAll  GiftCntCard36  \\\n",
              "0          0.0  b'00014974'       NaN        2.0         4.0            1.0   \n",
              "1          0.0  b'00006294'       NaN        1.0         8.0            0.0   \n",
              "2          1.0  b'00046110'       4.0        6.0        41.0            3.0   \n",
              "3          1.0  b'00185937'      10.0        3.0        12.0            3.0   \n",
              "4          0.0  b'00029637'       NaN        1.0         1.0            1.0   \n",
              "...        ...          ...       ...        ...         ...            ...   \n",
              "9681       1.0  b'00002796'      25.0        2.0         2.0            2.0   \n",
              "9682       0.0  b'00184939'       NaN        3.0         4.0            1.0   \n",
              "9683       1.0  b'00184974'      10.0        9.0        14.0            5.0   \n",
              "9684       0.0  b'00184994'       NaN        2.0         7.0            0.0   \n",
              "9685       0.0  b'00001928'       NaN        8.0        15.0            7.0   \n",
              "\n",
              "      GiftCntCardAll  GiftAvgLast  GiftAvg36  GiftAvgAll  ...  PromCntCardAll  \\\n",
              "0                3.0         17.0      13.50        9.25  ...            13.0   \n",
              "1                3.0         20.0      20.00       15.88  ...            24.0   \n",
              "2               20.0          6.0       5.17        3.73  ...            22.0   \n",
              "3                8.0         10.0       8.67        8.50  ...            16.0   \n",
              "4                1.0         20.0      20.00       20.00  ...             6.0   \n",
              "...              ...          ...        ...         ...  ...             ...   \n",
              "9681             2.0         10.0      15.00       15.00  ...            11.0   \n",
              "9682             1.0         10.0      13.33       11.50  ...            13.0   \n",
              "9683             7.0         10.0       8.78        7.71  ...            18.0   \n",
              "9684             1.0          5.0      12.50        7.43  ...            16.0   \n",
              "9685            10.0          5.0       4.88        4.53  ...            21.0   \n",
              "\n",
              "      StatusCat96NK  StatusCatStarAll  DemCluster  DemAge  DemGender  \\\n",
              "0              b'A'               0.0       b'00'     NaN       b'F'   \n",
              "1              b'A'               0.0       b'23'    67.0       b'F'   \n",
              "2              b'S'               1.0       b'00'     NaN       b'M'   \n",
              "3              b'E'               1.0       b'00'     NaN       b'M'   \n",
              "4              b'F'               0.0       b'35'    53.0       b'M'   \n",
              "...             ...               ...         ...     ...        ...   \n",
              "9681           b'N'               0.0       b'44'     NaN       b'M'   \n",
              "9682           b'A'               0.0       b'44'     NaN       b'U'   \n",
              "9683           b'S'               1.0       b'40'    71.0       b'F'   \n",
              "9684           b'A'               0.0       b'40'     NaN       b'M'   \n",
              "9685           b'A'               1.0       b'38'    81.0       b'F'   \n",
              "\n",
              "      DemHomeOwner  DemMedHomeValue  DemPctVeterans DemMedIncome  \n",
              "0             b'U'              0.0             0.0          0.0  \n",
              "1             b'U'         186800.0            85.0          0.0  \n",
              "2             b'U'          87600.0            36.0      38750.0  \n",
              "3             b'U'         139200.0            27.0      38942.0  \n",
              "4             b'U'         168100.0            37.0      71509.0  \n",
              "...            ...              ...             ...          ...  \n",
              "9681          b'H'          68200.0            38.0      45909.0  \n",
              "9682          b'H'          71900.0            35.0      50530.0  \n",
              "9683          b'H'         115700.0            32.0          0.0  \n",
              "9684          b'H'         106300.0            32.0      62717.0  \n",
              "9685          b'H'         110400.0            36.0      59813.0  \n",
              "\n",
              "[9686 rows x 28 columns]"
            ]
          },
          "execution_count": 21,
          "metadata": {},
          "output_type": "execute_result"
        }
      ],
      "source": [
        "df2 = pd.read_sas('https://github.com/kaopanboonyuen/2110446_DataScience_2021s2/raw/main/datasets/pva97nk.sas7bdat')\n",
        "df2"
      ]
    },
    {
      "cell_type": "markdown",
      "metadata": {
        "id": "D7rfb2HviHBq"
      },
      "source": [
        "### Write File"
      ]
    },
    {
      "cell_type": "code",
      "execution_count": 22,
      "metadata": {
        "id": "3NI4bcRKiHBq"
      },
      "outputs": [],
      "source": [
        "df.to_csv('sample_test.csv', index=False)"
      ]
    },
    {
      "cell_type": "code",
      "execution_count": 23,
      "metadata": {
        "id": "jZq9ckbeiHBt"
      },
      "outputs": [],
      "source": [
        "df.to_excel('sample_test.xlsx', sheet_name='sheet1', index=False)"
      ]
    },
    {
      "cell_type": "markdown",
      "metadata": {
        "id": "lspQn9feiHBv"
      },
      "source": [
        "## Index"
      ]
    },
    {
      "cell_type": "code",
      "execution_count": 43,
      "metadata": {
        "id": "JXkhA468iHBv",
        "outputId": "a3702859-51c3-4c82-865e-9dd084516988"
      },
      "outputs": [
        {
          "data": {
            "text/plain": [
              "RangeIndex(start=0, stop=6, step=1)"
            ]
          },
          "execution_count": 43,
          "metadata": {},
          "output_type": "execute_result"
        }
      ],
      "source": [
        "# Index\n",
        "df.set_index('province')\n",
        "# df['year']\n",
        "df.index"
      ]
    },
    {
      "cell_type": "code",
      "execution_count": 41,
      "metadata": {
        "id": "iyv_jiVLiHB2",
        "outputId": "ab7344c2-eee5-4341-fe88-2b46ffaa36b0"
      },
      "outputs": [
        {
          "data": {
            "text/html": [
              "<div>\n",
              "<style scoped>\n",
              "    .dataframe tbody tr th:only-of-type {\n",
              "        vertical-align: middle;\n",
              "    }\n",
              "\n",
              "    .dataframe tbody tr th {\n",
              "        vertical-align: top;\n",
              "    }\n",
              "\n",
              "    .dataframe thead th {\n",
              "        text-align: right;\n",
              "    }\n",
              "</style>\n",
              "<table border=\"1\" class=\"dataframe\">\n",
              "  <thead>\n",
              "    <tr style=\"text-align: right;\">\n",
              "      <th></th>\n",
              "      <th></th>\n",
              "      <th>population</th>\n",
              "    </tr>\n",
              "    <tr>\n",
              "      <th>province</th>\n",
              "      <th>year</th>\n",
              "      <th></th>\n",
              "    </tr>\n",
              "  </thead>\n",
              "  <tbody>\n",
              "    <tr>\n",
              "      <th rowspan=\"3\" valign=\"top\">Chiang Mai</th>\n",
              "      <th>2016</th>\n",
              "      <td>1630428</td>\n",
              "    </tr>\n",
              "    <tr>\n",
              "      <th>2017</th>\n",
              "      <td>1664012</td>\n",
              "    </tr>\n",
              "    <tr>\n",
              "      <th>2018</th>\n",
              "      <td>1687971</td>\n",
              "    </tr>\n",
              "    <tr>\n",
              "      <th rowspan=\"3\" valign=\"top\">Phrae</th>\n",
              "      <th>2016</th>\n",
              "      <td>398936</td>\n",
              "    </tr>\n",
              "    <tr>\n",
              "      <th>2017</th>\n",
              "      <td>410382</td>\n",
              "    </tr>\n",
              "    <tr>\n",
              "      <th>2018</th>\n",
              "      <td>421653</td>\n",
              "    </tr>\n",
              "  </tbody>\n",
              "</table>\n",
              "</div>"
            ],
            "text/plain": [
              "                 population\n",
              "province   year            \n",
              "Chiang Mai 2016     1630428\n",
              "           2017     1664012\n",
              "           2018     1687971\n",
              "Phrae      2016      398936\n",
              "           2017      410382\n",
              "           2018      421653"
            ]
          },
          "execution_count": 41,
          "metadata": {},
          "output_type": "execute_result"
        }
      ],
      "source": [
        "# Index\n",
        "df2 = df.set_index(['province','year'])\n",
        "df2"
      ]
    },
    {
      "cell_type": "code",
      "execution_count": 42,
      "metadata": {},
      "outputs": [
        {
          "data": {
            "text/plain": [
              "MultiIndex([('Chiang Mai', 2016),\n",
              "            ('Chiang Mai', 2017),\n",
              "            ('Chiang Mai', 2018),\n",
              "            (     'Phrae', 2016),\n",
              "            (     'Phrae', 2017),\n",
              "            (     'Phrae', 2018)],\n",
              "           names=['province', 'year'])"
            ]
          },
          "execution_count": 42,
          "metadata": {},
          "output_type": "execute_result"
        }
      ],
      "source": [
        "df2.index"
      ]
    },
    {
      "cell_type": "code",
      "execution_count": 49,
      "metadata": {},
      "outputs": [
        {
          "data": {
            "text/plain": [
              "population    1630428\n",
              "Name: (Chiang Mai, 2016), dtype: int64"
            ]
          },
          "execution_count": 49,
          "metadata": {},
          "output_type": "execute_result"
        }
      ],
      "source": [
        "df2.loc['Chiang Mai',2016]"
      ]
    },
    {
      "cell_type": "code",
      "execution_count": 50,
      "metadata": {
        "id": "DRNlEBhdiHB7",
        "outputId": "08c1fdf7-7cfc-4c88-fc5d-8d18e4c1e99d",
        "scrolled": true
      },
      "outputs": [
        {
          "data": {
            "text/html": [
              "<div>\n",
              "<style scoped>\n",
              "    .dataframe tbody tr th:only-of-type {\n",
              "        vertical-align: middle;\n",
              "    }\n",
              "\n",
              "    .dataframe tbody tr th {\n",
              "        vertical-align: top;\n",
              "    }\n",
              "\n",
              "    .dataframe thead th {\n",
              "        text-align: right;\n",
              "    }\n",
              "</style>\n",
              "<table border=\"1\" class=\"dataframe\">\n",
              "  <thead>\n",
              "    <tr style=\"text-align: right;\">\n",
              "      <th></th>\n",
              "      <th>province</th>\n",
              "      <th>year</th>\n",
              "      <th>population</th>\n",
              "    </tr>\n",
              "  </thead>\n",
              "  <tbody>\n",
              "    <tr>\n",
              "      <th>0</th>\n",
              "      <td>Chiang Mai</td>\n",
              "      <td>2016</td>\n",
              "      <td>1630428</td>\n",
              "    </tr>\n",
              "    <tr>\n",
              "      <th>1</th>\n",
              "      <td>Chiang Mai</td>\n",
              "      <td>2017</td>\n",
              "      <td>1664012</td>\n",
              "    </tr>\n",
              "    <tr>\n",
              "      <th>2</th>\n",
              "      <td>Chiang Mai</td>\n",
              "      <td>2018</td>\n",
              "      <td>1687971</td>\n",
              "    </tr>\n",
              "    <tr>\n",
              "      <th>3</th>\n",
              "      <td>Phrae</td>\n",
              "      <td>2016</td>\n",
              "      <td>398936</td>\n",
              "    </tr>\n",
              "    <tr>\n",
              "      <th>4</th>\n",
              "      <td>Phrae</td>\n",
              "      <td>2017</td>\n",
              "      <td>410382</td>\n",
              "    </tr>\n",
              "    <tr>\n",
              "      <th>5</th>\n",
              "      <td>Phrae</td>\n",
              "      <td>2018</td>\n",
              "      <td>421653</td>\n",
              "    </tr>\n",
              "  </tbody>\n",
              "</table>\n",
              "</div>"
            ],
            "text/plain": [
              "     province  year  population\n",
              "0  Chiang Mai  2016     1630428\n",
              "1  Chiang Mai  2017     1664012\n",
              "2  Chiang Mai  2018     1687971\n",
              "3       Phrae  2016      398936\n",
              "4       Phrae  2017      410382\n",
              "5       Phrae  2018      421653"
            ]
          },
          "execution_count": 50,
          "metadata": {},
          "output_type": "execute_result"
        }
      ],
      "source": [
        "df2.reset_index()"
      ]
    },
    {
      "cell_type": "markdown",
      "metadata": {
        "id": "ZzoKCDfYiHB-"
      },
      "source": [
        "## Inspecting Data"
      ]
    },
    {
      "cell_type": "markdown",
      "metadata": {
        "id": "rqaJ-bqciHB_"
      },
      "source": [
        "### Row"
      ]
    },
    {
      "cell_type": "markdown",
      "metadata": {
        "id": "NZ_7JT0CiHB_"
      },
      "source": [
        "#### View"
      ]
    },
    {
      "cell_type": "code",
      "execution_count": 51,
      "metadata": {
        "id": "rVDMNZ60iHB_",
        "outputId": "d996e79f-f547-498f-88ee-6a422c95e368"
      },
      "outputs": [
        {
          "data": {
            "text/html": [
              "<div>\n",
              "<style scoped>\n",
              "    .dataframe tbody tr th:only-of-type {\n",
              "        vertical-align: middle;\n",
              "    }\n",
              "\n",
              "    .dataframe tbody tr th {\n",
              "        vertical-align: top;\n",
              "    }\n",
              "\n",
              "    .dataframe thead th {\n",
              "        text-align: right;\n",
              "    }\n",
              "</style>\n",
              "<table border=\"1\" class=\"dataframe\">\n",
              "  <thead>\n",
              "    <tr style=\"text-align: right;\">\n",
              "      <th></th>\n",
              "      <th>province</th>\n",
              "      <th>year</th>\n",
              "      <th>population</th>\n",
              "    </tr>\n",
              "  </thead>\n",
              "  <tbody>\n",
              "    <tr>\n",
              "      <th>0</th>\n",
              "      <td>Chiang Mai</td>\n",
              "      <td>2016</td>\n",
              "      <td>1630428</td>\n",
              "    </tr>\n",
              "    <tr>\n",
              "      <th>1</th>\n",
              "      <td>Chiang Mai</td>\n",
              "      <td>2017</td>\n",
              "      <td>1664012</td>\n",
              "    </tr>\n",
              "    <tr>\n",
              "      <th>2</th>\n",
              "      <td>Chiang Mai</td>\n",
              "      <td>2018</td>\n",
              "      <td>1687971</td>\n",
              "    </tr>\n",
              "  </tbody>\n",
              "</table>\n",
              "</div>"
            ],
            "text/plain": [
              "     province  year  population\n",
              "0  Chiang Mai  2016     1630428\n",
              "1  Chiang Mai  2017     1664012\n",
              "2  Chiang Mai  2018     1687971"
            ]
          },
          "execution_count": 51,
          "metadata": {},
          "output_type": "execute_result"
        }
      ],
      "source": [
        "df.head(3)"
      ]
    },
    {
      "cell_type": "code",
      "execution_count": 52,
      "metadata": {
        "id": "luFo6_ePiHCC",
        "outputId": "2e2e8d4d-6fe3-4d8d-f6e6-e053ac6df64b"
      },
      "outputs": [
        {
          "data": {
            "text/html": [
              "<div>\n",
              "<style scoped>\n",
              "    .dataframe tbody tr th:only-of-type {\n",
              "        vertical-align: middle;\n",
              "    }\n",
              "\n",
              "    .dataframe tbody tr th {\n",
              "        vertical-align: top;\n",
              "    }\n",
              "\n",
              "    .dataframe thead th {\n",
              "        text-align: right;\n",
              "    }\n",
              "</style>\n",
              "<table border=\"1\" class=\"dataframe\">\n",
              "  <thead>\n",
              "    <tr style=\"text-align: right;\">\n",
              "      <th></th>\n",
              "      <th>province</th>\n",
              "      <th>year</th>\n",
              "      <th>population</th>\n",
              "    </tr>\n",
              "  </thead>\n",
              "  <tbody>\n",
              "    <tr>\n",
              "      <th>3</th>\n",
              "      <td>Phrae</td>\n",
              "      <td>2016</td>\n",
              "      <td>398936</td>\n",
              "    </tr>\n",
              "    <tr>\n",
              "      <th>4</th>\n",
              "      <td>Phrae</td>\n",
              "      <td>2017</td>\n",
              "      <td>410382</td>\n",
              "    </tr>\n",
              "    <tr>\n",
              "      <th>5</th>\n",
              "      <td>Phrae</td>\n",
              "      <td>2018</td>\n",
              "      <td>421653</td>\n",
              "    </tr>\n",
              "  </tbody>\n",
              "</table>\n",
              "</div>"
            ],
            "text/plain": [
              "  province  year  population\n",
              "3    Phrae  2016      398936\n",
              "4    Phrae  2017      410382\n",
              "5    Phrae  2018      421653"
            ]
          },
          "execution_count": 52,
          "metadata": {},
          "output_type": "execute_result"
        }
      ],
      "source": [
        "df.tail(3)"
      ]
    },
    {
      "cell_type": "markdown",
      "metadata": {
        "id": "Vys2BQhkiHCH"
      },
      "source": [
        "#### Sample"
      ]
    },
    {
      "cell_type": "code",
      "execution_count": 63,
      "metadata": {
        "id": "sEBkpnwFiHCI",
        "outputId": "58c35484-c7b5-4a08-a4eb-ea3eaef0ec23"
      },
      "outputs": [
        {
          "data": {
            "text/html": [
              "<div>\n",
              "<style scoped>\n",
              "    .dataframe tbody tr th:only-of-type {\n",
              "        vertical-align: middle;\n",
              "    }\n",
              "\n",
              "    .dataframe tbody tr th {\n",
              "        vertical-align: top;\n",
              "    }\n",
              "\n",
              "    .dataframe thead th {\n",
              "        text-align: right;\n",
              "    }\n",
              "</style>\n",
              "<table border=\"1\" class=\"dataframe\">\n",
              "  <thead>\n",
              "    <tr style=\"text-align: right;\">\n",
              "      <th></th>\n",
              "      <th>province</th>\n",
              "      <th>year</th>\n",
              "      <th>population</th>\n",
              "    </tr>\n",
              "  </thead>\n",
              "  <tbody>\n",
              "    <tr>\n",
              "      <th>5</th>\n",
              "      <td>Phrae</td>\n",
              "      <td>2018</td>\n",
              "      <td>421653</td>\n",
              "    </tr>\n",
              "    <tr>\n",
              "      <th>3</th>\n",
              "      <td>Phrae</td>\n",
              "      <td>2016</td>\n",
              "      <td>398936</td>\n",
              "    </tr>\n",
              "    <tr>\n",
              "      <th>4</th>\n",
              "      <td>Phrae</td>\n",
              "      <td>2017</td>\n",
              "      <td>410382</td>\n",
              "    </tr>\n",
              "  </tbody>\n",
              "</table>\n",
              "</div>"
            ],
            "text/plain": [
              "  province  year  population\n",
              "5    Phrae  2018      421653\n",
              "3    Phrae  2016      398936\n",
              "4    Phrae  2017      410382"
            ]
          },
          "metadata": {},
          "output_type": "display_data"
        },
        {
          "data": {
            "text/html": [
              "<div>\n",
              "<style scoped>\n",
              "    .dataframe tbody tr th:only-of-type {\n",
              "        vertical-align: middle;\n",
              "    }\n",
              "\n",
              "    .dataframe tbody tr th {\n",
              "        vertical-align: top;\n",
              "    }\n",
              "\n",
              "    .dataframe thead th {\n",
              "        text-align: right;\n",
              "    }\n",
              "</style>\n",
              "<table border=\"1\" class=\"dataframe\">\n",
              "  <thead>\n",
              "    <tr style=\"text-align: right;\">\n",
              "      <th></th>\n",
              "      <th>province</th>\n",
              "      <th>year</th>\n",
              "      <th>population</th>\n",
              "    </tr>\n",
              "  </thead>\n",
              "  <tbody>\n",
              "    <tr>\n",
              "      <th>4</th>\n",
              "      <td>Phrae</td>\n",
              "      <td>2017</td>\n",
              "      <td>410382</td>\n",
              "    </tr>\n",
              "    <tr>\n",
              "      <th>2</th>\n",
              "      <td>Chiang Mai</td>\n",
              "      <td>2018</td>\n",
              "      <td>1687971</td>\n",
              "    </tr>\n",
              "    <tr>\n",
              "      <th>3</th>\n",
              "      <td>Phrae</td>\n",
              "      <td>2016</td>\n",
              "      <td>398936</td>\n",
              "    </tr>\n",
              "  </tbody>\n",
              "</table>\n",
              "</div>"
            ],
            "text/plain": [
              "     province  year  population\n",
              "4       Phrae  2017      410382\n",
              "2  Chiang Mai  2018     1687971\n",
              "3       Phrae  2016      398936"
            ]
          },
          "metadata": {},
          "output_type": "display_data"
        }
      ],
      "source": [
        "#Random\n",
        "display(df.sample(3))\n",
        "display(df.sample(3))"
      ]
    },
    {
      "cell_type": "code",
      "execution_count": 66,
      "metadata": {
        "id": "DrSZIDKAiHCM",
        "outputId": "ca883e3c-34e2-42dc-c6a3-ab3d11846397"
      },
      "outputs": [
        {
          "data": {
            "text/html": [
              "<div>\n",
              "<style scoped>\n",
              "    .dataframe tbody tr th:only-of-type {\n",
              "        vertical-align: middle;\n",
              "    }\n",
              "\n",
              "    .dataframe tbody tr th {\n",
              "        vertical-align: top;\n",
              "    }\n",
              "\n",
              "    .dataframe thead th {\n",
              "        text-align: right;\n",
              "    }\n",
              "</style>\n",
              "<table border=\"1\" class=\"dataframe\">\n",
              "  <thead>\n",
              "    <tr style=\"text-align: right;\">\n",
              "      <th></th>\n",
              "      <th>province</th>\n",
              "      <th>year</th>\n",
              "      <th>population</th>\n",
              "    </tr>\n",
              "  </thead>\n",
              "  <tbody>\n",
              "    <tr>\n",
              "      <th>1</th>\n",
              "      <td>Chiang Mai</td>\n",
              "      <td>2017</td>\n",
              "      <td>1664012</td>\n",
              "    </tr>\n",
              "    <tr>\n",
              "      <th>3</th>\n",
              "      <td>Phrae</td>\n",
              "      <td>2016</td>\n",
              "      <td>398936</td>\n",
              "    </tr>\n",
              "    <tr>\n",
              "      <th>4</th>\n",
              "      <td>Phrae</td>\n",
              "      <td>2017</td>\n",
              "      <td>410382</td>\n",
              "    </tr>\n",
              "  </tbody>\n",
              "</table>\n",
              "</div>"
            ],
            "text/plain": [
              "     province  year  population\n",
              "1  Chiang Mai  2017     1664012\n",
              "3       Phrae  2016      398936\n",
              "4       Phrae  2017      410382"
            ]
          },
          "metadata": {},
          "output_type": "display_data"
        },
        {
          "data": {
            "text/html": [
              "<div>\n",
              "<style scoped>\n",
              "    .dataframe tbody tr th:only-of-type {\n",
              "        vertical-align: middle;\n",
              "    }\n",
              "\n",
              "    .dataframe tbody tr th {\n",
              "        vertical-align: top;\n",
              "    }\n",
              "\n",
              "    .dataframe thead th {\n",
              "        text-align: right;\n",
              "    }\n",
              "</style>\n",
              "<table border=\"1\" class=\"dataframe\">\n",
              "  <thead>\n",
              "    <tr style=\"text-align: right;\">\n",
              "      <th></th>\n",
              "      <th>province</th>\n",
              "      <th>year</th>\n",
              "      <th>population</th>\n",
              "    </tr>\n",
              "  </thead>\n",
              "  <tbody>\n",
              "    <tr>\n",
              "      <th>1</th>\n",
              "      <td>Chiang Mai</td>\n",
              "      <td>2017</td>\n",
              "      <td>1664012</td>\n",
              "    </tr>\n",
              "    <tr>\n",
              "      <th>3</th>\n",
              "      <td>Phrae</td>\n",
              "      <td>2016</td>\n",
              "      <td>398936</td>\n",
              "    </tr>\n",
              "    <tr>\n",
              "      <th>4</th>\n",
              "      <td>Phrae</td>\n",
              "      <td>2017</td>\n",
              "      <td>410382</td>\n",
              "    </tr>\n",
              "  </tbody>\n",
              "</table>\n",
              "</div>"
            ],
            "text/plain": [
              "     province  year  population\n",
              "1  Chiang Mai  2017     1664012\n",
              "3       Phrae  2016      398936\n",
              "4       Phrae  2017      410382"
            ]
          },
          "metadata": {},
          "output_type": "display_data"
        }
      ],
      "source": [
        "#Random with fix random_state\n",
        "display(df.sample(3, random_state = 123))\n",
        "display(df.sample(3, random_state = 123))"
      ]
    },
    {
      "cell_type": "markdown",
      "metadata": {
        "id": "M7x3wdOZiHCQ"
      },
      "source": [
        "#### Get Some Rows"
      ]
    },
    {
      "cell_type": "code",
      "execution_count": 67,
      "metadata": {
        "id": "MIBlF5uxiHCR",
        "outputId": "70c7c196-50c9-4748-ff2c-16a7efaff211"
      },
      "outputs": [
        {
          "data": {
            "text/html": [
              "<div>\n",
              "<style scoped>\n",
              "    .dataframe tbody tr th:only-of-type {\n",
              "        vertical-align: middle;\n",
              "    }\n",
              "\n",
              "    .dataframe tbody tr th {\n",
              "        vertical-align: top;\n",
              "    }\n",
              "\n",
              "    .dataframe thead th {\n",
              "        text-align: right;\n",
              "    }\n",
              "</style>\n",
              "<table border=\"1\" class=\"dataframe\">\n",
              "  <thead>\n",
              "    <tr style=\"text-align: right;\">\n",
              "      <th></th>\n",
              "      <th>year</th>\n",
              "      <th>population</th>\n",
              "    </tr>\n",
              "    <tr>\n",
              "      <th>province</th>\n",
              "      <th></th>\n",
              "      <th></th>\n",
              "    </tr>\n",
              "  </thead>\n",
              "  <tbody>\n",
              "    <tr>\n",
              "      <th>Chiang Mai</th>\n",
              "      <td>2016</td>\n",
              "      <td>1630428</td>\n",
              "    </tr>\n",
              "    <tr>\n",
              "      <th>Chiang Mai</th>\n",
              "      <td>2017</td>\n",
              "      <td>1664012</td>\n",
              "    </tr>\n",
              "    <tr>\n",
              "      <th>Chiang Mai</th>\n",
              "      <td>2018</td>\n",
              "      <td>1687971</td>\n",
              "    </tr>\n",
              "    <tr>\n",
              "      <th>Phrae</th>\n",
              "      <td>2016</td>\n",
              "      <td>398936</td>\n",
              "    </tr>\n",
              "    <tr>\n",
              "      <th>Phrae</th>\n",
              "      <td>2017</td>\n",
              "      <td>410382</td>\n",
              "    </tr>\n",
              "    <tr>\n",
              "      <th>Phrae</th>\n",
              "      <td>2018</td>\n",
              "      <td>421653</td>\n",
              "    </tr>\n",
              "  </tbody>\n",
              "</table>\n",
              "</div>"
            ],
            "text/plain": [
              "            year  population\n",
              "province                    \n",
              "Chiang Mai  2016     1630428\n",
              "Chiang Mai  2017     1664012\n",
              "Chiang Mai  2018     1687971\n",
              "Phrae       2016      398936\n",
              "Phrae       2017      410382\n",
              "Phrae       2018      421653"
            ]
          },
          "execution_count": 67,
          "metadata": {},
          "output_type": "execute_result"
        }
      ],
      "source": [
        "df2 = df.set_index(['province'])\n",
        "df2"
      ]
    },
    {
      "cell_type": "code",
      "execution_count": 68,
      "metadata": {
        "id": "rhwVl28KiHCV",
        "outputId": "d1a0b811-cb06-4341-a2cd-7964e32073ca"
      },
      "outputs": [
        {
          "data": {
            "text/plain": [
              "year             2016\n",
              "population    1630428\n",
              "Name: Chiang Mai, dtype: int64"
            ]
          },
          "execution_count": 68,
          "metadata": {},
          "output_type": "execute_result"
        }
      ],
      "source": [
        "# Index Position\n",
        "df2.iloc[0]"
      ]
    },
    {
      "cell_type": "code",
      "execution_count": 69,
      "metadata": {
        "id": "Y1QB8EbGiHCX",
        "outputId": "51564a15-3a01-44bd-890f-8a8d866a6eda"
      },
      "outputs": [
        {
          "data": {
            "text/html": [
              "<div>\n",
              "<style scoped>\n",
              "    .dataframe tbody tr th:only-of-type {\n",
              "        vertical-align: middle;\n",
              "    }\n",
              "\n",
              "    .dataframe tbody tr th {\n",
              "        vertical-align: top;\n",
              "    }\n",
              "\n",
              "    .dataframe thead th {\n",
              "        text-align: right;\n",
              "    }\n",
              "</style>\n",
              "<table border=\"1\" class=\"dataframe\">\n",
              "  <thead>\n",
              "    <tr style=\"text-align: right;\">\n",
              "      <th></th>\n",
              "      <th>year</th>\n",
              "      <th>population</th>\n",
              "    </tr>\n",
              "    <tr>\n",
              "      <th>province</th>\n",
              "      <th></th>\n",
              "      <th></th>\n",
              "    </tr>\n",
              "  </thead>\n",
              "  <tbody>\n",
              "    <tr>\n",
              "      <th>Chiang Mai</th>\n",
              "      <td>2017</td>\n",
              "      <td>1664012</td>\n",
              "    </tr>\n",
              "    <tr>\n",
              "      <th>Chiang Mai</th>\n",
              "      <td>2018</td>\n",
              "      <td>1687971</td>\n",
              "    </tr>\n",
              "    <tr>\n",
              "      <th>Phrae</th>\n",
              "      <td>2016</td>\n",
              "      <td>398936</td>\n",
              "    </tr>\n",
              "  </tbody>\n",
              "</table>\n",
              "</div>"
            ],
            "text/plain": [
              "            year  population\n",
              "province                    \n",
              "Chiang Mai  2017     1664012\n",
              "Chiang Mai  2018     1687971\n",
              "Phrae       2016      398936"
            ]
          },
          "execution_count": 69,
          "metadata": {},
          "output_type": "execute_result"
        }
      ],
      "source": [
        "# Index Position\n",
        "df2.iloc[1:4]"
      ]
    },
    {
      "cell_type": "code",
      "execution_count": 70,
      "metadata": {
        "id": "fvb3yNUBiHCa",
        "outputId": "0c8eba78-e905-4cf3-b4f5-48fa4e9455be"
      },
      "outputs": [
        {
          "data": {
            "text/html": [
              "<div>\n",
              "<style scoped>\n",
              "    .dataframe tbody tr th:only-of-type {\n",
              "        vertical-align: middle;\n",
              "    }\n",
              "\n",
              "    .dataframe tbody tr th {\n",
              "        vertical-align: top;\n",
              "    }\n",
              "\n",
              "    .dataframe thead th {\n",
              "        text-align: right;\n",
              "    }\n",
              "</style>\n",
              "<table border=\"1\" class=\"dataframe\">\n",
              "  <thead>\n",
              "    <tr style=\"text-align: right;\">\n",
              "      <th></th>\n",
              "      <th>year</th>\n",
              "      <th>population</th>\n",
              "    </tr>\n",
              "    <tr>\n",
              "      <th>province</th>\n",
              "      <th></th>\n",
              "      <th></th>\n",
              "    </tr>\n",
              "  </thead>\n",
              "  <tbody>\n",
              "    <tr>\n",
              "      <th>Chiang Mai</th>\n",
              "      <td>2016</td>\n",
              "      <td>1630428</td>\n",
              "    </tr>\n",
              "    <tr>\n",
              "      <th>Chiang Mai</th>\n",
              "      <td>2017</td>\n",
              "      <td>1664012</td>\n",
              "    </tr>\n",
              "    <tr>\n",
              "      <th>Chiang Mai</th>\n",
              "      <td>2018</td>\n",
              "      <td>1687971</td>\n",
              "    </tr>\n",
              "  </tbody>\n",
              "</table>\n",
              "</div>"
            ],
            "text/plain": [
              "            year  population\n",
              "province                    \n",
              "Chiang Mai  2016     1630428\n",
              "Chiang Mai  2017     1664012\n",
              "Chiang Mai  2018     1687971"
            ]
          },
          "execution_count": 70,
          "metadata": {},
          "output_type": "execute_result"
        }
      ],
      "source": [
        "# Index name\n",
        "df2.loc['Chiang Mai']"
      ]
    },
    {
      "cell_type": "code",
      "execution_count": 71,
      "metadata": {
        "id": "Bok1Z6y6iHCc",
        "outputId": "c209a020-7209-40f2-d06b-8b0b3a006060"
      },
      "outputs": [
        {
          "data": {
            "text/html": [
              "<div>\n",
              "<style scoped>\n",
              "    .dataframe tbody tr th:only-of-type {\n",
              "        vertical-align: middle;\n",
              "    }\n",
              "\n",
              "    .dataframe tbody tr th {\n",
              "        vertical-align: top;\n",
              "    }\n",
              "\n",
              "    .dataframe thead th {\n",
              "        text-align: right;\n",
              "    }\n",
              "</style>\n",
              "<table border=\"1\" class=\"dataframe\">\n",
              "  <thead>\n",
              "    <tr style=\"text-align: right;\">\n",
              "      <th></th>\n",
              "      <th>year</th>\n",
              "      <th>population</th>\n",
              "    </tr>\n",
              "    <tr>\n",
              "      <th>province</th>\n",
              "      <th></th>\n",
              "      <th></th>\n",
              "    </tr>\n",
              "  </thead>\n",
              "  <tbody>\n",
              "    <tr>\n",
              "      <th>Chiang Mai</th>\n",
              "      <td>2016</td>\n",
              "      <td>1630428</td>\n",
              "    </tr>\n",
              "    <tr>\n",
              "      <th>Chiang Mai</th>\n",
              "      <td>2017</td>\n",
              "      <td>1664012</td>\n",
              "    </tr>\n",
              "    <tr>\n",
              "      <th>Chiang Mai</th>\n",
              "      <td>2018</td>\n",
              "      <td>1687971</td>\n",
              "    </tr>\n",
              "    <tr>\n",
              "      <th>Phrae</th>\n",
              "      <td>2016</td>\n",
              "      <td>398936</td>\n",
              "    </tr>\n",
              "    <tr>\n",
              "      <th>Phrae</th>\n",
              "      <td>2017</td>\n",
              "      <td>410382</td>\n",
              "    </tr>\n",
              "    <tr>\n",
              "      <th>Phrae</th>\n",
              "      <td>2018</td>\n",
              "      <td>421653</td>\n",
              "    </tr>\n",
              "  </tbody>\n",
              "</table>\n",
              "</div>"
            ],
            "text/plain": [
              "            year  population\n",
              "province                    \n",
              "Chiang Mai  2016     1630428\n",
              "Chiang Mai  2017     1664012\n",
              "Chiang Mai  2018     1687971\n",
              "Phrae       2016      398936\n",
              "Phrae       2017      410382\n",
              "Phrae       2018      421653"
            ]
          },
          "execution_count": 71,
          "metadata": {},
          "output_type": "execute_result"
        }
      ],
      "source": [
        "# Index name\n",
        "df2.loc[['Chiang Mai','Phrae']]"
      ]
    },
    {
      "cell_type": "markdown",
      "metadata": {
        "id": "kOwYAw9MiHCg"
      },
      "source": [
        "### Column"
      ]
    },
    {
      "cell_type": "code",
      "execution_count": 72,
      "metadata": {
        "id": "y84QKNJ1iHCh",
        "outputId": "cd1dbc58-13d1-4cb8-92b9-02e225291c82"
      },
      "outputs": [
        {
          "data": {
            "text/plain": [
              "Index(['province', 'year', 'population'], dtype='object')"
            ]
          },
          "execution_count": 72,
          "metadata": {},
          "output_type": "execute_result"
        }
      ],
      "source": [
        "df.columns"
      ]
    },
    {
      "cell_type": "code",
      "execution_count": 73,
      "metadata": {
        "id": "N9M6jlhaiHCl",
        "outputId": "aec35535-456e-4b15-85dd-dd5e0ac46107"
      },
      "outputs": [
        {
          "data": {
            "text/html": [
              "<div>\n",
              "<style scoped>\n",
              "    .dataframe tbody tr th:only-of-type {\n",
              "        vertical-align: middle;\n",
              "    }\n",
              "\n",
              "    .dataframe tbody tr th {\n",
              "        vertical-align: top;\n",
              "    }\n",
              "\n",
              "    .dataframe thead th {\n",
              "        text-align: right;\n",
              "    }\n",
              "</style>\n",
              "<table border=\"1\" class=\"dataframe\">\n",
              "  <thead>\n",
              "    <tr style=\"text-align: right;\">\n",
              "      <th></th>\n",
              "      <th>year</th>\n",
              "      <th>population</th>\n",
              "    </tr>\n",
              "  </thead>\n",
              "  <tbody>\n",
              "    <tr>\n",
              "      <th>0</th>\n",
              "      <td>2016</td>\n",
              "      <td>1630428</td>\n",
              "    </tr>\n",
              "    <tr>\n",
              "      <th>1</th>\n",
              "      <td>2017</td>\n",
              "      <td>1664012</td>\n",
              "    </tr>\n",
              "    <tr>\n",
              "      <th>2</th>\n",
              "      <td>2018</td>\n",
              "      <td>1687971</td>\n",
              "    </tr>\n",
              "    <tr>\n",
              "      <th>3</th>\n",
              "      <td>2016</td>\n",
              "      <td>398936</td>\n",
              "    </tr>\n",
              "    <tr>\n",
              "      <th>4</th>\n",
              "      <td>2017</td>\n",
              "      <td>410382</td>\n",
              "    </tr>\n",
              "    <tr>\n",
              "      <th>5</th>\n",
              "      <td>2018</td>\n",
              "      <td>421653</td>\n",
              "    </tr>\n",
              "  </tbody>\n",
              "</table>\n",
              "</div>"
            ],
            "text/plain": [
              "   year  population\n",
              "0  2016     1630428\n",
              "1  2017     1664012\n",
              "2  2018     1687971\n",
              "3  2016      398936\n",
              "4  2017      410382\n",
              "5  2018      421653"
            ]
          },
          "execution_count": 73,
          "metadata": {},
          "output_type": "execute_result"
        }
      ],
      "source": [
        "columns_list = ['year','population']\n",
        "df[columns_list]"
      ]
    },
    {
      "cell_type": "code",
      "execution_count": 74,
      "metadata": {
        "id": "v60mM5wHY8FQ",
        "outputId": "60cdc683-3c66-46aa-883e-dd1036d67e10"
      },
      "outputs": [
        {
          "data": {
            "text/plain": [
              "0    2016\n",
              "1    2017\n",
              "2    2018\n",
              "3    2016\n",
              "4    2017\n",
              "5    2018\n",
              "Name: year, dtype: int64"
            ]
          },
          "execution_count": 74,
          "metadata": {},
          "output_type": "execute_result"
        }
      ],
      "source": [
        "df.year"
      ]
    },
    {
      "cell_type": "markdown",
      "metadata": {
        "id": "DXfXZpKWiHCp"
      },
      "source": [
        "#### Drop"
      ]
    },
    {
      "cell_type": "code",
      "execution_count": 85,
      "metadata": {
        "id": "cwYBUM8LiHCp",
        "outputId": "fc65ceba-7f61-44ef-84ca-9411296b3fe1"
      },
      "outputs": [
        {
          "data": {
            "text/html": [
              "<div>\n",
              "<style scoped>\n",
              "    .dataframe tbody tr th:only-of-type {\n",
              "        vertical-align: middle;\n",
              "    }\n",
              "\n",
              "    .dataframe tbody tr th {\n",
              "        vertical-align: top;\n",
              "    }\n",
              "\n",
              "    .dataframe thead th {\n",
              "        text-align: right;\n",
              "    }\n",
              "</style>\n",
              "<table border=\"1\" class=\"dataframe\">\n",
              "  <thead>\n",
              "    <tr style=\"text-align: right;\">\n",
              "      <th></th>\n",
              "      <th>year</th>\n",
              "      <th>population</th>\n",
              "      <th>source</th>\n",
              "      <th>population (K)</th>\n",
              "    </tr>\n",
              "  </thead>\n",
              "  <tbody>\n",
              "    <tr>\n",
              "      <th>0</th>\n",
              "      <td>2016</td>\n",
              "      <td>1630428</td>\n",
              "      <td>A</td>\n",
              "      <td>1630.428</td>\n",
              "    </tr>\n",
              "    <tr>\n",
              "      <th>1</th>\n",
              "      <td>2017</td>\n",
              "      <td>1664012</td>\n",
              "      <td>B</td>\n",
              "      <td>1664.012</td>\n",
              "    </tr>\n",
              "    <tr>\n",
              "      <th>2</th>\n",
              "      <td>2018</td>\n",
              "      <td>1687971</td>\n",
              "      <td>A</td>\n",
              "      <td>1687.971</td>\n",
              "    </tr>\n",
              "    <tr>\n",
              "      <th>3</th>\n",
              "      <td>2016</td>\n",
              "      <td>398936</td>\n",
              "      <td>C</td>\n",
              "      <td>398.936</td>\n",
              "    </tr>\n",
              "    <tr>\n",
              "      <th>4</th>\n",
              "      <td>2017</td>\n",
              "      <td>410382</td>\n",
              "      <td>A</td>\n",
              "      <td>410.382</td>\n",
              "    </tr>\n",
              "    <tr>\n",
              "      <th>5</th>\n",
              "      <td>2018</td>\n",
              "      <td>421653</td>\n",
              "      <td>B</td>\n",
              "      <td>421.653</td>\n",
              "    </tr>\n",
              "  </tbody>\n",
              "</table>\n",
              "</div>"
            ],
            "text/plain": [
              "   year  population source  population (K)\n",
              "0  2016     1630428      A        1630.428\n",
              "1  2017     1664012      B        1664.012\n",
              "2  2018     1687971      A        1687.971\n",
              "3  2016      398936      C         398.936\n",
              "4  2017      410382      A         410.382\n",
              "5  2018      421653      B         421.653"
            ]
          },
          "execution_count": 85,
          "metadata": {},
          "output_type": "execute_result"
        }
      ],
      "source": [
        "df.drop(columns=['province'])"
      ]
    },
    {
      "cell_type": "code",
      "execution_count": 86,
      "metadata": {
        "id": "5X_iV-VlZSoY",
        "outputId": "64e4dd5a-bdf0-4816-e670-e79a692c6c30"
      },
      "outputs": [
        {
          "data": {
            "text/html": [
              "<div>\n",
              "<style scoped>\n",
              "    .dataframe tbody tr th:only-of-type {\n",
              "        vertical-align: middle;\n",
              "    }\n",
              "\n",
              "    .dataframe tbody tr th {\n",
              "        vertical-align: top;\n",
              "    }\n",
              "\n",
              "    .dataframe thead th {\n",
              "        text-align: right;\n",
              "    }\n",
              "</style>\n",
              "<table border=\"1\" class=\"dataframe\">\n",
              "  <thead>\n",
              "    <tr style=\"text-align: right;\">\n",
              "      <th></th>\n",
              "      <th>province</th>\n",
              "      <th>year</th>\n",
              "      <th>population</th>\n",
              "      <th>source</th>\n",
              "      <th>population (K)</th>\n",
              "    </tr>\n",
              "  </thead>\n",
              "  <tbody>\n",
              "    <tr>\n",
              "      <th>0</th>\n",
              "      <td>Chiang Mai</td>\n",
              "      <td>2016</td>\n",
              "      <td>1630428</td>\n",
              "      <td>A</td>\n",
              "      <td>1630.428</td>\n",
              "    </tr>\n",
              "    <tr>\n",
              "      <th>1</th>\n",
              "      <td>Chiang Mai</td>\n",
              "      <td>2017</td>\n",
              "      <td>1664012</td>\n",
              "      <td>B</td>\n",
              "      <td>1664.012</td>\n",
              "    </tr>\n",
              "    <tr>\n",
              "      <th>2</th>\n",
              "      <td>Chiang Mai</td>\n",
              "      <td>2018</td>\n",
              "      <td>1687971</td>\n",
              "      <td>A</td>\n",
              "      <td>1687.971</td>\n",
              "    </tr>\n",
              "    <tr>\n",
              "      <th>3</th>\n",
              "      <td>Phrae</td>\n",
              "      <td>2016</td>\n",
              "      <td>398936</td>\n",
              "      <td>C</td>\n",
              "      <td>398.936</td>\n",
              "    </tr>\n",
              "    <tr>\n",
              "      <th>4</th>\n",
              "      <td>Phrae</td>\n",
              "      <td>2017</td>\n",
              "      <td>410382</td>\n",
              "      <td>A</td>\n",
              "      <td>410.382</td>\n",
              "    </tr>\n",
              "    <tr>\n",
              "      <th>5</th>\n",
              "      <td>Phrae</td>\n",
              "      <td>2018</td>\n",
              "      <td>421653</td>\n",
              "      <td>B</td>\n",
              "      <td>421.653</td>\n",
              "    </tr>\n",
              "  </tbody>\n",
              "</table>\n",
              "</div>"
            ],
            "text/plain": [
              "     province  year  population source  population (K)\n",
              "0  Chiang Mai  2016     1630428      A        1630.428\n",
              "1  Chiang Mai  2017     1664012      B        1664.012\n",
              "2  Chiang Mai  2018     1687971      A        1687.971\n",
              "3       Phrae  2016      398936      C         398.936\n",
              "4       Phrae  2017      410382      A         410.382\n",
              "5       Phrae  2018      421653      B         421.653"
            ]
          },
          "execution_count": 86,
          "metadata": {},
          "output_type": "execute_result"
        }
      ],
      "source": [
        "df"
      ]
    },
    {
      "cell_type": "markdown",
      "metadata": {
        "id": "l4LcXPTkiHCt"
      },
      "source": [
        "#### Rename"
      ]
    },
    {
      "cell_type": "code",
      "execution_count": 84,
      "metadata": {
        "id": "VM9E6-CwiHCu",
        "outputId": "e4aa0d8e-0f8e-456a-80ae-e2353f9412dc"
      },
      "outputs": [
        {
          "data": {
            "text/html": [
              "<div>\n",
              "<style scoped>\n",
              "    .dataframe tbody tr th:only-of-type {\n",
              "        vertical-align: middle;\n",
              "    }\n",
              "\n",
              "    .dataframe tbody tr th {\n",
              "        vertical-align: top;\n",
              "    }\n",
              "\n",
              "    .dataframe thead th {\n",
              "        text-align: right;\n",
              "    }\n",
              "</style>\n",
              "<table border=\"1\" class=\"dataframe\">\n",
              "  <thead>\n",
              "    <tr style=\"text-align: right;\">\n",
              "      <th></th>\n",
              "      <th>Province</th>\n",
              "      <th>Year</th>\n",
              "      <th>Population</th>\n",
              "      <th>source</th>\n",
              "      <th>population (K)</th>\n",
              "    </tr>\n",
              "  </thead>\n",
              "  <tbody>\n",
              "    <tr>\n",
              "      <th>0</th>\n",
              "      <td>Chiang Mai</td>\n",
              "      <td>2016</td>\n",
              "      <td>1630428</td>\n",
              "      <td>A</td>\n",
              "      <td>1630.428</td>\n",
              "    </tr>\n",
              "    <tr>\n",
              "      <th>1</th>\n",
              "      <td>Chiang Mai</td>\n",
              "      <td>2017</td>\n",
              "      <td>1664012</td>\n",
              "      <td>B</td>\n",
              "      <td>1664.012</td>\n",
              "    </tr>\n",
              "    <tr>\n",
              "      <th>2</th>\n",
              "      <td>Chiang Mai</td>\n",
              "      <td>2018</td>\n",
              "      <td>1687971</td>\n",
              "      <td>A</td>\n",
              "      <td>1687.971</td>\n",
              "    </tr>\n",
              "    <tr>\n",
              "      <th>3</th>\n",
              "      <td>Phrae</td>\n",
              "      <td>2016</td>\n",
              "      <td>398936</td>\n",
              "      <td>C</td>\n",
              "      <td>398.936</td>\n",
              "    </tr>\n",
              "    <tr>\n",
              "      <th>4</th>\n",
              "      <td>Phrae</td>\n",
              "      <td>2017</td>\n",
              "      <td>410382</td>\n",
              "      <td>A</td>\n",
              "      <td>410.382</td>\n",
              "    </tr>\n",
              "    <tr>\n",
              "      <th>5</th>\n",
              "      <td>Phrae</td>\n",
              "      <td>2018</td>\n",
              "      <td>421653</td>\n",
              "      <td>B</td>\n",
              "      <td>421.653</td>\n",
              "    </tr>\n",
              "  </tbody>\n",
              "</table>\n",
              "</div>"
            ],
            "text/plain": [
              "     Province  Year  Population source  population (K)\n",
              "0  Chiang Mai  2016     1630428      A        1630.428\n",
              "1  Chiang Mai  2017     1664012      B        1664.012\n",
              "2  Chiang Mai  2018     1687971      A        1687.971\n",
              "3       Phrae  2016      398936      C         398.936\n",
              "4       Phrae  2017      410382      A         410.382\n",
              "5       Phrae  2018      421653      B         421.653"
            ]
          },
          "execution_count": 84,
          "metadata": {},
          "output_type": "execute_result"
        }
      ],
      "source": [
        "mapper = {\n",
        "    'province':'Province',\n",
        "    'year':'Year',\n",
        "    'population':'Population'\n",
        "}\n",
        "df.rename(columns=mapper)"
      ]
    },
    {
      "cell_type": "markdown",
      "metadata": {
        "id": "9-UC83wNiHCx"
      },
      "source": [
        "#### Create/Replace Column with Value/Array"
      ]
    },
    {
      "cell_type": "code",
      "execution_count": 78,
      "metadata": {
        "id": "osIehOSgiHCx",
        "outputId": "a5b32014-a4a5-4e15-dc10-cbfc4adc0be5"
      },
      "outputs": [
        {
          "data": {
            "text/html": [
              "<div>\n",
              "<style scoped>\n",
              "    .dataframe tbody tr th:only-of-type {\n",
              "        vertical-align: middle;\n",
              "    }\n",
              "\n",
              "    .dataframe tbody tr th {\n",
              "        vertical-align: top;\n",
              "    }\n",
              "\n",
              "    .dataframe thead th {\n",
              "        text-align: right;\n",
              "    }\n",
              "</style>\n",
              "<table border=\"1\" class=\"dataframe\">\n",
              "  <thead>\n",
              "    <tr style=\"text-align: right;\">\n",
              "      <th></th>\n",
              "      <th>province</th>\n",
              "      <th>year</th>\n",
              "      <th>population</th>\n",
              "      <th>source</th>\n",
              "    </tr>\n",
              "  </thead>\n",
              "  <tbody>\n",
              "    <tr>\n",
              "      <th>0</th>\n",
              "      <td>Chiang Mai</td>\n",
              "      <td>2016</td>\n",
              "      <td>1630428</td>\n",
              "      <td>A</td>\n",
              "    </tr>\n",
              "    <tr>\n",
              "      <th>1</th>\n",
              "      <td>Chiang Mai</td>\n",
              "      <td>2017</td>\n",
              "      <td>1664012</td>\n",
              "      <td>A</td>\n",
              "    </tr>\n",
              "    <tr>\n",
              "      <th>2</th>\n",
              "      <td>Chiang Mai</td>\n",
              "      <td>2018</td>\n",
              "      <td>1687971</td>\n",
              "      <td>A</td>\n",
              "    </tr>\n",
              "    <tr>\n",
              "      <th>3</th>\n",
              "      <td>Phrae</td>\n",
              "      <td>2016</td>\n",
              "      <td>398936</td>\n",
              "      <td>A</td>\n",
              "    </tr>\n",
              "    <tr>\n",
              "      <th>4</th>\n",
              "      <td>Phrae</td>\n",
              "      <td>2017</td>\n",
              "      <td>410382</td>\n",
              "      <td>A</td>\n",
              "    </tr>\n",
              "    <tr>\n",
              "      <th>5</th>\n",
              "      <td>Phrae</td>\n",
              "      <td>2018</td>\n",
              "      <td>421653</td>\n",
              "      <td>A</td>\n",
              "    </tr>\n",
              "  </tbody>\n",
              "</table>\n",
              "</div>"
            ],
            "text/plain": [
              "     province  year  population source\n",
              "0  Chiang Mai  2016     1630428      A\n",
              "1  Chiang Mai  2017     1664012      A\n",
              "2  Chiang Mai  2018     1687971      A\n",
              "3       Phrae  2016      398936      A\n",
              "4       Phrae  2017      410382      A\n",
              "5       Phrae  2018      421653      A"
            ]
          },
          "execution_count": 78,
          "metadata": {},
          "output_type": "execute_result"
        }
      ],
      "source": [
        "df['source'] = 'A'\n",
        "df"
      ]
    },
    {
      "cell_type": "code",
      "execution_count": 79,
      "metadata": {
        "id": "TRLyNOJmiHC3",
        "outputId": "1d52ef0a-8547-4f79-c7fb-de60a5cb987d"
      },
      "outputs": [
        {
          "data": {
            "text/html": [
              "<div>\n",
              "<style scoped>\n",
              "    .dataframe tbody tr th:only-of-type {\n",
              "        vertical-align: middle;\n",
              "    }\n",
              "\n",
              "    .dataframe tbody tr th {\n",
              "        vertical-align: top;\n",
              "    }\n",
              "\n",
              "    .dataframe thead th {\n",
              "        text-align: right;\n",
              "    }\n",
              "</style>\n",
              "<table border=\"1\" class=\"dataframe\">\n",
              "  <thead>\n",
              "    <tr style=\"text-align: right;\">\n",
              "      <th></th>\n",
              "      <th>province</th>\n",
              "      <th>year</th>\n",
              "      <th>population</th>\n",
              "      <th>source</th>\n",
              "    </tr>\n",
              "  </thead>\n",
              "  <tbody>\n",
              "    <tr>\n",
              "      <th>0</th>\n",
              "      <td>Chiang Mai</td>\n",
              "      <td>2016</td>\n",
              "      <td>1630428</td>\n",
              "      <td>A</td>\n",
              "    </tr>\n",
              "    <tr>\n",
              "      <th>1</th>\n",
              "      <td>Chiang Mai</td>\n",
              "      <td>2017</td>\n",
              "      <td>1664012</td>\n",
              "      <td>B</td>\n",
              "    </tr>\n",
              "    <tr>\n",
              "      <th>2</th>\n",
              "      <td>Chiang Mai</td>\n",
              "      <td>2018</td>\n",
              "      <td>1687971</td>\n",
              "      <td>A</td>\n",
              "    </tr>\n",
              "    <tr>\n",
              "      <th>3</th>\n",
              "      <td>Phrae</td>\n",
              "      <td>2016</td>\n",
              "      <td>398936</td>\n",
              "      <td>C</td>\n",
              "    </tr>\n",
              "    <tr>\n",
              "      <th>4</th>\n",
              "      <td>Phrae</td>\n",
              "      <td>2017</td>\n",
              "      <td>410382</td>\n",
              "      <td>A</td>\n",
              "    </tr>\n",
              "    <tr>\n",
              "      <th>5</th>\n",
              "      <td>Phrae</td>\n",
              "      <td>2018</td>\n",
              "      <td>421653</td>\n",
              "      <td>B</td>\n",
              "    </tr>\n",
              "  </tbody>\n",
              "</table>\n",
              "</div>"
            ],
            "text/plain": [
              "     province  year  population source\n",
              "0  Chiang Mai  2016     1630428      A\n",
              "1  Chiang Mai  2017     1664012      B\n",
              "2  Chiang Mai  2018     1687971      A\n",
              "3       Phrae  2016      398936      C\n",
              "4       Phrae  2017      410382      A\n",
              "5       Phrae  2018      421653      B"
            ]
          },
          "execution_count": 79,
          "metadata": {},
          "output_type": "execute_result"
        }
      ],
      "source": [
        "df['source'] = ['A','B','A','C','A','B']\n",
        "df"
      ]
    },
    {
      "cell_type": "code",
      "execution_count": 80,
      "metadata": {
        "id": "p2IRL-0JiHC_",
        "outputId": "dc6dd205-ef64-434f-ce2c-f2458b6f37fc"
      },
      "outputs": [
        {
          "data": {
            "text/html": [
              "<div>\n",
              "<style scoped>\n",
              "    .dataframe tbody tr th:only-of-type {\n",
              "        vertical-align: middle;\n",
              "    }\n",
              "\n",
              "    .dataframe tbody tr th {\n",
              "        vertical-align: top;\n",
              "    }\n",
              "\n",
              "    .dataframe thead th {\n",
              "        text-align: right;\n",
              "    }\n",
              "</style>\n",
              "<table border=\"1\" class=\"dataframe\">\n",
              "  <thead>\n",
              "    <tr style=\"text-align: right;\">\n",
              "      <th></th>\n",
              "      <th>province</th>\n",
              "      <th>year</th>\n",
              "      <th>population</th>\n",
              "      <th>source</th>\n",
              "      <th>population (K)</th>\n",
              "    </tr>\n",
              "  </thead>\n",
              "  <tbody>\n",
              "    <tr>\n",
              "      <th>0</th>\n",
              "      <td>Chiang Mai</td>\n",
              "      <td>2016</td>\n",
              "      <td>1630428</td>\n",
              "      <td>A</td>\n",
              "      <td>1630.428</td>\n",
              "    </tr>\n",
              "    <tr>\n",
              "      <th>1</th>\n",
              "      <td>Chiang Mai</td>\n",
              "      <td>2017</td>\n",
              "      <td>1664012</td>\n",
              "      <td>B</td>\n",
              "      <td>1664.012</td>\n",
              "    </tr>\n",
              "    <tr>\n",
              "      <th>2</th>\n",
              "      <td>Chiang Mai</td>\n",
              "      <td>2018</td>\n",
              "      <td>1687971</td>\n",
              "      <td>A</td>\n",
              "      <td>1687.971</td>\n",
              "    </tr>\n",
              "    <tr>\n",
              "      <th>3</th>\n",
              "      <td>Phrae</td>\n",
              "      <td>2016</td>\n",
              "      <td>398936</td>\n",
              "      <td>C</td>\n",
              "      <td>398.936</td>\n",
              "    </tr>\n",
              "    <tr>\n",
              "      <th>4</th>\n",
              "      <td>Phrae</td>\n",
              "      <td>2017</td>\n",
              "      <td>410382</td>\n",
              "      <td>A</td>\n",
              "      <td>410.382</td>\n",
              "    </tr>\n",
              "    <tr>\n",
              "      <th>5</th>\n",
              "      <td>Phrae</td>\n",
              "      <td>2018</td>\n",
              "      <td>421653</td>\n",
              "      <td>B</td>\n",
              "      <td>421.653</td>\n",
              "    </tr>\n",
              "  </tbody>\n",
              "</table>\n",
              "</div>"
            ],
            "text/plain": [
              "     province  year  population source  population (K)\n",
              "0  Chiang Mai  2016     1630428      A        1630.428\n",
              "1  Chiang Mai  2017     1664012      B        1664.012\n",
              "2  Chiang Mai  2018     1687971      A        1687.971\n",
              "3       Phrae  2016      398936      C         398.936\n",
              "4       Phrae  2017      410382      A         410.382\n",
              "5       Phrae  2018      421653      B         421.653"
            ]
          },
          "execution_count": 80,
          "metadata": {},
          "output_type": "execute_result"
        }
      ],
      "source": [
        "df['population (K)'] = df['population'] / 1000\n",
        "df"
      ]
    },
    {
      "cell_type": "code",
      "execution_count": 87,
      "metadata": {
        "id": "z0zEMWmoiHDC",
        "outputId": "eb78f1c7-f5e6-4e79-c45b-cf60fd1d98d0"
      },
      "outputs": [
        {
          "data": {
            "text/html": [
              "<div>\n",
              "<style scoped>\n",
              "    .dataframe tbody tr th:only-of-type {\n",
              "        vertical-align: middle;\n",
              "    }\n",
              "\n",
              "    .dataframe tbody tr th {\n",
              "        vertical-align: top;\n",
              "    }\n",
              "\n",
              "    .dataframe thead th {\n",
              "        text-align: right;\n",
              "    }\n",
              "</style>\n",
              "<table border=\"1\" class=\"dataframe\">\n",
              "  <thead>\n",
              "    <tr style=\"text-align: right;\">\n",
              "      <th></th>\n",
              "      <th>province</th>\n",
              "      <th>year</th>\n",
              "      <th>population</th>\n",
              "      <th>source</th>\n",
              "      <th>population (K)</th>\n",
              "    </tr>\n",
              "  </thead>\n",
              "  <tbody>\n",
              "    <tr>\n",
              "      <th>0</th>\n",
              "      <td>Chiang Mai</td>\n",
              "      <td>2016</td>\n",
              "      <td>1630428</td>\n",
              "      <td>A</td>\n",
              "      <td>1630.428</td>\n",
              "    </tr>\n",
              "    <tr>\n",
              "      <th>1</th>\n",
              "      <td>Chiang Mai</td>\n",
              "      <td>2017</td>\n",
              "      <td>1664012</td>\n",
              "      <td>B</td>\n",
              "      <td>1664.012</td>\n",
              "    </tr>\n",
              "    <tr>\n",
              "      <th>2</th>\n",
              "      <td>Chiang Mai</td>\n",
              "      <td>2018</td>\n",
              "      <td>1687971</td>\n",
              "      <td>A</td>\n",
              "      <td>1687.971</td>\n",
              "    </tr>\n",
              "    <tr>\n",
              "      <th>3</th>\n",
              "      <td>Phrae</td>\n",
              "      <td>2016</td>\n",
              "      <td>398936</td>\n",
              "      <td>C</td>\n",
              "      <td>398.936</td>\n",
              "    </tr>\n",
              "    <tr>\n",
              "      <th>4</th>\n",
              "      <td>Phrae</td>\n",
              "      <td>2017</td>\n",
              "      <td>410382</td>\n",
              "      <td>A</td>\n",
              "      <td>410.382</td>\n",
              "    </tr>\n",
              "    <tr>\n",
              "      <th>5</th>\n",
              "      <td>Phrae</td>\n",
              "      <td>2018</td>\n",
              "      <td>421653</td>\n",
              "      <td>B</td>\n",
              "      <td>421.653</td>\n",
              "    </tr>\n",
              "  </tbody>\n",
              "</table>\n",
              "</div>"
            ],
            "text/plain": [
              "     province  year  population source  population (K)\n",
              "0  Chiang Mai  2016     1630428      A        1630.428\n",
              "1  Chiang Mai  2017     1664012      B        1664.012\n",
              "2  Chiang Mai  2018     1687971      A        1687.971\n",
              "3       Phrae  2016      398936      C         398.936\n",
              "4       Phrae  2017      410382      A         410.382\n",
              "5       Phrae  2018      421653      B         421.653"
            ]
          },
          "execution_count": 87,
          "metadata": {},
          "output_type": "execute_result"
        }
      ],
      "source": [
        "df['population (K)'] = df['population'].apply(lambda x : x / 1000)\n",
        "df"
      ]
    },
    {
      "cell_type": "code",
      "execution_count": 88,
      "metadata": {
        "id": "rcKuUX86bOIM",
        "outputId": "727d0d0c-3549-4d9c-dcda-4ec15d30c45e"
      },
      "outputs": [
        {
          "data": {
            "text/html": [
              "<div>\n",
              "<style scoped>\n",
              "    .dataframe tbody tr th:only-of-type {\n",
              "        vertical-align: middle;\n",
              "    }\n",
              "\n",
              "    .dataframe tbody tr th {\n",
              "        vertical-align: top;\n",
              "    }\n",
              "\n",
              "    .dataframe thead th {\n",
              "        text-align: right;\n",
              "    }\n",
              "</style>\n",
              "<table border=\"1\" class=\"dataframe\">\n",
              "  <thead>\n",
              "    <tr style=\"text-align: right;\">\n",
              "      <th></th>\n",
              "      <th>province</th>\n",
              "      <th>year</th>\n",
              "      <th>population</th>\n",
              "      <th>source</th>\n",
              "      <th>population (K)</th>\n",
              "    </tr>\n",
              "  </thead>\n",
              "  <tbody>\n",
              "    <tr>\n",
              "      <th>0</th>\n",
              "      <td>Chiang Mai</td>\n",
              "      <td>2016</td>\n",
              "      <td>1630428</td>\n",
              "      <td>A</td>\n",
              "      <td>1630.428</td>\n",
              "    </tr>\n",
              "    <tr>\n",
              "      <th>1</th>\n",
              "      <td>Chiang Mai</td>\n",
              "      <td>2017</td>\n",
              "      <td>1664012</td>\n",
              "      <td>B</td>\n",
              "      <td>1664.012</td>\n",
              "    </tr>\n",
              "    <tr>\n",
              "      <th>2</th>\n",
              "      <td>Chiang Mai</td>\n",
              "      <td>2018</td>\n",
              "      <td>1687971</td>\n",
              "      <td>A</td>\n",
              "      <td>1687.971</td>\n",
              "    </tr>\n",
              "    <tr>\n",
              "      <th>3</th>\n",
              "      <td>Phrae</td>\n",
              "      <td>2016</td>\n",
              "      <td>398936</td>\n",
              "      <td>C</td>\n",
              "      <td>398.936</td>\n",
              "    </tr>\n",
              "    <tr>\n",
              "      <th>4</th>\n",
              "      <td>Phrae</td>\n",
              "      <td>2017</td>\n",
              "      <td>410382</td>\n",
              "      <td>A</td>\n",
              "      <td>410.382</td>\n",
              "    </tr>\n",
              "    <tr>\n",
              "      <th>5</th>\n",
              "      <td>Phrae</td>\n",
              "      <td>2018</td>\n",
              "      <td>421653</td>\n",
              "      <td>B</td>\n",
              "      <td>421.653</td>\n",
              "    </tr>\n",
              "  </tbody>\n",
              "</table>\n",
              "</div>"
            ],
            "text/plain": [
              "     province  year  population source  population (K)\n",
              "0  Chiang Mai  2016     1630428      A        1630.428\n",
              "1  Chiang Mai  2017     1664012      B        1664.012\n",
              "2  Chiang Mai  2018     1687971      A        1687.971\n",
              "3       Phrae  2016      398936      C         398.936\n",
              "4       Phrae  2017      410382      A         410.382\n",
              "5       Phrae  2018      421653      B         421.653"
            ]
          },
          "execution_count": 88,
          "metadata": {},
          "output_type": "execute_result"
        }
      ],
      "source": [
        "# extra example\n",
        "import math\n",
        "df2 = df.copy()\n",
        "# df2 = df # this will be error since it refers to address (not copy values)\n",
        "df['LN population'] = df['population'].apply(math.log)\n",
        "df2"
      ]
    },
    {
      "cell_type": "markdown",
      "metadata": {
        "id": "8-TVxVbqiHDF"
      },
      "source": [
        "### DataFrame Information"
      ]
    },
    {
      "cell_type": "code",
      "execution_count": 89,
      "metadata": {
        "id": "9CTuGZa6iHDG",
        "outputId": "9e33b8f8-0f82-4298-ae7b-cd4ad7d4e26b"
      },
      "outputs": [
        {
          "data": {
            "text/plain": [
              "pandas.core.frame.DataFrame"
            ]
          },
          "execution_count": 89,
          "metadata": {},
          "output_type": "execute_result"
        }
      ],
      "source": [
        "type(df)"
      ]
    },
    {
      "cell_type": "code",
      "execution_count": 90,
      "metadata": {
        "id": "558gdlOhiHDM",
        "outputId": "eec307c4-2043-45f0-baa3-a7580ba1fc2b"
      },
      "outputs": [
        {
          "data": {
            "text/plain": [
              "(6, 6)"
            ]
          },
          "execution_count": 90,
          "metadata": {},
          "output_type": "execute_result"
        }
      ],
      "source": [
        "df.shape"
      ]
    },
    {
      "cell_type": "code",
      "execution_count": 91,
      "metadata": {
        "id": "RVbKwHxziHDQ",
        "outputId": "75cf57c8-4d83-4ec3-c6c1-38eab23e3734"
      },
      "outputs": [
        {
          "name": "stdout",
          "output_type": "stream",
          "text": [
            "<class 'pandas.core.frame.DataFrame'>\n",
            "RangeIndex: 6 entries, 0 to 5\n",
            "Data columns (total 6 columns):\n",
            " #   Column          Non-Null Count  Dtype  \n",
            "---  ------          --------------  -----  \n",
            " 0   province        6 non-null      object \n",
            " 1   year            6 non-null      int64  \n",
            " 2   population      6 non-null      int64  \n",
            " 3   source          6 non-null      object \n",
            " 4   population (K)  6 non-null      float64\n",
            " 5   LN population   6 non-null      float64\n",
            "dtypes: float64(2), int64(2), object(2)\n",
            "memory usage: 420.0+ bytes\n"
          ]
        }
      ],
      "source": [
        "df.info()"
      ]
    },
    {
      "cell_type": "code",
      "execution_count": 92,
      "metadata": {
        "id": "I7NSQBUDiHDT",
        "outputId": "2da4d021-7b5c-489c-bca7-402837dc6ff8"
      },
      "outputs": [
        {
          "data": {
            "text/plain": [
              "province           object\n",
              "year                int64\n",
              "population          int64\n",
              "source             object\n",
              "population (K)    float64\n",
              "LN population     float64\n",
              "dtype: object"
            ]
          },
          "execution_count": 92,
          "metadata": {},
          "output_type": "execute_result"
        }
      ],
      "source": [
        "df.dtypes"
      ]
    },
    {
      "cell_type": "markdown",
      "metadata": {
        "id": "wG1IfRT7iHDY"
      },
      "source": [
        "## Filtering and Sorting"
      ]
    },
    {
      "cell_type": "markdown",
      "metadata": {
        "id": "HC5Kaa6XiHDZ"
      },
      "source": [
        "### Filtering"
      ]
    },
    {
      "cell_type": "code",
      "execution_count": 93,
      "metadata": {
        "id": "ECXMA2kNiHDZ",
        "outputId": "05e4bce7-3a19-4c6f-baa9-79cf76c264fd"
      },
      "outputs": [
        {
          "data": {
            "text/html": [
              "<div>\n",
              "<style scoped>\n",
              "    .dataframe tbody tr th:only-of-type {\n",
              "        vertical-align: middle;\n",
              "    }\n",
              "\n",
              "    .dataframe tbody tr th {\n",
              "        vertical-align: top;\n",
              "    }\n",
              "\n",
              "    .dataframe thead th {\n",
              "        text-align: right;\n",
              "    }\n",
              "</style>\n",
              "<table border=\"1\" class=\"dataframe\">\n",
              "  <thead>\n",
              "    <tr style=\"text-align: right;\">\n",
              "      <th></th>\n",
              "      <th>province</th>\n",
              "      <th>year</th>\n",
              "      <th>population</th>\n",
              "      <th>source</th>\n",
              "      <th>population (K)</th>\n",
              "      <th>LN population</th>\n",
              "    </tr>\n",
              "  </thead>\n",
              "  <tbody>\n",
              "    <tr>\n",
              "      <th>0</th>\n",
              "      <td>Chiang Mai</td>\n",
              "      <td>2016</td>\n",
              "      <td>1630428</td>\n",
              "      <td>A</td>\n",
              "      <td>1630.428</td>\n",
              "      <td>14.304353</td>\n",
              "    </tr>\n",
              "    <tr>\n",
              "      <th>1</th>\n",
              "      <td>Chiang Mai</td>\n",
              "      <td>2017</td>\n",
              "      <td>1664012</td>\n",
              "      <td>B</td>\n",
              "      <td>1664.012</td>\n",
              "      <td>14.324742</td>\n",
              "    </tr>\n",
              "    <tr>\n",
              "      <th>2</th>\n",
              "      <td>Chiang Mai</td>\n",
              "      <td>2018</td>\n",
              "      <td>1687971</td>\n",
              "      <td>A</td>\n",
              "      <td>1687.971</td>\n",
              "      <td>14.339038</td>\n",
              "    </tr>\n",
              "    <tr>\n",
              "      <th>3</th>\n",
              "      <td>Phrae</td>\n",
              "      <td>2016</td>\n",
              "      <td>398936</td>\n",
              "      <td>C</td>\n",
              "      <td>398.936</td>\n",
              "      <td>12.896556</td>\n",
              "    </tr>\n",
              "    <tr>\n",
              "      <th>4</th>\n",
              "      <td>Phrae</td>\n",
              "      <td>2017</td>\n",
              "      <td>410382</td>\n",
              "      <td>A</td>\n",
              "      <td>410.382</td>\n",
              "      <td>12.924844</td>\n",
              "    </tr>\n",
              "    <tr>\n",
              "      <th>5</th>\n",
              "      <td>Phrae</td>\n",
              "      <td>2018</td>\n",
              "      <td>421653</td>\n",
              "      <td>B</td>\n",
              "      <td>421.653</td>\n",
              "      <td>12.951938</td>\n",
              "    </tr>\n",
              "  </tbody>\n",
              "</table>\n",
              "</div>"
            ],
            "text/plain": [
              "     province  year  population source  population (K)  LN population\n",
              "0  Chiang Mai  2016     1630428      A        1630.428      14.304353\n",
              "1  Chiang Mai  2017     1664012      B        1664.012      14.324742\n",
              "2  Chiang Mai  2018     1687971      A        1687.971      14.339038\n",
              "3       Phrae  2016      398936      C         398.936      12.896556\n",
              "4       Phrae  2017      410382      A         410.382      12.924844\n",
              "5       Phrae  2018      421653      B         421.653      12.951938"
            ]
          },
          "execution_count": 93,
          "metadata": {},
          "output_type": "execute_result"
        }
      ],
      "source": [
        "condition_list = [True,True,True,True,True,True]\n",
        "df[condition_list]"
      ]
    },
    {
      "cell_type": "code",
      "execution_count": 94,
      "metadata": {
        "id": "AtRshhWziHDd",
        "outputId": "fb57ec6b-8a64-42aa-8d39-3499e1bdab1f"
      },
      "outputs": [
        {
          "data": {
            "text/html": [
              "<div>\n",
              "<style scoped>\n",
              "    .dataframe tbody tr th:only-of-type {\n",
              "        vertical-align: middle;\n",
              "    }\n",
              "\n",
              "    .dataframe tbody tr th {\n",
              "        vertical-align: top;\n",
              "    }\n",
              "\n",
              "    .dataframe thead th {\n",
              "        text-align: right;\n",
              "    }\n",
              "</style>\n",
              "<table border=\"1\" class=\"dataframe\">\n",
              "  <thead>\n",
              "    <tr style=\"text-align: right;\">\n",
              "      <th></th>\n",
              "      <th>province</th>\n",
              "      <th>year</th>\n",
              "      <th>population</th>\n",
              "      <th>source</th>\n",
              "      <th>population (K)</th>\n",
              "      <th>LN population</th>\n",
              "    </tr>\n",
              "  </thead>\n",
              "  <tbody>\n",
              "    <tr>\n",
              "      <th>0</th>\n",
              "      <td>Chiang Mai</td>\n",
              "      <td>2016</td>\n",
              "      <td>1630428</td>\n",
              "      <td>A</td>\n",
              "      <td>1630.428</td>\n",
              "      <td>14.304353</td>\n",
              "    </tr>\n",
              "    <tr>\n",
              "      <th>2</th>\n",
              "      <td>Chiang Mai</td>\n",
              "      <td>2018</td>\n",
              "      <td>1687971</td>\n",
              "      <td>A</td>\n",
              "      <td>1687.971</td>\n",
              "      <td>14.339038</td>\n",
              "    </tr>\n",
              "    <tr>\n",
              "      <th>4</th>\n",
              "      <td>Phrae</td>\n",
              "      <td>2017</td>\n",
              "      <td>410382</td>\n",
              "      <td>A</td>\n",
              "      <td>410.382</td>\n",
              "      <td>12.924844</td>\n",
              "    </tr>\n",
              "  </tbody>\n",
              "</table>\n",
              "</div>"
            ],
            "text/plain": [
              "     province  year  population source  population (K)  LN population\n",
              "0  Chiang Mai  2016     1630428      A        1630.428      14.304353\n",
              "2  Chiang Mai  2018     1687971      A        1687.971      14.339038\n",
              "4       Phrae  2017      410382      A         410.382      12.924844"
            ]
          },
          "execution_count": 94,
          "metadata": {},
          "output_type": "execute_result"
        }
      ],
      "source": [
        "condition_list = [True,False,True,False,True,False]\n",
        "df[condition_list]"
      ]
    },
    {
      "cell_type": "code",
      "execution_count": 95,
      "metadata": {
        "id": "TdOz2AACiHDg",
        "outputId": "4ee0f70a-88f8-41d9-cd89-1fbdd4c13375"
      },
      "outputs": [
        {
          "name": "stdout",
          "output_type": "stream",
          "text": [
            "0     True\n",
            "1     True\n",
            "2     True\n",
            "3    False\n",
            "4    False\n",
            "5    False\n",
            "Name: province, dtype: bool\n"
          ]
        },
        {
          "data": {
            "text/html": [
              "<div>\n",
              "<style scoped>\n",
              "    .dataframe tbody tr th:only-of-type {\n",
              "        vertical-align: middle;\n",
              "    }\n",
              "\n",
              "    .dataframe tbody tr th {\n",
              "        vertical-align: top;\n",
              "    }\n",
              "\n",
              "    .dataframe thead th {\n",
              "        text-align: right;\n",
              "    }\n",
              "</style>\n",
              "<table border=\"1\" class=\"dataframe\">\n",
              "  <thead>\n",
              "    <tr style=\"text-align: right;\">\n",
              "      <th></th>\n",
              "      <th>province</th>\n",
              "      <th>year</th>\n",
              "      <th>population</th>\n",
              "      <th>source</th>\n",
              "      <th>population (K)</th>\n",
              "      <th>LN population</th>\n",
              "    </tr>\n",
              "  </thead>\n",
              "  <tbody>\n",
              "    <tr>\n",
              "      <th>0</th>\n",
              "      <td>Chiang Mai</td>\n",
              "      <td>2016</td>\n",
              "      <td>1630428</td>\n",
              "      <td>A</td>\n",
              "      <td>1630.428</td>\n",
              "      <td>14.304353</td>\n",
              "    </tr>\n",
              "    <tr>\n",
              "      <th>1</th>\n",
              "      <td>Chiang Mai</td>\n",
              "      <td>2017</td>\n",
              "      <td>1664012</td>\n",
              "      <td>B</td>\n",
              "      <td>1664.012</td>\n",
              "      <td>14.324742</td>\n",
              "    </tr>\n",
              "    <tr>\n",
              "      <th>2</th>\n",
              "      <td>Chiang Mai</td>\n",
              "      <td>2018</td>\n",
              "      <td>1687971</td>\n",
              "      <td>A</td>\n",
              "      <td>1687.971</td>\n",
              "      <td>14.339038</td>\n",
              "    </tr>\n",
              "  </tbody>\n",
              "</table>\n",
              "</div>"
            ],
            "text/plain": [
              "     province  year  population source  population (K)  LN population\n",
              "0  Chiang Mai  2016     1630428      A        1630.428      14.304353\n",
              "1  Chiang Mai  2017     1664012      B        1664.012      14.324742\n",
              "2  Chiang Mai  2018     1687971      A        1687.971      14.339038"
            ]
          },
          "metadata": {},
          "output_type": "display_data"
        }
      ],
      "source": [
        "condition_list = df['province'] == 'Chiang Mai'\n",
        "print(condition_list)\n",
        "display(df[condition_list])"
      ]
    },
    {
      "cell_type": "code",
      "execution_count": 96,
      "metadata": {
        "id": "CrjjtfhQiHDl",
        "outputId": "dc7464b3-d4e1-4daa-9ace-58df74e8f40a"
      },
      "outputs": [
        {
          "name": "stdout",
          "output_type": "stream",
          "text": [
            "0     True\n",
            "1     True\n",
            "2     True\n",
            "3    False\n",
            "4    False\n",
            "5    False\n",
            "Name: population, dtype: bool\n"
          ]
        },
        {
          "data": {
            "text/html": [
              "<div>\n",
              "<style scoped>\n",
              "    .dataframe tbody tr th:only-of-type {\n",
              "        vertical-align: middle;\n",
              "    }\n",
              "\n",
              "    .dataframe tbody tr th {\n",
              "        vertical-align: top;\n",
              "    }\n",
              "\n",
              "    .dataframe thead th {\n",
              "        text-align: right;\n",
              "    }\n",
              "</style>\n",
              "<table border=\"1\" class=\"dataframe\">\n",
              "  <thead>\n",
              "    <tr style=\"text-align: right;\">\n",
              "      <th></th>\n",
              "      <th>province</th>\n",
              "      <th>year</th>\n",
              "      <th>population</th>\n",
              "      <th>source</th>\n",
              "      <th>population (K)</th>\n",
              "      <th>LN population</th>\n",
              "    </tr>\n",
              "  </thead>\n",
              "  <tbody>\n",
              "    <tr>\n",
              "      <th>0</th>\n",
              "      <td>Chiang Mai</td>\n",
              "      <td>2016</td>\n",
              "      <td>1630428</td>\n",
              "      <td>A</td>\n",
              "      <td>1630.428</td>\n",
              "      <td>14.304353</td>\n",
              "    </tr>\n",
              "    <tr>\n",
              "      <th>1</th>\n",
              "      <td>Chiang Mai</td>\n",
              "      <td>2017</td>\n",
              "      <td>1664012</td>\n",
              "      <td>B</td>\n",
              "      <td>1664.012</td>\n",
              "      <td>14.324742</td>\n",
              "    </tr>\n",
              "    <tr>\n",
              "      <th>2</th>\n",
              "      <td>Chiang Mai</td>\n",
              "      <td>2018</td>\n",
              "      <td>1687971</td>\n",
              "      <td>A</td>\n",
              "      <td>1687.971</td>\n",
              "      <td>14.339038</td>\n",
              "    </tr>\n",
              "  </tbody>\n",
              "</table>\n",
              "</div>"
            ],
            "text/plain": [
              "     province  year  population source  population (K)  LN population\n",
              "0  Chiang Mai  2016     1630428      A        1630.428      14.304353\n",
              "1  Chiang Mai  2017     1664012      B        1664.012      14.324742\n",
              "2  Chiang Mai  2018     1687971      A        1687.971      14.339038"
            ]
          },
          "metadata": {},
          "output_type": "display_data"
        }
      ],
      "source": [
        "condition_list = df['population'] > 1000000\n",
        "print(condition_list)\n",
        "display(df[condition_list])"
      ]
    },
    {
      "cell_type": "code",
      "execution_count": 97,
      "metadata": {
        "id": "HyCz7DhAiHDq",
        "outputId": "58d151a0-a573-4b75-ac4c-f91abd919936"
      },
      "outputs": [
        {
          "name": "stdout",
          "output_type": "stream",
          "text": [
            "0     True\n",
            "1     True\n",
            "2     True\n",
            "3    False\n",
            "4    False\n",
            "5    False\n",
            "dtype: bool\n"
          ]
        },
        {
          "data": {
            "text/html": [
              "<div>\n",
              "<style scoped>\n",
              "    .dataframe tbody tr th:only-of-type {\n",
              "        vertical-align: middle;\n",
              "    }\n",
              "\n",
              "    .dataframe tbody tr th {\n",
              "        vertical-align: top;\n",
              "    }\n",
              "\n",
              "    .dataframe thead th {\n",
              "        text-align: right;\n",
              "    }\n",
              "</style>\n",
              "<table border=\"1\" class=\"dataframe\">\n",
              "  <thead>\n",
              "    <tr style=\"text-align: right;\">\n",
              "      <th></th>\n",
              "      <th>province</th>\n",
              "      <th>year</th>\n",
              "      <th>population</th>\n",
              "      <th>source</th>\n",
              "      <th>population (K)</th>\n",
              "      <th>LN population</th>\n",
              "    </tr>\n",
              "  </thead>\n",
              "  <tbody>\n",
              "    <tr>\n",
              "      <th>0</th>\n",
              "      <td>Chiang Mai</td>\n",
              "      <td>2016</td>\n",
              "      <td>1630428</td>\n",
              "      <td>A</td>\n",
              "      <td>1630.428</td>\n",
              "      <td>14.304353</td>\n",
              "    </tr>\n",
              "    <tr>\n",
              "      <th>1</th>\n",
              "      <td>Chiang Mai</td>\n",
              "      <td>2017</td>\n",
              "      <td>1664012</td>\n",
              "      <td>B</td>\n",
              "      <td>1664.012</td>\n",
              "      <td>14.324742</td>\n",
              "    </tr>\n",
              "    <tr>\n",
              "      <th>2</th>\n",
              "      <td>Chiang Mai</td>\n",
              "      <td>2018</td>\n",
              "      <td>1687971</td>\n",
              "      <td>A</td>\n",
              "      <td>1687.971</td>\n",
              "      <td>14.339038</td>\n",
              "    </tr>\n",
              "  </tbody>\n",
              "</table>\n",
              "</div>"
            ],
            "text/plain": [
              "     province  year  population source  population (K)  LN population\n",
              "0  Chiang Mai  2016     1630428      A        1630.428      14.304353\n",
              "1  Chiang Mai  2017     1664012      B        1664.012      14.324742\n",
              "2  Chiang Mai  2018     1687971      A        1687.971      14.339038"
            ]
          },
          "metadata": {},
          "output_type": "display_data"
        }
      ],
      "source": [
        "# Multiple condition (and)\n",
        "condition_list = (df['province'] == 'Chiang Mai') & (df['population'] > 1000000)\n",
        "print(condition_list)\n",
        "display(df[condition_list])"
      ]
    },
    {
      "cell_type": "code",
      "execution_count": 100,
      "metadata": {
        "id": "Qa0-v43FiHDv",
        "outputId": "4bf85b6c-b9e3-44db-d7aa-87aa039ab007"
      },
      "outputs": [
        {
          "name": "stdout",
          "output_type": "stream",
          "text": [
            "0     True\n",
            "1     True\n",
            "2     True\n",
            "3    False\n",
            "4    False\n",
            "5    False\n",
            "dtype: bool\n"
          ]
        },
        {
          "data": {
            "text/html": [
              "<div>\n",
              "<style scoped>\n",
              "    .dataframe tbody tr th:only-of-type {\n",
              "        vertical-align: middle;\n",
              "    }\n",
              "\n",
              "    .dataframe tbody tr th {\n",
              "        vertical-align: top;\n",
              "    }\n",
              "\n",
              "    .dataframe thead th {\n",
              "        text-align: right;\n",
              "    }\n",
              "</style>\n",
              "<table border=\"1\" class=\"dataframe\">\n",
              "  <thead>\n",
              "    <tr style=\"text-align: right;\">\n",
              "      <th></th>\n",
              "      <th>province</th>\n",
              "      <th>year</th>\n",
              "      <th>population</th>\n",
              "      <th>source</th>\n",
              "      <th>population (K)</th>\n",
              "      <th>LN population</th>\n",
              "    </tr>\n",
              "  </thead>\n",
              "  <tbody>\n",
              "    <tr>\n",
              "      <th>0</th>\n",
              "      <td>Chiang Mai</td>\n",
              "      <td>2016</td>\n",
              "      <td>1630428</td>\n",
              "      <td>A</td>\n",
              "      <td>1630.428</td>\n",
              "      <td>14.304353</td>\n",
              "    </tr>\n",
              "    <tr>\n",
              "      <th>1</th>\n",
              "      <td>Chiang Mai</td>\n",
              "      <td>2017</td>\n",
              "      <td>1664012</td>\n",
              "      <td>B</td>\n",
              "      <td>1664.012</td>\n",
              "      <td>14.324742</td>\n",
              "    </tr>\n",
              "    <tr>\n",
              "      <th>2</th>\n",
              "      <td>Chiang Mai</td>\n",
              "      <td>2018</td>\n",
              "      <td>1687971</td>\n",
              "      <td>A</td>\n",
              "      <td>1687.971</td>\n",
              "      <td>14.339038</td>\n",
              "    </tr>\n",
              "  </tbody>\n",
              "</table>\n",
              "</div>"
            ],
            "text/plain": [
              "     province  year  population source  population (K)  LN population\n",
              "0  Chiang Mai  2016     1630428      A        1630.428      14.304353\n",
              "1  Chiang Mai  2017     1664012      B        1664.012      14.324742\n",
              "2  Chiang Mai  2018     1687971      A        1687.971      14.339038"
            ]
          },
          "metadata": {},
          "output_type": "display_data"
        }
      ],
      "source": [
        "# Multiple condition (or)\n",
        "condition_list = (df['province'] == 'Chiang Mai') | (df['population'] > 1000000)\n",
        "print(condition_list)\n",
        "display(df[condition_list])"
      ]
    },
    {
      "cell_type": "markdown",
      "metadata": {
        "id": "vTSvaA3tiHDx"
      },
      "source": [
        "### Sorting"
      ]
    },
    {
      "cell_type": "code",
      "execution_count": 101,
      "metadata": {
        "id": "GHiiO_ohiHDx",
        "outputId": "ea8a1713-3ac8-46b0-a43d-107a9bd5e48e"
      },
      "outputs": [
        {
          "data": {
            "text/html": [
              "<div>\n",
              "<style scoped>\n",
              "    .dataframe tbody tr th:only-of-type {\n",
              "        vertical-align: middle;\n",
              "    }\n",
              "\n",
              "    .dataframe tbody tr th {\n",
              "        vertical-align: top;\n",
              "    }\n",
              "\n",
              "    .dataframe thead th {\n",
              "        text-align: right;\n",
              "    }\n",
              "</style>\n",
              "<table border=\"1\" class=\"dataframe\">\n",
              "  <thead>\n",
              "    <tr style=\"text-align: right;\">\n",
              "      <th></th>\n",
              "      <th>province</th>\n",
              "      <th>year</th>\n",
              "      <th>population</th>\n",
              "      <th>source</th>\n",
              "      <th>population (K)</th>\n",
              "      <th>LN population</th>\n",
              "    </tr>\n",
              "  </thead>\n",
              "  <tbody>\n",
              "    <tr>\n",
              "      <th>3</th>\n",
              "      <td>Phrae</td>\n",
              "      <td>2016</td>\n",
              "      <td>398936</td>\n",
              "      <td>C</td>\n",
              "      <td>398.936</td>\n",
              "      <td>12.896556</td>\n",
              "    </tr>\n",
              "    <tr>\n",
              "      <th>4</th>\n",
              "      <td>Phrae</td>\n",
              "      <td>2017</td>\n",
              "      <td>410382</td>\n",
              "      <td>A</td>\n",
              "      <td>410.382</td>\n",
              "      <td>12.924844</td>\n",
              "    </tr>\n",
              "    <tr>\n",
              "      <th>5</th>\n",
              "      <td>Phrae</td>\n",
              "      <td>2018</td>\n",
              "      <td>421653</td>\n",
              "      <td>B</td>\n",
              "      <td>421.653</td>\n",
              "      <td>12.951938</td>\n",
              "    </tr>\n",
              "    <tr>\n",
              "      <th>0</th>\n",
              "      <td>Chiang Mai</td>\n",
              "      <td>2016</td>\n",
              "      <td>1630428</td>\n",
              "      <td>A</td>\n",
              "      <td>1630.428</td>\n",
              "      <td>14.304353</td>\n",
              "    </tr>\n",
              "    <tr>\n",
              "      <th>1</th>\n",
              "      <td>Chiang Mai</td>\n",
              "      <td>2017</td>\n",
              "      <td>1664012</td>\n",
              "      <td>B</td>\n",
              "      <td>1664.012</td>\n",
              "      <td>14.324742</td>\n",
              "    </tr>\n",
              "    <tr>\n",
              "      <th>2</th>\n",
              "      <td>Chiang Mai</td>\n",
              "      <td>2018</td>\n",
              "      <td>1687971</td>\n",
              "      <td>A</td>\n",
              "      <td>1687.971</td>\n",
              "      <td>14.339038</td>\n",
              "    </tr>\n",
              "  </tbody>\n",
              "</table>\n",
              "</div>"
            ],
            "text/plain": [
              "     province  year  population source  population (K)  LN population\n",
              "3       Phrae  2016      398936      C         398.936      12.896556\n",
              "4       Phrae  2017      410382      A         410.382      12.924844\n",
              "5       Phrae  2018      421653      B         421.653      12.951938\n",
              "0  Chiang Mai  2016     1630428      A        1630.428      14.304353\n",
              "1  Chiang Mai  2017     1664012      B        1664.012      14.324742\n",
              "2  Chiang Mai  2018     1687971      A        1687.971      14.339038"
            ]
          },
          "execution_count": 101,
          "metadata": {},
          "output_type": "execute_result"
        }
      ],
      "source": [
        "df.sort_values(by='population')"
      ]
    },
    {
      "cell_type": "code",
      "execution_count": 102,
      "metadata": {
        "id": "dgmElMTliHD0",
        "outputId": "034669ad-7ed1-4853-938c-09d8d7564953"
      },
      "outputs": [
        {
          "data": {
            "text/html": [
              "<div>\n",
              "<style scoped>\n",
              "    .dataframe tbody tr th:only-of-type {\n",
              "        vertical-align: middle;\n",
              "    }\n",
              "\n",
              "    .dataframe tbody tr th {\n",
              "        vertical-align: top;\n",
              "    }\n",
              "\n",
              "    .dataframe thead th {\n",
              "        text-align: right;\n",
              "    }\n",
              "</style>\n",
              "<table border=\"1\" class=\"dataframe\">\n",
              "  <thead>\n",
              "    <tr style=\"text-align: right;\">\n",
              "      <th></th>\n",
              "      <th>province</th>\n",
              "      <th>year</th>\n",
              "      <th>population</th>\n",
              "      <th>source</th>\n",
              "      <th>population (K)</th>\n",
              "      <th>LN population</th>\n",
              "    </tr>\n",
              "  </thead>\n",
              "  <tbody>\n",
              "    <tr>\n",
              "      <th>2</th>\n",
              "      <td>Chiang Mai</td>\n",
              "      <td>2018</td>\n",
              "      <td>1687971</td>\n",
              "      <td>A</td>\n",
              "      <td>1687.971</td>\n",
              "      <td>14.339038</td>\n",
              "    </tr>\n",
              "    <tr>\n",
              "      <th>1</th>\n",
              "      <td>Chiang Mai</td>\n",
              "      <td>2017</td>\n",
              "      <td>1664012</td>\n",
              "      <td>B</td>\n",
              "      <td>1664.012</td>\n",
              "      <td>14.324742</td>\n",
              "    </tr>\n",
              "    <tr>\n",
              "      <th>0</th>\n",
              "      <td>Chiang Mai</td>\n",
              "      <td>2016</td>\n",
              "      <td>1630428</td>\n",
              "      <td>A</td>\n",
              "      <td>1630.428</td>\n",
              "      <td>14.304353</td>\n",
              "    </tr>\n",
              "    <tr>\n",
              "      <th>5</th>\n",
              "      <td>Phrae</td>\n",
              "      <td>2018</td>\n",
              "      <td>421653</td>\n",
              "      <td>B</td>\n",
              "      <td>421.653</td>\n",
              "      <td>12.951938</td>\n",
              "    </tr>\n",
              "    <tr>\n",
              "      <th>4</th>\n",
              "      <td>Phrae</td>\n",
              "      <td>2017</td>\n",
              "      <td>410382</td>\n",
              "      <td>A</td>\n",
              "      <td>410.382</td>\n",
              "      <td>12.924844</td>\n",
              "    </tr>\n",
              "    <tr>\n",
              "      <th>3</th>\n",
              "      <td>Phrae</td>\n",
              "      <td>2016</td>\n",
              "      <td>398936</td>\n",
              "      <td>C</td>\n",
              "      <td>398.936</td>\n",
              "      <td>12.896556</td>\n",
              "    </tr>\n",
              "  </tbody>\n",
              "</table>\n",
              "</div>"
            ],
            "text/plain": [
              "     province  year  population source  population (K)  LN population\n",
              "2  Chiang Mai  2018     1687971      A        1687.971      14.339038\n",
              "1  Chiang Mai  2017     1664012      B        1664.012      14.324742\n",
              "0  Chiang Mai  2016     1630428      A        1630.428      14.304353\n",
              "5       Phrae  2018      421653      B         421.653      12.951938\n",
              "4       Phrae  2017      410382      A         410.382      12.924844\n",
              "3       Phrae  2016      398936      C         398.936      12.896556"
            ]
          },
          "execution_count": 102,
          "metadata": {},
          "output_type": "execute_result"
        }
      ],
      "source": [
        "df.sort_values(by='population', ascending=False)"
      ]
    },
    {
      "cell_type": "code",
      "execution_count": 103,
      "metadata": {
        "id": "f5XWNGRdiHD3",
        "outputId": "592644d1-136b-4cad-8de5-5cb01825898d"
      },
      "outputs": [
        {
          "data": {
            "text/html": [
              "<div>\n",
              "<style scoped>\n",
              "    .dataframe tbody tr th:only-of-type {\n",
              "        vertical-align: middle;\n",
              "    }\n",
              "\n",
              "    .dataframe tbody tr th {\n",
              "        vertical-align: top;\n",
              "    }\n",
              "\n",
              "    .dataframe thead th {\n",
              "        text-align: right;\n",
              "    }\n",
              "</style>\n",
              "<table border=\"1\" class=\"dataframe\">\n",
              "  <thead>\n",
              "    <tr style=\"text-align: right;\">\n",
              "      <th></th>\n",
              "      <th>province</th>\n",
              "      <th>year</th>\n",
              "      <th>population</th>\n",
              "      <th>source</th>\n",
              "      <th>population (K)</th>\n",
              "      <th>LN population</th>\n",
              "    </tr>\n",
              "  </thead>\n",
              "  <tbody>\n",
              "    <tr>\n",
              "      <th>0</th>\n",
              "      <td>Chiang Mai</td>\n",
              "      <td>2016</td>\n",
              "      <td>1630428</td>\n",
              "      <td>A</td>\n",
              "      <td>1630.428</td>\n",
              "      <td>14.304353</td>\n",
              "    </tr>\n",
              "    <tr>\n",
              "      <th>3</th>\n",
              "      <td>Phrae</td>\n",
              "      <td>2016</td>\n",
              "      <td>398936</td>\n",
              "      <td>C</td>\n",
              "      <td>398.936</td>\n",
              "      <td>12.896556</td>\n",
              "    </tr>\n",
              "    <tr>\n",
              "      <th>1</th>\n",
              "      <td>Chiang Mai</td>\n",
              "      <td>2017</td>\n",
              "      <td>1664012</td>\n",
              "      <td>B</td>\n",
              "      <td>1664.012</td>\n",
              "      <td>14.324742</td>\n",
              "    </tr>\n",
              "    <tr>\n",
              "      <th>4</th>\n",
              "      <td>Phrae</td>\n",
              "      <td>2017</td>\n",
              "      <td>410382</td>\n",
              "      <td>A</td>\n",
              "      <td>410.382</td>\n",
              "      <td>12.924844</td>\n",
              "    </tr>\n",
              "    <tr>\n",
              "      <th>2</th>\n",
              "      <td>Chiang Mai</td>\n",
              "      <td>2018</td>\n",
              "      <td>1687971</td>\n",
              "      <td>A</td>\n",
              "      <td>1687.971</td>\n",
              "      <td>14.339038</td>\n",
              "    </tr>\n",
              "    <tr>\n",
              "      <th>5</th>\n",
              "      <td>Phrae</td>\n",
              "      <td>2018</td>\n",
              "      <td>421653</td>\n",
              "      <td>B</td>\n",
              "      <td>421.653</td>\n",
              "      <td>12.951938</td>\n",
              "    </tr>\n",
              "  </tbody>\n",
              "</table>\n",
              "</div>"
            ],
            "text/plain": [
              "     province  year  population source  population (K)  LN population\n",
              "0  Chiang Mai  2016     1630428      A        1630.428      14.304353\n",
              "3       Phrae  2016      398936      C         398.936      12.896556\n",
              "1  Chiang Mai  2017     1664012      B        1664.012      14.324742\n",
              "4       Phrae  2017      410382      A         410.382      12.924844\n",
              "2  Chiang Mai  2018     1687971      A        1687.971      14.339038\n",
              "5       Phrae  2018      421653      B         421.653      12.951938"
            ]
          },
          "execution_count": 103,
          "metadata": {},
          "output_type": "execute_result"
        }
      ],
      "source": [
        "df.sort_values(by=['year','population'], ascending=[True,False])"
      ]
    },
    {
      "cell_type": "code",
      "execution_count": 104,
      "metadata": {
        "id": "MQKUolkmfp-b"
      },
      "outputs": [],
      "source": [
        "df3=df.sort_values(by=['year','population'], ascending=[True,False])"
      ]
    },
    {
      "cell_type": "code",
      "execution_count": 105,
      "metadata": {
        "id": "LyPcfzWNecLb",
        "outputId": "dfa5eeb4-12d2-4295-8eaf-cb4ca3c2c1cb"
      },
      "outputs": [
        {
          "data": {
            "text/html": [
              "<div>\n",
              "<style scoped>\n",
              "    .dataframe tbody tr th:only-of-type {\n",
              "        vertical-align: middle;\n",
              "    }\n",
              "\n",
              "    .dataframe tbody tr th {\n",
              "        vertical-align: top;\n",
              "    }\n",
              "\n",
              "    .dataframe thead th {\n",
              "        text-align: right;\n",
              "    }\n",
              "</style>\n",
              "<table border=\"1\" class=\"dataframe\">\n",
              "  <thead>\n",
              "    <tr style=\"text-align: right;\">\n",
              "      <th></th>\n",
              "      <th>province</th>\n",
              "      <th>year</th>\n",
              "      <th>population</th>\n",
              "      <th>source</th>\n",
              "      <th>population (K)</th>\n",
              "      <th>LN population</th>\n",
              "    </tr>\n",
              "  </thead>\n",
              "  <tbody>\n",
              "    <tr>\n",
              "      <th>0</th>\n",
              "      <td>Chiang Mai</td>\n",
              "      <td>2016</td>\n",
              "      <td>1630428</td>\n",
              "      <td>A</td>\n",
              "      <td>1630.428</td>\n",
              "      <td>14.304353</td>\n",
              "    </tr>\n",
              "    <tr>\n",
              "      <th>3</th>\n",
              "      <td>Phrae</td>\n",
              "      <td>2016</td>\n",
              "      <td>398936</td>\n",
              "      <td>C</td>\n",
              "      <td>398.936</td>\n",
              "      <td>12.896556</td>\n",
              "    </tr>\n",
              "    <tr>\n",
              "      <th>1</th>\n",
              "      <td>Chiang Mai</td>\n",
              "      <td>2017</td>\n",
              "      <td>1664012</td>\n",
              "      <td>B</td>\n",
              "      <td>1664.012</td>\n",
              "      <td>14.324742</td>\n",
              "    </tr>\n",
              "    <tr>\n",
              "      <th>4</th>\n",
              "      <td>Phrae</td>\n",
              "      <td>2017</td>\n",
              "      <td>410382</td>\n",
              "      <td>A</td>\n",
              "      <td>410.382</td>\n",
              "      <td>12.924844</td>\n",
              "    </tr>\n",
              "    <tr>\n",
              "      <th>2</th>\n",
              "      <td>Chiang Mai</td>\n",
              "      <td>2018</td>\n",
              "      <td>1687971</td>\n",
              "      <td>A</td>\n",
              "      <td>1687.971</td>\n",
              "      <td>14.339038</td>\n",
              "    </tr>\n",
              "    <tr>\n",
              "      <th>5</th>\n",
              "      <td>Phrae</td>\n",
              "      <td>2018</td>\n",
              "      <td>421653</td>\n",
              "      <td>B</td>\n",
              "      <td>421.653</td>\n",
              "      <td>12.951938</td>\n",
              "    </tr>\n",
              "  </tbody>\n",
              "</table>\n",
              "</div>"
            ],
            "text/plain": [
              "     province  year  population source  population (K)  LN population\n",
              "0  Chiang Mai  2016     1630428      A        1630.428      14.304353\n",
              "3       Phrae  2016      398936      C         398.936      12.896556\n",
              "1  Chiang Mai  2017     1664012      B        1664.012      14.324742\n",
              "4       Phrae  2017      410382      A         410.382      12.924844\n",
              "2  Chiang Mai  2018     1687971      A        1687.971      14.339038\n",
              "5       Phrae  2018      421653      B         421.653      12.951938"
            ]
          },
          "execution_count": 105,
          "metadata": {},
          "output_type": "execute_result"
        }
      ],
      "source": [
        "df3"
      ]
    },
    {
      "cell_type": "markdown",
      "metadata": {
        "id": "zSzelOopiHD8"
      },
      "source": [
        "## Basic Statistic"
      ]
    },
    {
      "cell_type": "markdown",
      "metadata": {
        "id": "knBNF0-3iHD9"
      },
      "source": [
        "**Descriptive and summary statistics methods**\n",
        "- **count** <br> Number of non-NA values\n",
        "- **describe** <br> Compute set of summary statistics for Series or each DataFrame column\n",
        "- **min, max** <br> Compute minimum and maximum values\n",
        "- **argmin, argmax** <br> Compute index locations (integers) at which minimum or maximum value obtained, respectively\n",
        "- **idxmin, idxmax** <br> Compute index labels at which minimum or maximum value obtained, respectively\n",
        "- **quantile** <br> Compute sample quantile ranging from 0 to 1\n",
        "- **sum** <br> Sum of values\n",
        "- **mean** <br> Mean of values\n",
        "- **median** <br> Arithmetic median (50% quantile) of values\n",
        "- **mad** <br> Mean absolute deviation from mean value\n",
        "- **prod** <br> Product of all values\n",
        "- **var** <br> Sample variance of values\n",
        "- **std** <br> Sample standard deviation of values\n",
        "- **skew** <br> Sample skewness (third moment) of values\n",
        "- **kurt** <br> Sample kurtosis (fourth moment) of values\n",
        "- **cumsum** <br> Cumulative sum of values\n",
        "- **cummin, cummax** <br> Cumulative minimum or maximum of values, respectively\n",
        "- **cumprod** <br> Cumulative product of values\n",
        "- **diff** <br> Compute first arithmetic difference (useful for time series)\n",
        "- **pct_change** <br> Compute percent changes"
      ]
    },
    {
      "cell_type": "markdown",
      "metadata": {
        "id": "zwhCDqaCiHD9"
      },
      "source": [
        "### Numeric"
      ]
    },
    {
      "cell_type": "code",
      "execution_count": null,
      "metadata": {
        "id": "kPv9DR_kiHD-",
        "outputId": "8db0db78-f2ae-4f38-f736-d84cb6609cba"
      },
      "outputs": [
        {
          "data": {
            "text/plain": [
              "year              2.017000e+03\n",
              "population        1.035564e+06\n",
              "population (K)    1.035564e+03\n",
              "LN population     1.362358e+01\n",
              "dtype: float64"
            ]
          },
          "execution_count": 136,
          "metadata": {},
          "output_type": "execute_result"
        }
      ],
      "source": [
        "# Find Mean in all numeric columns\n",
        "df.mean(numeric_only=True)"
      ]
    },
    {
      "cell_type": "code",
      "execution_count": null,
      "metadata": {
        "id": "LTqz-ZVBiHEB",
        "outputId": "670d7863-8b3e-42d7-be27-7d407498ed8a"
      },
      "outputs": [
        {
          "data": {
            "text/plain": [
              "1035563.6666666666"
            ]
          },
          "execution_count": 137,
          "metadata": {},
          "output_type": "execute_result"
        }
      ],
      "source": [
        "# Find Mean in some column\n",
        "df['population'].mean()"
      ]
    },
    {
      "cell_type": "code",
      "execution_count": null,
      "metadata": {
        "id": "L5XKvTQdiHED",
        "outputId": "34e03f7b-7523-4ef1-fa05-38c1353c0b5b"
      },
      "outputs": [
        {
          "data": {
            "text/plain": [
              "population        1.035564e+06\n",
              "population (K)    1.035564e+03\n",
              "dtype: float64"
            ]
          },
          "execution_count": 138,
          "metadata": {},
          "output_type": "execute_result"
        }
      ],
      "source": [
        "# Find Mean in some column\n",
        "column_list = ['population','population (K)']\n",
        "df[column_list].mean()"
      ]
    },
    {
      "cell_type": "code",
      "execution_count": null,
      "metadata": {
        "id": "w9CMcQ9XiHEF",
        "outputId": "9e5a99f9-8ddb-4ea4-83e0-8e4308b5beaa",
        "scrolled": true
      },
      "outputs": [
        {
          "data": {
            "text/plain": [
              "population        6\n",
              "population (K)    6\n",
              "dtype: int64"
            ]
          },
          "execution_count": 139,
          "metadata": {},
          "output_type": "execute_result"
        }
      ],
      "source": [
        "df[column_list].count()"
      ]
    },
    {
      "cell_type": "code",
      "execution_count": null,
      "metadata": {
        "id": "OiXX1fzjiHEH",
        "outputId": "6cea4ecb-430c-40ca-cb83-0c90a4b606c5"
      },
      "outputs": [
        {
          "data": {
            "text/plain": [
              "population        398936.000\n",
              "population (K)       398.936\n",
              "dtype: float64"
            ]
          },
          "execution_count": 140,
          "metadata": {},
          "output_type": "execute_result"
        }
      ],
      "source": [
        "df[column_list].min()"
      ]
    },
    {
      "cell_type": "code",
      "execution_count": null,
      "metadata": {
        "id": "R7Tn_yk5iHEJ",
        "outputId": "f3d66a17-c873-46e0-bae5-10a2673b6faf"
      },
      "outputs": [
        {
          "data": {
            "text/plain": [
              "population        1687971.000\n",
              "population (K)       1687.971\n",
              "dtype: float64"
            ]
          },
          "execution_count": 141,
          "metadata": {},
          "output_type": "execute_result"
        }
      ],
      "source": [
        "df[column_list].max()"
      ]
    },
    {
      "cell_type": "code",
      "execution_count": null,
      "metadata": {
        "id": "ArZlrWREiHEL",
        "outputId": "7e423574-80a7-4062-dd7e-d4d7b4cc9259"
      },
      "outputs": [
        {
          "data": {
            "text/plain": [
              "population        1.026040e+06\n",
              "population (K)    1.026041e+03\n",
              "dtype: float64"
            ]
          },
          "execution_count": 142,
          "metadata": {},
          "output_type": "execute_result"
        }
      ],
      "source": [
        "df[column_list].median()"
      ]
    },
    {
      "cell_type": "code",
      "execution_count": null,
      "metadata": {
        "id": "kKpyRpEqiHEN",
        "outputId": "79f41e5f-79fe-40ef-9709-44cd87678aea"
      },
      "outputs": [
        {
          "data": {
            "text/plain": [
              "population        685197.697059\n",
              "population (K)       685.197697\n",
              "dtype: float64"
            ]
          },
          "execution_count": 143,
          "metadata": {},
          "output_type": "execute_result"
        }
      ],
      "source": [
        "df[column_list].std()"
      ]
    },
    {
      "cell_type": "code",
      "execution_count": null,
      "metadata": {
        "id": "77ve9W-ViHEP",
        "outputId": "13536ec9-a69d-40e9-8811-17d474a05105",
        "scrolled": true
      },
      "outputs": [
        {
          "data": {
            "text/html": [
              "<div>\n",
              "<style scoped>\n",
              "    .dataframe tbody tr th:only-of-type {\n",
              "        vertical-align: middle;\n",
              "    }\n",
              "\n",
              "    .dataframe tbody tr th {\n",
              "        vertical-align: top;\n",
              "    }\n",
              "\n",
              "    .dataframe thead th {\n",
              "        text-align: right;\n",
              "    }\n",
              "</style>\n",
              "<table border=\"1\" class=\"dataframe\">\n",
              "  <thead>\n",
              "    <tr style=\"text-align: right;\">\n",
              "      <th></th>\n",
              "      <th>population</th>\n",
              "      <th>population (K)</th>\n",
              "    </tr>\n",
              "  </thead>\n",
              "  <tbody>\n",
              "    <tr>\n",
              "      <th>population</th>\n",
              "      <td>1.0</td>\n",
              "      <td>1.0</td>\n",
              "    </tr>\n",
              "    <tr>\n",
              "      <th>population (K)</th>\n",
              "      <td>1.0</td>\n",
              "      <td>1.0</td>\n",
              "    </tr>\n",
              "  </tbody>\n",
              "</table>\n",
              "</div>"
            ],
            "text/plain": [
              "                population  population (K)\n",
              "population             1.0             1.0\n",
              "population (K)         1.0             1.0"
            ]
          },
          "execution_count": 144,
          "metadata": {},
          "output_type": "execute_result"
        }
      ],
      "source": [
        "df[column_list].corr()"
      ]
    },
    {
      "cell_type": "code",
      "execution_count": null,
      "metadata": {
        "id": "yqc6a_dPiHER",
        "outputId": "964532a0-5739-4019-db3a-d79d21b565bb"
      },
      "outputs": [
        {
          "data": {
            "text/plain": [
              "year              2.017750e+03\n",
              "population        1.655616e+06\n",
              "population (K)    1.655616e+03\n",
              "LN population     1.431964e+01\n",
              "Name: 0.75, dtype: float64"
            ]
          },
          "execution_count": 145,
          "metadata": {},
          "output_type": "execute_result"
        }
      ],
      "source": [
        "df.quantile(0.75,numeric_only=True)"
      ]
    },
    {
      "cell_type": "markdown",
      "metadata": {
        "id": "F40RKnBDiHET"
      },
      "source": [
        "### Object"
      ]
    },
    {
      "cell_type": "code",
      "execution_count": null,
      "metadata": {
        "id": "_tUoYUU0iHET",
        "outputId": "6a944037-614c-40b5-9198-1c81b6a373af"
      },
      "outputs": [
        {
          "data": {
            "text/plain": [
              "array(['Chiang Mai', 'Phrae'], dtype=object)"
            ]
          },
          "execution_count": 146,
          "metadata": {},
          "output_type": "execute_result"
        }
      ],
      "source": [
        "df['province'].unique()"
      ]
    },
    {
      "cell_type": "code",
      "execution_count": null,
      "metadata": {
        "id": "oWtCbSnWiHEZ",
        "outputId": "4e85a8a9-c930-49cf-9d7c-7989ebb45881"
      },
      "outputs": [
        {
          "data": {
            "text/plain": [
              "2"
            ]
          },
          "execution_count": 147,
          "metadata": {},
          "output_type": "execute_result"
        }
      ],
      "source": [
        "df['province'].nunique()"
      ]
    },
    {
      "cell_type": "code",
      "execution_count": null,
      "metadata": {
        "id": "wqJBODsuiHEb",
        "outputId": "a6ad1264-6115-4173-83b8-2921deaaefd0"
      },
      "outputs": [
        {
          "data": {
            "text/plain": [
              "Chiang Mai    3\n",
              "Phrae         3\n",
              "Name: province, dtype: int64"
            ]
          },
          "execution_count": 148,
          "metadata": {},
          "output_type": "execute_result"
        }
      ],
      "source": [
        "df['province'].value_counts()"
      ]
    },
    {
      "cell_type": "markdown",
      "metadata": {
        "id": "Ya1bCt1EiHEd"
      },
      "source": [
        "### Describe"
      ]
    },
    {
      "cell_type": "code",
      "execution_count": null,
      "metadata": {
        "id": "rS0QXtmPiHEd",
        "outputId": "cf39c182-9ae8-42e2-9853-b8dff12c0f68"
      },
      "outputs": [
        {
          "data": {
            "text/html": [
              "<div>\n",
              "<style scoped>\n",
              "    .dataframe tbody tr th:only-of-type {\n",
              "        vertical-align: middle;\n",
              "    }\n",
              "\n",
              "    .dataframe tbody tr th {\n",
              "        vertical-align: top;\n",
              "    }\n",
              "\n",
              "    .dataframe thead th {\n",
              "        text-align: right;\n",
              "    }\n",
              "</style>\n",
              "<table border=\"1\" class=\"dataframe\">\n",
              "  <thead>\n",
              "    <tr style=\"text-align: right;\">\n",
              "      <th></th>\n",
              "      <th>year</th>\n",
              "      <th>population</th>\n",
              "    </tr>\n",
              "  </thead>\n",
              "  <tbody>\n",
              "    <tr>\n",
              "      <th>count</th>\n",
              "      <td>6.000000</td>\n",
              "      <td>6.000000e+00</td>\n",
              "    </tr>\n",
              "    <tr>\n",
              "      <th>mean</th>\n",
              "      <td>2017.000000</td>\n",
              "      <td>1.035564e+06</td>\n",
              "    </tr>\n",
              "    <tr>\n",
              "      <th>std</th>\n",
              "      <td>0.894427</td>\n",
              "      <td>6.851977e+05</td>\n",
              "    </tr>\n",
              "    <tr>\n",
              "      <th>min</th>\n",
              "      <td>2016.000000</td>\n",
              "      <td>3.989360e+05</td>\n",
              "    </tr>\n",
              "    <tr>\n",
              "      <th>25%</th>\n",
              "      <td>2016.250000</td>\n",
              "      <td>4.131998e+05</td>\n",
              "    </tr>\n",
              "    <tr>\n",
              "      <th>50%</th>\n",
              "      <td>2017.000000</td>\n",
              "      <td>1.026040e+06</td>\n",
              "    </tr>\n",
              "    <tr>\n",
              "      <th>75%</th>\n",
              "      <td>2017.750000</td>\n",
              "      <td>1.655616e+06</td>\n",
              "    </tr>\n",
              "    <tr>\n",
              "      <th>max</th>\n",
              "      <td>2018.000000</td>\n",
              "      <td>1.687971e+06</td>\n",
              "    </tr>\n",
              "  </tbody>\n",
              "</table>\n",
              "</div>"
            ],
            "text/plain": [
              "              year    population\n",
              "count     6.000000  6.000000e+00\n",
              "mean   2017.000000  1.035564e+06\n",
              "std       0.894427  6.851977e+05\n",
              "min    2016.000000  3.989360e+05\n",
              "25%    2016.250000  4.131998e+05\n",
              "50%    2017.000000  1.026040e+06\n",
              "75%    2017.750000  1.655616e+06\n",
              "max    2018.000000  1.687971e+06"
            ]
          },
          "execution_count": 149,
          "metadata": {},
          "output_type": "execute_result"
        }
      ],
      "source": [
        "#Numeric\n",
        "df[columns_list].describe()"
      ]
    },
    {
      "cell_type": "code",
      "execution_count": null,
      "metadata": {
        "id": "-J4NYD10iHEf",
        "outputId": "f2e0c08a-1f81-4914-fb2e-179e54ae7ab1"
      },
      "outputs": [
        {
          "data": {
            "text/html": [
              "<div>\n",
              "<style scoped>\n",
              "    .dataframe tbody tr th:only-of-type {\n",
              "        vertical-align: middle;\n",
              "    }\n",
              "\n",
              "    .dataframe tbody tr th {\n",
              "        vertical-align: top;\n",
              "    }\n",
              "\n",
              "    .dataframe thead th {\n",
              "        text-align: right;\n",
              "    }\n",
              "</style>\n",
              "<table border=\"1\" class=\"dataframe\">\n",
              "  <thead>\n",
              "    <tr style=\"text-align: right;\">\n",
              "      <th></th>\n",
              "      <th>province</th>\n",
              "      <th>source</th>\n",
              "    </tr>\n",
              "  </thead>\n",
              "  <tbody>\n",
              "    <tr>\n",
              "      <th>count</th>\n",
              "      <td>6</td>\n",
              "      <td>6</td>\n",
              "    </tr>\n",
              "    <tr>\n",
              "      <th>unique</th>\n",
              "      <td>2</td>\n",
              "      <td>3</td>\n",
              "    </tr>\n",
              "    <tr>\n",
              "      <th>top</th>\n",
              "      <td>Chiang Mai</td>\n",
              "      <td>A</td>\n",
              "    </tr>\n",
              "    <tr>\n",
              "      <th>freq</th>\n",
              "      <td>3</td>\n",
              "      <td>3</td>\n",
              "    </tr>\n",
              "  </tbody>\n",
              "</table>\n",
              "</div>"
            ],
            "text/plain": [
              "          province source\n",
              "count            6      6\n",
              "unique           2      3\n",
              "top     Chiang Mai      A\n",
              "freq             3      3"
            ]
          },
          "execution_count": 150,
          "metadata": {},
          "output_type": "execute_result"
        }
      ],
      "source": [
        "#Category\n",
        "df.describe(include=object)"
      ]
    },
    {
      "cell_type": "code",
      "execution_count": null,
      "metadata": {
        "id": "ig5o2ZuyiHEh",
        "outputId": "53a34a18-56a0-4210-ab91-274aedebbb8e"
      },
      "outputs": [
        {
          "data": {
            "text/html": [
              "<div>\n",
              "<style scoped>\n",
              "    .dataframe tbody tr th:only-of-type {\n",
              "        vertical-align: middle;\n",
              "    }\n",
              "\n",
              "    .dataframe tbody tr th {\n",
              "        vertical-align: top;\n",
              "    }\n",
              "\n",
              "    .dataframe thead th {\n",
              "        text-align: right;\n",
              "    }\n",
              "</style>\n",
              "<table border=\"1\" class=\"dataframe\">\n",
              "  <thead>\n",
              "    <tr style=\"text-align: right;\">\n",
              "      <th></th>\n",
              "      <th>province</th>\n",
              "      <th>year</th>\n",
              "      <th>population</th>\n",
              "      <th>source</th>\n",
              "      <th>population (K)</th>\n",
              "      <th>LN population</th>\n",
              "    </tr>\n",
              "  </thead>\n",
              "  <tbody>\n",
              "    <tr>\n",
              "      <th>count</th>\n",
              "      <td>6</td>\n",
              "      <td>6.000000</td>\n",
              "      <td>6.000000e+00</td>\n",
              "      <td>6</td>\n",
              "      <td>6.000000</td>\n",
              "      <td>6.000000</td>\n",
              "    </tr>\n",
              "    <tr>\n",
              "      <th>unique</th>\n",
              "      <td>2</td>\n",
              "      <td>NaN</td>\n",
              "      <td>NaN</td>\n",
              "      <td>3</td>\n",
              "      <td>NaN</td>\n",
              "      <td>NaN</td>\n",
              "    </tr>\n",
              "    <tr>\n",
              "      <th>top</th>\n",
              "      <td>Chiang Mai</td>\n",
              "      <td>NaN</td>\n",
              "      <td>NaN</td>\n",
              "      <td>A</td>\n",
              "      <td>NaN</td>\n",
              "      <td>NaN</td>\n",
              "    </tr>\n",
              "    <tr>\n",
              "      <th>freq</th>\n",
              "      <td>3</td>\n",
              "      <td>NaN</td>\n",
              "      <td>NaN</td>\n",
              "      <td>3</td>\n",
              "      <td>NaN</td>\n",
              "      <td>NaN</td>\n",
              "    </tr>\n",
              "    <tr>\n",
              "      <th>mean</th>\n",
              "      <td>NaN</td>\n",
              "      <td>2017.000000</td>\n",
              "      <td>1.035564e+06</td>\n",
              "      <td>NaN</td>\n",
              "      <td>1035.563667</td>\n",
              "      <td>13.623578</td>\n",
              "    </tr>\n",
              "    <tr>\n",
              "      <th>std</th>\n",
              "      <td>NaN</td>\n",
              "      <td>0.894427</td>\n",
              "      <td>6.851977e+05</td>\n",
              "      <td>NaN</td>\n",
              "      <td>685.197697</td>\n",
              "      <td>0.766141</td>\n",
              "    </tr>\n",
              "    <tr>\n",
              "      <th>min</th>\n",
              "      <td>NaN</td>\n",
              "      <td>2016.000000</td>\n",
              "      <td>3.989360e+05</td>\n",
              "      <td>NaN</td>\n",
              "      <td>398.936000</td>\n",
              "      <td>12.896556</td>\n",
              "    </tr>\n",
              "    <tr>\n",
              "      <th>25%</th>\n",
              "      <td>NaN</td>\n",
              "      <td>2016.250000</td>\n",
              "      <td>4.131998e+05</td>\n",
              "      <td>NaN</td>\n",
              "      <td>413.199750</td>\n",
              "      <td>12.931617</td>\n",
              "    </tr>\n",
              "    <tr>\n",
              "      <th>50%</th>\n",
              "      <td>NaN</td>\n",
              "      <td>2017.000000</td>\n",
              "      <td>1.026040e+06</td>\n",
              "      <td>NaN</td>\n",
              "      <td>1026.040500</td>\n",
              "      <td>13.628146</td>\n",
              "    </tr>\n",
              "    <tr>\n",
              "      <th>75%</th>\n",
              "      <td>NaN</td>\n",
              "      <td>2017.750000</td>\n",
              "      <td>1.655616e+06</td>\n",
              "      <td>NaN</td>\n",
              "      <td>1655.616000</td>\n",
              "      <td>14.319645</td>\n",
              "    </tr>\n",
              "    <tr>\n",
              "      <th>max</th>\n",
              "      <td>NaN</td>\n",
              "      <td>2018.000000</td>\n",
              "      <td>1.687971e+06</td>\n",
              "      <td>NaN</td>\n",
              "      <td>1687.971000</td>\n",
              "      <td>14.339038</td>\n",
              "    </tr>\n",
              "  </tbody>\n",
              "</table>\n",
              "</div>"
            ],
            "text/plain": [
              "          province         year    population source  population (K)  \\\n",
              "count            6     6.000000  6.000000e+00      6        6.000000   \n",
              "unique           2          NaN           NaN      3             NaN   \n",
              "top     Chiang Mai          NaN           NaN      A             NaN   \n",
              "freq             3          NaN           NaN      3             NaN   \n",
              "mean           NaN  2017.000000  1.035564e+06    NaN     1035.563667   \n",
              "std            NaN     0.894427  6.851977e+05    NaN      685.197697   \n",
              "min            NaN  2016.000000  3.989360e+05    NaN      398.936000   \n",
              "25%            NaN  2016.250000  4.131998e+05    NaN      413.199750   \n",
              "50%            NaN  2017.000000  1.026040e+06    NaN     1026.040500   \n",
              "75%            NaN  2017.750000  1.655616e+06    NaN     1655.616000   \n",
              "max            NaN  2018.000000  1.687971e+06    NaN     1687.971000   \n",
              "\n",
              "        LN population  \n",
              "count        6.000000  \n",
              "unique            NaN  \n",
              "top               NaN  \n",
              "freq              NaN  \n",
              "mean        13.623578  \n",
              "std          0.766141  \n",
              "min         12.896556  \n",
              "25%         12.931617  \n",
              "50%         13.628146  \n",
              "75%         14.319645  \n",
              "max         14.339038  "
            ]
          },
          "execution_count": 151,
          "metadata": {},
          "output_type": "execute_result"
        }
      ],
      "source": [
        "df.describe(include='all')"
      ]
    },
    {
      "cell_type": "markdown",
      "metadata": {
        "id": "XBidf1LaiHEj"
      },
      "source": [
        "## Grouping"
      ]
    },
    {
      "cell_type": "markdown",
      "metadata": {
        "id": "l8Vc_DmZiHEk"
      },
      "source": [
        "### Group by"
      ]
    },
    {
      "cell_type": "markdown",
      "metadata": {
        "id": "gfhBzYOFiHEl"
      },
      "source": [
        "**Optimized groupby methods**\n",
        "- **count** <BR> Number of non-NA values in the group\n",
        "- **sum** <BR> Sum of non-NA values\n",
        "- **mean** <BR> Mean of non-NA values\n",
        "- **median** <BR> Arithmetic median of non-NA values\n",
        "- **std, var** <BR> Unbiased (n – 1 denominator) standard deviation and variance\n",
        "- **min, max** <BR> Minimum and maximum of non-NA values\n",
        "- **prod** <BR> Product of non-NA values\n",
        "- **first, last** <BR> First and last non-NA values"
      ]
    },
    {
      "cell_type": "code",
      "execution_count": null,
      "metadata": {
        "id": "L1SsV3dCiHEl",
        "outputId": "0e03d6da-27e8-42bc-fdcc-ba6435df36aa"
      },
      "outputs": [
        {
          "data": {
            "text/plain": [
              "province\n",
              "Chiang Mai    1.660804e+06\n",
              "Phrae         4.103237e+05\n",
              "Name: population, dtype: float64"
            ]
          },
          "execution_count": 152,
          "metadata": {},
          "output_type": "execute_result"
        }
      ],
      "source": [
        "# select avg(population) from df group by province\n",
        "df.groupby('province')['population'].mean()"
      ]
    },
    {
      "cell_type": "code",
      "execution_count": null,
      "metadata": {
        "id": "gA9T8q2YiHEo",
        "outputId": "511cf3a3-0023-423e-9383-463a30c38517"
      },
      "outputs": [
        {
          "data": {
            "text/html": [
              "<div>\n",
              "<style scoped>\n",
              "    .dataframe tbody tr th:only-of-type {\n",
              "        vertical-align: middle;\n",
              "    }\n",
              "\n",
              "    .dataframe tbody tr th {\n",
              "        vertical-align: top;\n",
              "    }\n",
              "\n",
              "    .dataframe thead th {\n",
              "        text-align: right;\n",
              "    }\n",
              "</style>\n",
              "<table border=\"1\" class=\"dataframe\">\n",
              "  <thead>\n",
              "    <tr style=\"text-align: right;\">\n",
              "      <th></th>\n",
              "      <th>province</th>\n",
              "      <th>avg_pop</th>\n",
              "    </tr>\n",
              "  </thead>\n",
              "  <tbody>\n",
              "    <tr>\n",
              "      <th>0</th>\n",
              "      <td>Chiang Mai</td>\n",
              "      <td>1.660804e+06</td>\n",
              "    </tr>\n",
              "    <tr>\n",
              "      <th>1</th>\n",
              "      <td>Phrae</td>\n",
              "      <td>4.103237e+05</td>\n",
              "    </tr>\n",
              "  </tbody>\n",
              "</table>\n",
              "</div>"
            ],
            "text/plain": [
              "     province       avg_pop\n",
              "0  Chiang Mai  1.660804e+06\n",
              "1       Phrae  4.103237e+05"
            ]
          },
          "execution_count": 153,
          "metadata": {},
          "output_type": "execute_result"
        }
      ],
      "source": [
        "# Convert to DataFrame\n",
        "df.groupby('province')['population'].mean().reset_index(name='avg_pop')"
      ]
    },
    {
      "cell_type": "markdown",
      "metadata": {
        "id": "W2OVp62iiHEp"
      },
      "source": [
        "#### Multiple group by"
      ]
    },
    {
      "cell_type": "code",
      "execution_count": null,
      "metadata": {
        "id": "VS5hNA2NiHEq",
        "outputId": "ef3306d4-cbea-421a-adf2-63efedf34baf",
        "scrolled": true
      },
      "outputs": [
        {
          "data": {
            "text/html": [
              "<div>\n",
              "<style scoped>\n",
              "    .dataframe tbody tr th:only-of-type {\n",
              "        vertical-align: middle;\n",
              "    }\n",
              "\n",
              "    .dataframe tbody tr th {\n",
              "        vertical-align: top;\n",
              "    }\n",
              "\n",
              "    .dataframe thead th {\n",
              "        text-align: right;\n",
              "    }\n",
              "</style>\n",
              "<table border=\"1\" class=\"dataframe\">\n",
              "  <thead>\n",
              "    <tr style=\"text-align: right;\">\n",
              "      <th></th>\n",
              "      <th>population</th>\n",
              "    </tr>\n",
              "    <tr>\n",
              "      <th>province</th>\n",
              "      <th></th>\n",
              "    </tr>\n",
              "  </thead>\n",
              "  <tbody>\n",
              "    <tr>\n",
              "      <th>Chiang Mai</th>\n",
              "      <td>1.660804e+06</td>\n",
              "    </tr>\n",
              "    <tr>\n",
              "      <th>Phrae</th>\n",
              "      <td>4.103237e+05</td>\n",
              "    </tr>\n",
              "  </tbody>\n",
              "</table>\n",
              "</div>"
            ],
            "text/plain": [
              "              population\n",
              "province                \n",
              "Chiang Mai  1.660804e+06\n",
              "Phrae       4.103237e+05"
            ]
          },
          "execution_count": 154,
          "metadata": {},
          "output_type": "execute_result"
        }
      ],
      "source": [
        "mapper = {\n",
        "    'population' : 'mean'\n",
        "}\n",
        "\n",
        "df.groupby('province').agg(mapper)"
      ]
    },
    {
      "cell_type": "code",
      "execution_count": null,
      "metadata": {
        "id": "W70JIaSOiHEs",
        "outputId": "c75b078b-fb63-4714-fc7d-840d23d65961"
      },
      "outputs": [
        {
          "data": {
            "text/html": [
              "<div>\n",
              "<style scoped>\n",
              "    .dataframe tbody tr th:only-of-type {\n",
              "        vertical-align: middle;\n",
              "    }\n",
              "\n",
              "    .dataframe tbody tr th {\n",
              "        vertical-align: top;\n",
              "    }\n",
              "\n",
              "    .dataframe thead tr th {\n",
              "        text-align: left;\n",
              "    }\n",
              "\n",
              "    .dataframe thead tr:last-of-type th {\n",
              "        text-align: right;\n",
              "    }\n",
              "</style>\n",
              "<table border=\"1\" class=\"dataframe\">\n",
              "  <thead>\n",
              "    <tr>\n",
              "      <th></th>\n",
              "      <th colspan=\"3\" halign=\"left\">population</th>\n",
              "    </tr>\n",
              "    <tr>\n",
              "      <th></th>\n",
              "      <th>min</th>\n",
              "      <th>max</th>\n",
              "      <th>mean</th>\n",
              "    </tr>\n",
              "    <tr>\n",
              "      <th>province</th>\n",
              "      <th></th>\n",
              "      <th></th>\n",
              "      <th></th>\n",
              "    </tr>\n",
              "  </thead>\n",
              "  <tbody>\n",
              "    <tr>\n",
              "      <th>Chiang Mai</th>\n",
              "      <td>1630428</td>\n",
              "      <td>1687971</td>\n",
              "      <td>1.660804e+06</td>\n",
              "    </tr>\n",
              "    <tr>\n",
              "      <th>Phrae</th>\n",
              "      <td>398936</td>\n",
              "      <td>421653</td>\n",
              "      <td>4.103237e+05</td>\n",
              "    </tr>\n",
              "  </tbody>\n",
              "</table>\n",
              "</div>"
            ],
            "text/plain": [
              "           population                       \n",
              "                  min      max          mean\n",
              "province                                    \n",
              "Chiang Mai    1630428  1687971  1.660804e+06\n",
              "Phrae          398936   421653  4.103237e+05"
            ]
          },
          "execution_count": 155,
          "metadata": {},
          "output_type": "execute_result"
        }
      ],
      "source": [
        "mapper = {\n",
        "    'population' : ['min','max','mean']\n",
        "}\n",
        "\n",
        "df.groupby('province').agg(mapper)"
      ]
    },
    {
      "cell_type": "code",
      "execution_count": null,
      "metadata": {
        "id": "1rsyVY7xiHEu",
        "outputId": "f15c9253-d51b-49de-fb80-f12a6a8a773c"
      },
      "outputs": [
        {
          "data": {
            "text/html": [
              "<div>\n",
              "<style scoped>\n",
              "    .dataframe tbody tr th:only-of-type {\n",
              "        vertical-align: middle;\n",
              "    }\n",
              "\n",
              "    .dataframe tbody tr th {\n",
              "        vertical-align: top;\n",
              "    }\n",
              "\n",
              "    .dataframe thead tr th {\n",
              "        text-align: left;\n",
              "    }\n",
              "\n",
              "    .dataframe thead tr:last-of-type th {\n",
              "        text-align: right;\n",
              "    }\n",
              "</style>\n",
              "<table border=\"1\" class=\"dataframe\">\n",
              "  <thead>\n",
              "    <tr>\n",
              "      <th></th>\n",
              "      <th colspan=\"3\" halign=\"left\">population</th>\n",
              "      <th>source</th>\n",
              "    </tr>\n",
              "    <tr>\n",
              "      <th></th>\n",
              "      <th>min</th>\n",
              "      <th>max</th>\n",
              "      <th>mean</th>\n",
              "      <th>nunique</th>\n",
              "    </tr>\n",
              "    <tr>\n",
              "      <th>province</th>\n",
              "      <th></th>\n",
              "      <th></th>\n",
              "      <th></th>\n",
              "      <th></th>\n",
              "    </tr>\n",
              "  </thead>\n",
              "  <tbody>\n",
              "    <tr>\n",
              "      <th>Chiang Mai</th>\n",
              "      <td>1630428</td>\n",
              "      <td>1687971</td>\n",
              "      <td>1.660804e+06</td>\n",
              "      <td>2</td>\n",
              "    </tr>\n",
              "    <tr>\n",
              "      <th>Phrae</th>\n",
              "      <td>398936</td>\n",
              "      <td>421653</td>\n",
              "      <td>4.103237e+05</td>\n",
              "      <td>3</td>\n",
              "    </tr>\n",
              "  </tbody>\n",
              "</table>\n",
              "</div>"
            ],
            "text/plain": [
              "           population                         source\n",
              "                  min      max          mean nunique\n",
              "province                                            \n",
              "Chiang Mai    1630428  1687971  1.660804e+06       2\n",
              "Phrae          398936   421653  4.103237e+05       3"
            ]
          },
          "execution_count": 156,
          "metadata": {},
          "output_type": "execute_result"
        }
      ],
      "source": [
        "mapper = {\n",
        "    'population' : ['min','max','mean'],\n",
        "    'source' : 'nunique'\n",
        "}\n",
        "\n",
        "df.groupby('province').agg(mapper)"
      ]
    },
    {
      "cell_type": "markdown",
      "metadata": {
        "id": "sEyLe4L6iHEz"
      },
      "source": [
        "### Group by window"
      ]
    },
    {
      "cell_type": "code",
      "execution_count": null,
      "metadata": {
        "id": "s752yhQ8iHEz",
        "outputId": "f22290d0-66b2-4ad4-abcd-abb01f95f618"
      },
      "outputs": [
        {
          "data": {
            "text/plain": [
              "0          NaN\n",
              "1    3294440.0\n",
              "2    3351983.0\n",
              "3    2086907.0\n",
              "4     809318.0\n",
              "5     832035.0\n",
              "Name: population, dtype: float64"
            ]
          },
          "execution_count": 157,
          "metadata": {},
          "output_type": "execute_result"
        }
      ],
      "source": [
        "df['population'].rolling(2).sum()"
      ]
    },
    {
      "cell_type": "code",
      "execution_count": null,
      "metadata": {
        "id": "UOP-8TnkiHE1",
        "outputId": "960579a0-b887-4417-ff7a-a4b9fbe218b7"
      },
      "outputs": [
        {
          "data": {
            "text/plain": [
              "0    1630428.0\n",
              "1    3294440.0\n",
              "2    3351983.0\n",
              "3    2086907.0\n",
              "4     809318.0\n",
              "5     832035.0\n",
              "Name: population, dtype: float64"
            ]
          },
          "execution_count": 158,
          "metadata": {},
          "output_type": "execute_result"
        }
      ],
      "source": [
        "df['population'].rolling(2, min_periods=1).sum()"
      ]
    },
    {
      "cell_type": "code",
      "execution_count": null,
      "metadata": {
        "id": "JJpUKgBoiHE2",
        "outputId": "ce31692a-5e18-4144-df49-83a6d22d7859"
      },
      "outputs": [
        {
          "data": {
            "text/html": [
              "<div>\n",
              "<style scoped>\n",
              "    .dataframe tbody tr th:only-of-type {\n",
              "        vertical-align: middle;\n",
              "    }\n",
              "\n",
              "    .dataframe tbody tr th {\n",
              "        vertical-align: top;\n",
              "    }\n",
              "\n",
              "    .dataframe thead th {\n",
              "        text-align: right;\n",
              "    }\n",
              "</style>\n",
              "<table border=\"1\" class=\"dataframe\">\n",
              "  <thead>\n",
              "    <tr style=\"text-align: right;\">\n",
              "      <th></th>\n",
              "      <th>province</th>\n",
              "      <th>level_1</th>\n",
              "      <th>avg_pop_last2year</th>\n",
              "    </tr>\n",
              "  </thead>\n",
              "  <tbody>\n",
              "    <tr>\n",
              "      <th>0</th>\n",
              "      <td>Chiang Mai</td>\n",
              "      <td>0</td>\n",
              "      <td>1630428.0</td>\n",
              "    </tr>\n",
              "    <tr>\n",
              "      <th>1</th>\n",
              "      <td>Chiang Mai</td>\n",
              "      <td>1</td>\n",
              "      <td>3294440.0</td>\n",
              "    </tr>\n",
              "    <tr>\n",
              "      <th>2</th>\n",
              "      <td>Chiang Mai</td>\n",
              "      <td>2</td>\n",
              "      <td>3351983.0</td>\n",
              "    </tr>\n",
              "    <tr>\n",
              "      <th>3</th>\n",
              "      <td>Phrae</td>\n",
              "      <td>3</td>\n",
              "      <td>398936.0</td>\n",
              "    </tr>\n",
              "    <tr>\n",
              "      <th>4</th>\n",
              "      <td>Phrae</td>\n",
              "      <td>4</td>\n",
              "      <td>809318.0</td>\n",
              "    </tr>\n",
              "    <tr>\n",
              "      <th>5</th>\n",
              "      <td>Phrae</td>\n",
              "      <td>5</td>\n",
              "      <td>832035.0</td>\n",
              "    </tr>\n",
              "  </tbody>\n",
              "</table>\n",
              "</div>"
            ],
            "text/plain": [
              "     province  level_1  avg_pop_last2year\n",
              "0  Chiang Mai        0          1630428.0\n",
              "1  Chiang Mai        1          3294440.0\n",
              "2  Chiang Mai        2          3351983.0\n",
              "3       Phrae        3           398936.0\n",
              "4       Phrae        4           809318.0\n",
              "5       Phrae        5           832035.0"
            ]
          },
          "execution_count": 159,
          "metadata": {},
          "output_type": "execute_result"
        }
      ],
      "source": [
        "df.groupby('province')['population'].rolling(2, min_periods=1).sum().reset_index(name='avg_pop_last2year')"
      ]
    },
    {
      "cell_type": "markdown",
      "metadata": {
        "id": "sBYVDkldiHE4"
      },
      "source": [
        "## Pivot"
      ]
    },
    {
      "cell_type": "markdown",
      "metadata": {
        "id": "HxF17UPiiHE4"
      },
      "source": [
        "### Pivot"
      ]
    },
    {
      "cell_type": "code",
      "execution_count": null,
      "metadata": {
        "id": "zdIoYouhiHE5",
        "outputId": "16fa4d7f-14bf-401a-d281-e284ec690a0c"
      },
      "outputs": [
        {
          "data": {
            "text/html": [
              "<div>\n",
              "<style scoped>\n",
              "    .dataframe tbody tr th:only-of-type {\n",
              "        vertical-align: middle;\n",
              "    }\n",
              "\n",
              "    .dataframe tbody tr th {\n",
              "        vertical-align: top;\n",
              "    }\n",
              "\n",
              "    .dataframe thead th {\n",
              "        text-align: right;\n",
              "    }\n",
              "</style>\n",
              "<table border=\"1\" class=\"dataframe\">\n",
              "  <thead>\n",
              "    <tr style=\"text-align: right;\">\n",
              "      <th></th>\n",
              "      <th>province</th>\n",
              "      <th>year</th>\n",
              "      <th>population</th>\n",
              "      <th>source</th>\n",
              "      <th>population (K)</th>\n",
              "      <th>LN population</th>\n",
              "    </tr>\n",
              "  </thead>\n",
              "  <tbody>\n",
              "    <tr>\n",
              "      <th>0</th>\n",
              "      <td>Chiang Mai</td>\n",
              "      <td>2016</td>\n",
              "      <td>1630428</td>\n",
              "      <td>A</td>\n",
              "      <td>1630.428</td>\n",
              "      <td>14.304353</td>\n",
              "    </tr>\n",
              "    <tr>\n",
              "      <th>1</th>\n",
              "      <td>Chiang Mai</td>\n",
              "      <td>2017</td>\n",
              "      <td>1664012</td>\n",
              "      <td>B</td>\n",
              "      <td>1664.012</td>\n",
              "      <td>14.324742</td>\n",
              "    </tr>\n",
              "    <tr>\n",
              "      <th>2</th>\n",
              "      <td>Chiang Mai</td>\n",
              "      <td>2018</td>\n",
              "      <td>1687971</td>\n",
              "      <td>A</td>\n",
              "      <td>1687.971</td>\n",
              "      <td>14.339038</td>\n",
              "    </tr>\n",
              "    <tr>\n",
              "      <th>3</th>\n",
              "      <td>Phrae</td>\n",
              "      <td>2016</td>\n",
              "      <td>398936</td>\n",
              "      <td>C</td>\n",
              "      <td>398.936</td>\n",
              "      <td>12.896556</td>\n",
              "    </tr>\n",
              "    <tr>\n",
              "      <th>4</th>\n",
              "      <td>Phrae</td>\n",
              "      <td>2017</td>\n",
              "      <td>410382</td>\n",
              "      <td>A</td>\n",
              "      <td>410.382</td>\n",
              "      <td>12.924844</td>\n",
              "    </tr>\n",
              "    <tr>\n",
              "      <th>5</th>\n",
              "      <td>Phrae</td>\n",
              "      <td>2018</td>\n",
              "      <td>421653</td>\n",
              "      <td>B</td>\n",
              "      <td>421.653</td>\n",
              "      <td>12.951938</td>\n",
              "    </tr>\n",
              "  </tbody>\n",
              "</table>\n",
              "</div>"
            ],
            "text/plain": [
              "     province  year  population source  population (K)  LN population\n",
              "0  Chiang Mai  2016     1630428      A        1630.428      14.304353\n",
              "1  Chiang Mai  2017     1664012      B        1664.012      14.324742\n",
              "2  Chiang Mai  2018     1687971      A        1687.971      14.339038\n",
              "3       Phrae  2016      398936      C         398.936      12.896556\n",
              "4       Phrae  2017      410382      A         410.382      12.924844\n",
              "5       Phrae  2018      421653      B         421.653      12.951938"
            ]
          },
          "execution_count": 160,
          "metadata": {},
          "output_type": "execute_result"
        }
      ],
      "source": [
        "df"
      ]
    },
    {
      "cell_type": "code",
      "execution_count": null,
      "metadata": {
        "id": "zbupH-uviHE7",
        "outputId": "38a99472-7976-4171-ddd8-7ea1e4c9ed9b",
        "scrolled": true
      },
      "outputs": [
        {
          "data": {
            "text/html": [
              "<div>\n",
              "<style scoped>\n",
              "    .dataframe tbody tr th:only-of-type {\n",
              "        vertical-align: middle;\n",
              "    }\n",
              "\n",
              "    .dataframe tbody tr th {\n",
              "        vertical-align: top;\n",
              "    }\n",
              "\n",
              "    .dataframe thead tr th {\n",
              "        text-align: left;\n",
              "    }\n",
              "\n",
              "    .dataframe thead tr:last-of-type th {\n",
              "        text-align: right;\n",
              "    }\n",
              "</style>\n",
              "<table border=\"1\" class=\"dataframe\">\n",
              "  <thead>\n",
              "    <tr>\n",
              "      <th></th>\n",
              "      <th colspan=\"3\" halign=\"left\">population</th>\n",
              "    </tr>\n",
              "    <tr>\n",
              "      <th>year</th>\n",
              "      <th>2016</th>\n",
              "      <th>2017</th>\n",
              "      <th>2018</th>\n",
              "    </tr>\n",
              "    <tr>\n",
              "      <th>province</th>\n",
              "      <th></th>\n",
              "      <th></th>\n",
              "      <th></th>\n",
              "    </tr>\n",
              "  </thead>\n",
              "  <tbody>\n",
              "    <tr>\n",
              "      <th>Chiang Mai</th>\n",
              "      <td>1630428</td>\n",
              "      <td>1664012</td>\n",
              "      <td>1687971</td>\n",
              "    </tr>\n",
              "    <tr>\n",
              "      <th>Phrae</th>\n",
              "      <td>398936</td>\n",
              "      <td>410382</td>\n",
              "      <td>421653</td>\n",
              "    </tr>\n",
              "  </tbody>\n",
              "</table>\n",
              "</div>"
            ],
            "text/plain": [
              "           population                  \n",
              "year             2016     2017     2018\n",
              "province                               \n",
              "Chiang Mai    1630428  1664012  1687971\n",
              "Phrae          398936   410382   421653"
            ]
          },
          "execution_count": 161,
          "metadata": {},
          "output_type": "execute_result"
        }
      ],
      "source": [
        "pivot = df.pivot_table(index=['province'], columns=['year'], values=['population'])\n",
        "pivot"
      ]
    },
    {
      "cell_type": "code",
      "execution_count": null,
      "metadata": {
        "id": "Kcp4YZi2iHE9",
        "outputId": "66f11072-b077-4564-b7a0-3efa54308eae"
      },
      "outputs": [
        {
          "data": {
            "text/html": [
              "<div>\n",
              "<style scoped>\n",
              "    .dataframe tbody tr th:only-of-type {\n",
              "        vertical-align: middle;\n",
              "    }\n",
              "\n",
              "    .dataframe tbody tr th {\n",
              "        vertical-align: top;\n",
              "    }\n",
              "\n",
              "    .dataframe thead th {\n",
              "        text-align: right;\n",
              "    }\n",
              "</style>\n",
              "<table border=\"1\" class=\"dataframe\">\n",
              "  <thead>\n",
              "    <tr style=\"text-align: right;\">\n",
              "      <th></th>\n",
              "      <th>province</th>\n",
              "      <th>2016</th>\n",
              "      <th>2017</th>\n",
              "      <th>2018</th>\n",
              "    </tr>\n",
              "  </thead>\n",
              "  <tbody>\n",
              "    <tr>\n",
              "      <th>0</th>\n",
              "      <td>Chiang Mai</td>\n",
              "      <td>1630428</td>\n",
              "      <td>1664012</td>\n",
              "      <td>1687971</td>\n",
              "    </tr>\n",
              "    <tr>\n",
              "      <th>1</th>\n",
              "      <td>Phrae</td>\n",
              "      <td>398936</td>\n",
              "      <td>410382</td>\n",
              "      <td>421653</td>\n",
              "    </tr>\n",
              "  </tbody>\n",
              "</table>\n",
              "</div>"
            ],
            "text/plain": [
              "     province     2016     2017     2018\n",
              "0  Chiang Mai  1630428  1664012  1687971\n",
              "1       Phrae   398936   410382   421653"
            ]
          },
          "execution_count": 162,
          "metadata": {},
          "output_type": "execute_result"
        }
      ],
      "source": [
        "pivot.columns = ['{1}'.format(col[0],col[1]) for col in pivot.columns.values]\n",
        "pivot = pivot.reset_index()\n",
        "pivot"
      ]
    },
    {
      "cell_type": "markdown",
      "metadata": {
        "id": "W2w8zP9jiHE_"
      },
      "source": [
        "### Melt"
      ]
    },
    {
      "cell_type": "code",
      "execution_count": null,
      "metadata": {
        "id": "Rw0BDDfeiHE_",
        "outputId": "d39134e1-0d34-42a3-953a-03f93f28827d"
      },
      "outputs": [
        {
          "data": {
            "text/html": [
              "<div>\n",
              "<style scoped>\n",
              "    .dataframe tbody tr th:only-of-type {\n",
              "        vertical-align: middle;\n",
              "    }\n",
              "\n",
              "    .dataframe tbody tr th {\n",
              "        vertical-align: top;\n",
              "    }\n",
              "\n",
              "    .dataframe thead th {\n",
              "        text-align: right;\n",
              "    }\n",
              "</style>\n",
              "<table border=\"1\" class=\"dataframe\">\n",
              "  <thead>\n",
              "    <tr style=\"text-align: right;\">\n",
              "      <th></th>\n",
              "      <th>province</th>\n",
              "      <th>variable</th>\n",
              "      <th>value</th>\n",
              "    </tr>\n",
              "  </thead>\n",
              "  <tbody>\n",
              "    <tr>\n",
              "      <th>0</th>\n",
              "      <td>Chiang Mai</td>\n",
              "      <td>2016</td>\n",
              "      <td>1630428</td>\n",
              "    </tr>\n",
              "    <tr>\n",
              "      <th>1</th>\n",
              "      <td>Phrae</td>\n",
              "      <td>2016</td>\n",
              "      <td>398936</td>\n",
              "    </tr>\n",
              "    <tr>\n",
              "      <th>2</th>\n",
              "      <td>Chiang Mai</td>\n",
              "      <td>2017</td>\n",
              "      <td>1664012</td>\n",
              "    </tr>\n",
              "    <tr>\n",
              "      <th>3</th>\n",
              "      <td>Phrae</td>\n",
              "      <td>2017</td>\n",
              "      <td>410382</td>\n",
              "    </tr>\n",
              "    <tr>\n",
              "      <th>4</th>\n",
              "      <td>Chiang Mai</td>\n",
              "      <td>2018</td>\n",
              "      <td>1687971</td>\n",
              "    </tr>\n",
              "    <tr>\n",
              "      <th>5</th>\n",
              "      <td>Phrae</td>\n",
              "      <td>2018</td>\n",
              "      <td>421653</td>\n",
              "    </tr>\n",
              "  </tbody>\n",
              "</table>\n",
              "</div>"
            ],
            "text/plain": [
              "     province variable    value\n",
              "0  Chiang Mai     2016  1630428\n",
              "1       Phrae     2016   398936\n",
              "2  Chiang Mai     2017  1664012\n",
              "3       Phrae     2017   410382\n",
              "4  Chiang Mai     2018  1687971\n",
              "5       Phrae     2018   421653"
            ]
          },
          "execution_count": 163,
          "metadata": {},
          "output_type": "execute_result"
        }
      ],
      "source": [
        "melt = pd.melt(pivot, id_vars=['province'], value_vars=['2016','2017','2018'])\n",
        "melt"
      ]
    },
    {
      "cell_type": "code",
      "execution_count": null,
      "metadata": {
        "id": "BZAVr1fiiHFB",
        "outputId": "b5307103-069f-4030-a040-2645d10f8f66"
      },
      "outputs": [
        {
          "data": {
            "text/html": [
              "<div>\n",
              "<style scoped>\n",
              "    .dataframe tbody tr th:only-of-type {\n",
              "        vertical-align: middle;\n",
              "    }\n",
              "\n",
              "    .dataframe tbody tr th {\n",
              "        vertical-align: top;\n",
              "    }\n",
              "\n",
              "    .dataframe thead th {\n",
              "        text-align: right;\n",
              "    }\n",
              "</style>\n",
              "<table border=\"1\" class=\"dataframe\">\n",
              "  <thead>\n",
              "    <tr style=\"text-align: right;\">\n",
              "      <th></th>\n",
              "      <th>province</th>\n",
              "      <th>year</th>\n",
              "      <th>population</th>\n",
              "    </tr>\n",
              "  </thead>\n",
              "  <tbody>\n",
              "    <tr>\n",
              "      <th>0</th>\n",
              "      <td>Chiang Mai</td>\n",
              "      <td>2016</td>\n",
              "      <td>1630428</td>\n",
              "    </tr>\n",
              "    <tr>\n",
              "      <th>1</th>\n",
              "      <td>Phrae</td>\n",
              "      <td>2016</td>\n",
              "      <td>398936</td>\n",
              "    </tr>\n",
              "    <tr>\n",
              "      <th>2</th>\n",
              "      <td>Chiang Mai</td>\n",
              "      <td>2017</td>\n",
              "      <td>1664012</td>\n",
              "    </tr>\n",
              "    <tr>\n",
              "      <th>3</th>\n",
              "      <td>Phrae</td>\n",
              "      <td>2017</td>\n",
              "      <td>410382</td>\n",
              "    </tr>\n",
              "    <tr>\n",
              "      <th>4</th>\n",
              "      <td>Chiang Mai</td>\n",
              "      <td>2018</td>\n",
              "      <td>1687971</td>\n",
              "    </tr>\n",
              "    <tr>\n",
              "      <th>5</th>\n",
              "      <td>Phrae</td>\n",
              "      <td>2018</td>\n",
              "      <td>421653</td>\n",
              "    </tr>\n",
              "  </tbody>\n",
              "</table>\n",
              "</div>"
            ],
            "text/plain": [
              "     province  year  population\n",
              "0  Chiang Mai  2016     1630428\n",
              "1       Phrae  2016      398936\n",
              "2  Chiang Mai  2017     1664012\n",
              "3       Phrae  2017      410382\n",
              "4  Chiang Mai  2018     1687971\n",
              "5       Phrae  2018      421653"
            ]
          },
          "execution_count": 164,
          "metadata": {},
          "output_type": "execute_result"
        }
      ],
      "source": [
        "mapper = {\n",
        "    'variable':'year',\n",
        "    'value':'population'\n",
        "}\n",
        "melt = melt.rename(columns=mapper)\n",
        "melt"
      ]
    },
    {
      "cell_type": "markdown",
      "metadata": {
        "id": "OI_j4rbYiHFC"
      },
      "source": [
        "## Data Cleansing"
      ]
    },
    {
      "cell_type": "code",
      "execution_count": null,
      "metadata": {
        "id": "UQnFf-2piHFD",
        "outputId": "bdf381a8-9682-4e1f-b8f4-98f22979211d"
      },
      "outputs": [
        {
          "data": {
            "text/html": [
              "<div>\n",
              "<style scoped>\n",
              "    .dataframe tbody tr th:only-of-type {\n",
              "        vertical-align: middle;\n",
              "    }\n",
              "\n",
              "    .dataframe tbody tr th {\n",
              "        vertical-align: top;\n",
              "    }\n",
              "\n",
              "    .dataframe thead th {\n",
              "        text-align: right;\n",
              "    }\n",
              "</style>\n",
              "<table border=\"1\" class=\"dataframe\">\n",
              "  <thead>\n",
              "    <tr style=\"text-align: right;\">\n",
              "      <th></th>\n",
              "      <th>province</th>\n",
              "      <th>year</th>\n",
              "      <th>population</th>\n",
              "    </tr>\n",
              "  </thead>\n",
              "  <tbody>\n",
              "    <tr>\n",
              "      <th>0</th>\n",
              "      <td>Chiang Mai</td>\n",
              "      <td>2016</td>\n",
              "      <td>1630428.0</td>\n",
              "    </tr>\n",
              "    <tr>\n",
              "      <th>1</th>\n",
              "      <td>Chiang Mai</td>\n",
              "      <td>2017</td>\n",
              "      <td>1664012.0</td>\n",
              "    </tr>\n",
              "    <tr>\n",
              "      <th>2</th>\n",
              "      <td>Chiang Mai</td>\n",
              "      <td>2018</td>\n",
              "      <td>1687971.0</td>\n",
              "    </tr>\n",
              "    <tr>\n",
              "      <th>3</th>\n",
              "      <td>Phrae</td>\n",
              "      <td>2016</td>\n",
              "      <td>NaN</td>\n",
              "    </tr>\n",
              "    <tr>\n",
              "      <th>4</th>\n",
              "      <td>Phrae</td>\n",
              "      <td>2017</td>\n",
              "      <td>410382.0</td>\n",
              "    </tr>\n",
              "    <tr>\n",
              "      <th>5</th>\n",
              "      <td>None</td>\n",
              "      <td>2018</td>\n",
              "      <td>421653.0</td>\n",
              "    </tr>\n",
              "  </tbody>\n",
              "</table>\n",
              "</div>"
            ],
            "text/plain": [
              "     province  year  population\n",
              "0  Chiang Mai  2016   1630428.0\n",
              "1  Chiang Mai  2017   1664012.0\n",
              "2  Chiang Mai  2018   1687971.0\n",
              "3       Phrae  2016         NaN\n",
              "4       Phrae  2017    410382.0\n",
              "5        None  2018    421653.0"
            ]
          },
          "execution_count": 165,
          "metadata": {},
          "output_type": "execute_result"
        }
      ],
      "source": [
        "# Create From a List\n",
        "data = [\n",
        "    ['Chiang Mai', 2016, 1630428],\n",
        "    ['Chiang Mai', 2017, 1664012],\n",
        "    ['Chiang Mai', 2018, 1687971],\n",
        "    ['Phrae', 2016, None],\n",
        "    ['Phrae', 2017, 410382],\n",
        "    [None, 2018, 421653]\n",
        "]\n",
        "df = pd.DataFrame(\n",
        "    data=data,\n",
        "    columns=['province','year','population']\n",
        ")\n",
        "df"
      ]
    },
    {
      "cell_type": "markdown",
      "metadata": {
        "id": "mmns1TzwiHFF"
      },
      "source": [
        "### Find Null"
      ]
    },
    {
      "cell_type": "code",
      "execution_count": null,
      "metadata": {
        "id": "hFeVuS4miHFF",
        "outputId": "84deda18-94c1-455b-fbd3-c4f5f3964337"
      },
      "outputs": [
        {
          "data": {
            "text/html": [
              "<div>\n",
              "<style scoped>\n",
              "    .dataframe tbody tr th:only-of-type {\n",
              "        vertical-align: middle;\n",
              "    }\n",
              "\n",
              "    .dataframe tbody tr th {\n",
              "        vertical-align: top;\n",
              "    }\n",
              "\n",
              "    .dataframe thead th {\n",
              "        text-align: right;\n",
              "    }\n",
              "</style>\n",
              "<table border=\"1\" class=\"dataframe\">\n",
              "  <thead>\n",
              "    <tr style=\"text-align: right;\">\n",
              "      <th></th>\n",
              "      <th>province</th>\n",
              "      <th>year</th>\n",
              "      <th>population</th>\n",
              "    </tr>\n",
              "  </thead>\n",
              "  <tbody>\n",
              "    <tr>\n",
              "      <th>0</th>\n",
              "      <td>False</td>\n",
              "      <td>False</td>\n",
              "      <td>False</td>\n",
              "    </tr>\n",
              "    <tr>\n",
              "      <th>1</th>\n",
              "      <td>False</td>\n",
              "      <td>False</td>\n",
              "      <td>False</td>\n",
              "    </tr>\n",
              "    <tr>\n",
              "      <th>2</th>\n",
              "      <td>False</td>\n",
              "      <td>False</td>\n",
              "      <td>False</td>\n",
              "    </tr>\n",
              "    <tr>\n",
              "      <th>3</th>\n",
              "      <td>False</td>\n",
              "      <td>False</td>\n",
              "      <td>True</td>\n",
              "    </tr>\n",
              "    <tr>\n",
              "      <th>4</th>\n",
              "      <td>False</td>\n",
              "      <td>False</td>\n",
              "      <td>False</td>\n",
              "    </tr>\n",
              "    <tr>\n",
              "      <th>5</th>\n",
              "      <td>True</td>\n",
              "      <td>False</td>\n",
              "      <td>False</td>\n",
              "    </tr>\n",
              "  </tbody>\n",
              "</table>\n",
              "</div>"
            ],
            "text/plain": [
              "   province   year  population\n",
              "0     False  False       False\n",
              "1     False  False       False\n",
              "2     False  False       False\n",
              "3     False  False        True\n",
              "4     False  False       False\n",
              "5      True  False       False"
            ]
          },
          "execution_count": 166,
          "metadata": {},
          "output_type": "execute_result"
        }
      ],
      "source": [
        "df.isnull()"
      ]
    },
    {
      "cell_type": "code",
      "execution_count": null,
      "metadata": {
        "id": "v3NIZjAniHFG",
        "outputId": "db4367dc-bacd-48a7-bb1e-3f601eb005fd"
      },
      "outputs": [
        {
          "data": {
            "text/html": [
              "<div>\n",
              "<style scoped>\n",
              "    .dataframe tbody tr th:only-of-type {\n",
              "        vertical-align: middle;\n",
              "    }\n",
              "\n",
              "    .dataframe tbody tr th {\n",
              "        vertical-align: top;\n",
              "    }\n",
              "\n",
              "    .dataframe thead th {\n",
              "        text-align: right;\n",
              "    }\n",
              "</style>\n",
              "<table border=\"1\" class=\"dataframe\">\n",
              "  <thead>\n",
              "    <tr style=\"text-align: right;\">\n",
              "      <th></th>\n",
              "      <th>province</th>\n",
              "      <th>year</th>\n",
              "      <th>population</th>\n",
              "    </tr>\n",
              "  </thead>\n",
              "  <tbody>\n",
              "    <tr>\n",
              "      <th>0</th>\n",
              "      <td>False</td>\n",
              "      <td>False</td>\n",
              "      <td>False</td>\n",
              "    </tr>\n",
              "    <tr>\n",
              "      <th>1</th>\n",
              "      <td>False</td>\n",
              "      <td>False</td>\n",
              "      <td>False</td>\n",
              "    </tr>\n",
              "    <tr>\n",
              "      <th>2</th>\n",
              "      <td>False</td>\n",
              "      <td>False</td>\n",
              "      <td>False</td>\n",
              "    </tr>\n",
              "    <tr>\n",
              "      <th>3</th>\n",
              "      <td>False</td>\n",
              "      <td>False</td>\n",
              "      <td>True</td>\n",
              "    </tr>\n",
              "    <tr>\n",
              "      <th>4</th>\n",
              "      <td>False</td>\n",
              "      <td>False</td>\n",
              "      <td>False</td>\n",
              "    </tr>\n",
              "    <tr>\n",
              "      <th>5</th>\n",
              "      <td>True</td>\n",
              "      <td>False</td>\n",
              "      <td>False</td>\n",
              "    </tr>\n",
              "  </tbody>\n",
              "</table>\n",
              "</div>"
            ],
            "text/plain": [
              "   province   year  population\n",
              "0     False  False       False\n",
              "1     False  False       False\n",
              "2     False  False       False\n",
              "3     False  False        True\n",
              "4     False  False       False\n",
              "5      True  False       False"
            ]
          },
          "execution_count": 167,
          "metadata": {},
          "output_type": "execute_result"
        }
      ],
      "source": [
        "df.isna()"
      ]
    },
    {
      "cell_type": "code",
      "execution_count": null,
      "metadata": {
        "id": "16iNsoMjiHFI",
        "outputId": "87ad96c4-c853-4de8-b838-83a6b5fde2bf"
      },
      "outputs": [
        {
          "data": {
            "text/plain": [
              "province      1\n",
              "year          0\n",
              "population    1\n",
              "dtype: int64"
            ]
          },
          "execution_count": 168,
          "metadata": {},
          "output_type": "execute_result"
        }
      ],
      "source": [
        "df.isnull().sum()"
      ]
    },
    {
      "cell_type": "markdown",
      "metadata": {
        "id": "9XwHQdN9iHFJ"
      },
      "source": [
        "### Drop NA"
      ]
    },
    {
      "cell_type": "code",
      "execution_count": null,
      "metadata": {
        "id": "VJpxI2zbiHFK",
        "outputId": "5263c0fb-7a60-4ac2-a59a-f57323aeb0ae"
      },
      "outputs": [
        {
          "data": {
            "text/html": [
              "<div>\n",
              "<style scoped>\n",
              "    .dataframe tbody tr th:only-of-type {\n",
              "        vertical-align: middle;\n",
              "    }\n",
              "\n",
              "    .dataframe tbody tr th {\n",
              "        vertical-align: top;\n",
              "    }\n",
              "\n",
              "    .dataframe thead th {\n",
              "        text-align: right;\n",
              "    }\n",
              "</style>\n",
              "<table border=\"1\" class=\"dataframe\">\n",
              "  <thead>\n",
              "    <tr style=\"text-align: right;\">\n",
              "      <th></th>\n",
              "      <th>province</th>\n",
              "      <th>year</th>\n",
              "      <th>population</th>\n",
              "    </tr>\n",
              "  </thead>\n",
              "  <tbody>\n",
              "    <tr>\n",
              "      <th>0</th>\n",
              "      <td>Chiang Mai</td>\n",
              "      <td>2016</td>\n",
              "      <td>1630428.0</td>\n",
              "    </tr>\n",
              "    <tr>\n",
              "      <th>1</th>\n",
              "      <td>Chiang Mai</td>\n",
              "      <td>2017</td>\n",
              "      <td>1664012.0</td>\n",
              "    </tr>\n",
              "    <tr>\n",
              "      <th>2</th>\n",
              "      <td>Chiang Mai</td>\n",
              "      <td>2018</td>\n",
              "      <td>1687971.0</td>\n",
              "    </tr>\n",
              "    <tr>\n",
              "      <th>4</th>\n",
              "      <td>Phrae</td>\n",
              "      <td>2017</td>\n",
              "      <td>410382.0</td>\n",
              "    </tr>\n",
              "  </tbody>\n",
              "</table>\n",
              "</div>"
            ],
            "text/plain": [
              "     province  year  population\n",
              "0  Chiang Mai  2016   1630428.0\n",
              "1  Chiang Mai  2017   1664012.0\n",
              "2  Chiang Mai  2018   1687971.0\n",
              "4       Phrae  2017    410382.0"
            ]
          },
          "execution_count": 169,
          "metadata": {},
          "output_type": "execute_result"
        }
      ],
      "source": [
        "df.dropna()"
      ]
    },
    {
      "cell_type": "code",
      "execution_count": null,
      "metadata": {
        "id": "P6spiG7ciHFL",
        "outputId": "73f50f38-f594-47b7-d85e-793cc6c5f4e6"
      },
      "outputs": [
        {
          "data": {
            "text/html": [
              "<div>\n",
              "<style scoped>\n",
              "    .dataframe tbody tr th:only-of-type {\n",
              "        vertical-align: middle;\n",
              "    }\n",
              "\n",
              "    .dataframe tbody tr th {\n",
              "        vertical-align: top;\n",
              "    }\n",
              "\n",
              "    .dataframe thead th {\n",
              "        text-align: right;\n",
              "    }\n",
              "</style>\n",
              "<table border=\"1\" class=\"dataframe\">\n",
              "  <thead>\n",
              "    <tr style=\"text-align: right;\">\n",
              "      <th></th>\n",
              "      <th>province</th>\n",
              "      <th>year</th>\n",
              "      <th>population</th>\n",
              "    </tr>\n",
              "  </thead>\n",
              "  <tbody>\n",
              "    <tr>\n",
              "      <th>0</th>\n",
              "      <td>Chiang Mai</td>\n",
              "      <td>2016</td>\n",
              "      <td>1630428.0</td>\n",
              "    </tr>\n",
              "    <tr>\n",
              "      <th>1</th>\n",
              "      <td>Chiang Mai</td>\n",
              "      <td>2017</td>\n",
              "      <td>1664012.0</td>\n",
              "    </tr>\n",
              "    <tr>\n",
              "      <th>2</th>\n",
              "      <td>Chiang Mai</td>\n",
              "      <td>2018</td>\n",
              "      <td>1687971.0</td>\n",
              "    </tr>\n",
              "    <tr>\n",
              "      <th>3</th>\n",
              "      <td>Phrae</td>\n",
              "      <td>2016</td>\n",
              "      <td>NaN</td>\n",
              "    </tr>\n",
              "    <tr>\n",
              "      <th>4</th>\n",
              "      <td>Phrae</td>\n",
              "      <td>2017</td>\n",
              "      <td>410382.0</td>\n",
              "    </tr>\n",
              "  </tbody>\n",
              "</table>\n",
              "</div>"
            ],
            "text/plain": [
              "     province  year  population\n",
              "0  Chiang Mai  2016   1630428.0\n",
              "1  Chiang Mai  2017   1664012.0\n",
              "2  Chiang Mai  2018   1687971.0\n",
              "3       Phrae  2016         NaN\n",
              "4       Phrae  2017    410382.0"
            ]
          },
          "execution_count": 170,
          "metadata": {},
          "output_type": "execute_result"
        }
      ],
      "source": [
        "df.dropna(subset = ['province'])"
      ]
    },
    {
      "cell_type": "code",
      "execution_count": null,
      "metadata": {
        "id": "N3KhLSnpiHFT",
        "outputId": "080e1270-c3e0-492e-f2ce-c378989b7ab0"
      },
      "outputs": [
        {
          "data": {
            "text/html": [
              "<div>\n",
              "<style scoped>\n",
              "    .dataframe tbody tr th:only-of-type {\n",
              "        vertical-align: middle;\n",
              "    }\n",
              "\n",
              "    .dataframe tbody tr th {\n",
              "        vertical-align: top;\n",
              "    }\n",
              "\n",
              "    .dataframe thead th {\n",
              "        text-align: right;\n",
              "    }\n",
              "</style>\n",
              "<table border=\"1\" class=\"dataframe\">\n",
              "  <thead>\n",
              "    <tr style=\"text-align: right;\">\n",
              "      <th></th>\n",
              "      <th>province</th>\n",
              "      <th>year</th>\n",
              "      <th>population</th>\n",
              "    </tr>\n",
              "  </thead>\n",
              "  <tbody>\n",
              "    <tr>\n",
              "      <th>0</th>\n",
              "      <td>Chiang Mai</td>\n",
              "      <td>2016</td>\n",
              "      <td>1630428.0</td>\n",
              "    </tr>\n",
              "    <tr>\n",
              "      <th>1</th>\n",
              "      <td>Chiang Mai</td>\n",
              "      <td>2017</td>\n",
              "      <td>1664012.0</td>\n",
              "    </tr>\n",
              "    <tr>\n",
              "      <th>2</th>\n",
              "      <td>Chiang Mai</td>\n",
              "      <td>2018</td>\n",
              "      <td>1687971.0</td>\n",
              "    </tr>\n",
              "    <tr>\n",
              "      <th>3</th>\n",
              "      <td>Phrae</td>\n",
              "      <td>2016</td>\n",
              "      <td>NaN</td>\n",
              "    </tr>\n",
              "    <tr>\n",
              "      <th>4</th>\n",
              "      <td>Phrae</td>\n",
              "      <td>2017</td>\n",
              "      <td>410382.0</td>\n",
              "    </tr>\n",
              "    <tr>\n",
              "      <th>5</th>\n",
              "      <td>None</td>\n",
              "      <td>2018</td>\n",
              "      <td>421653.0</td>\n",
              "    </tr>\n",
              "  </tbody>\n",
              "</table>\n",
              "</div>"
            ],
            "text/plain": [
              "     province  year  population\n",
              "0  Chiang Mai  2016   1630428.0\n",
              "1  Chiang Mai  2017   1664012.0\n",
              "2  Chiang Mai  2018   1687971.0\n",
              "3       Phrae  2016         NaN\n",
              "4       Phrae  2017    410382.0\n",
              "5        None  2018    421653.0"
            ]
          },
          "execution_count": 171,
          "metadata": {},
          "output_type": "execute_result"
        }
      ],
      "source": [
        "df # to show that all commands don't replace (remind)"
      ]
    },
    {
      "cell_type": "markdown",
      "metadata": {
        "id": "MKrp84J7iHFV"
      },
      "source": [
        "### Fill NA"
      ]
    },
    {
      "cell_type": "code",
      "execution_count": null,
      "metadata": {
        "id": "eUzFE-jFiHFV",
        "outputId": "512fe40d-2c47-451d-a16e-747e47f499b1"
      },
      "outputs": [
        {
          "data": {
            "text/html": [
              "<div>\n",
              "<style scoped>\n",
              "    .dataframe tbody tr th:only-of-type {\n",
              "        vertical-align: middle;\n",
              "    }\n",
              "\n",
              "    .dataframe tbody tr th {\n",
              "        vertical-align: top;\n",
              "    }\n",
              "\n",
              "    .dataframe thead th {\n",
              "        text-align: right;\n",
              "    }\n",
              "</style>\n",
              "<table border=\"1\" class=\"dataframe\">\n",
              "  <thead>\n",
              "    <tr style=\"text-align: right;\">\n",
              "      <th></th>\n",
              "      <th>province</th>\n",
              "      <th>year</th>\n",
              "      <th>population</th>\n",
              "    </tr>\n",
              "  </thead>\n",
              "  <tbody>\n",
              "    <tr>\n",
              "      <th>0</th>\n",
              "      <td>Chiang Mai</td>\n",
              "      <td>2016</td>\n",
              "      <td>1630428.0</td>\n",
              "    </tr>\n",
              "    <tr>\n",
              "      <th>1</th>\n",
              "      <td>Chiang Mai</td>\n",
              "      <td>2017</td>\n",
              "      <td>1664012.0</td>\n",
              "    </tr>\n",
              "    <tr>\n",
              "      <th>2</th>\n",
              "      <td>Chiang Mai</td>\n",
              "      <td>2018</td>\n",
              "      <td>1687971.0</td>\n",
              "    </tr>\n",
              "    <tr>\n",
              "      <th>3</th>\n",
              "      <td>Phrae</td>\n",
              "      <td>2016</td>\n",
              "      <td>Missing</td>\n",
              "    </tr>\n",
              "    <tr>\n",
              "      <th>4</th>\n",
              "      <td>Phrae</td>\n",
              "      <td>2017</td>\n",
              "      <td>410382.0</td>\n",
              "    </tr>\n",
              "    <tr>\n",
              "      <th>5</th>\n",
              "      <td>Missing</td>\n",
              "      <td>2018</td>\n",
              "      <td>421653.0</td>\n",
              "    </tr>\n",
              "  </tbody>\n",
              "</table>\n",
              "</div>"
            ],
            "text/plain": [
              "     province  year population\n",
              "0  Chiang Mai  2016  1630428.0\n",
              "1  Chiang Mai  2017  1664012.0\n",
              "2  Chiang Mai  2018  1687971.0\n",
              "3       Phrae  2016    Missing\n",
              "4       Phrae  2017   410382.0\n",
              "5     Missing  2018   421653.0"
            ]
          },
          "execution_count": 172,
          "metadata": {},
          "output_type": "execute_result"
        }
      ],
      "source": [
        "df.fillna('Missing')"
      ]
    },
    {
      "cell_type": "code",
      "execution_count": null,
      "metadata": {
        "id": "ualQGoiRiHFX",
        "outputId": "d9b510f2-609b-46c2-df1e-4f6631c49fe4"
      },
      "outputs": [
        {
          "name": "stdout",
          "output_type": "stream",
          "text": [
            "{'province': 'Unknown', 'population': 1162889.2}\n"
          ]
        },
        {
          "data": {
            "text/html": [
              "<div>\n",
              "<style scoped>\n",
              "    .dataframe tbody tr th:only-of-type {\n",
              "        vertical-align: middle;\n",
              "    }\n",
              "\n",
              "    .dataframe tbody tr th {\n",
              "        vertical-align: top;\n",
              "    }\n",
              "\n",
              "    .dataframe thead th {\n",
              "        text-align: right;\n",
              "    }\n",
              "</style>\n",
              "<table border=\"1\" class=\"dataframe\">\n",
              "  <thead>\n",
              "    <tr style=\"text-align: right;\">\n",
              "      <th></th>\n",
              "      <th>province</th>\n",
              "      <th>year</th>\n",
              "      <th>population</th>\n",
              "    </tr>\n",
              "  </thead>\n",
              "  <tbody>\n",
              "    <tr>\n",
              "      <th>0</th>\n",
              "      <td>Chiang Mai</td>\n",
              "      <td>2016</td>\n",
              "      <td>1630428.0</td>\n",
              "    </tr>\n",
              "    <tr>\n",
              "      <th>1</th>\n",
              "      <td>Chiang Mai</td>\n",
              "      <td>2017</td>\n",
              "      <td>1664012.0</td>\n",
              "    </tr>\n",
              "    <tr>\n",
              "      <th>2</th>\n",
              "      <td>Chiang Mai</td>\n",
              "      <td>2018</td>\n",
              "      <td>1687971.0</td>\n",
              "    </tr>\n",
              "    <tr>\n",
              "      <th>3</th>\n",
              "      <td>Phrae</td>\n",
              "      <td>2016</td>\n",
              "      <td>1162889.2</td>\n",
              "    </tr>\n",
              "    <tr>\n",
              "      <th>4</th>\n",
              "      <td>Phrae</td>\n",
              "      <td>2017</td>\n",
              "      <td>410382.0</td>\n",
              "    </tr>\n",
              "    <tr>\n",
              "      <th>5</th>\n",
              "      <td>Unknown</td>\n",
              "      <td>2018</td>\n",
              "      <td>421653.0</td>\n",
              "    </tr>\n",
              "  </tbody>\n",
              "</table>\n",
              "</div>"
            ],
            "text/plain": [
              "     province  year  population\n",
              "0  Chiang Mai  2016   1630428.0\n",
              "1  Chiang Mai  2017   1664012.0\n",
              "2  Chiang Mai  2018   1687971.0\n",
              "3       Phrae  2016   1162889.2\n",
              "4       Phrae  2017    410382.0\n",
              "5     Unknown  2018    421653.0"
            ]
          },
          "metadata": {},
          "output_type": "display_data"
        }
      ],
      "source": [
        "mapper = {\n",
        "    'province' : 'Unknown',\n",
        "    'population' : df['population'].mean()\n",
        "}\n",
        "print(mapper)\n",
        "display(df.fillna(mapper))"
      ]
    },
    {
      "cell_type": "markdown",
      "metadata": {
        "id": "oQr5IoCQiHFY"
      },
      "source": [
        "## Append and Join"
      ]
    },
    {
      "cell_type": "markdown",
      "metadata": {
        "id": "irb7mjhEiHFY"
      },
      "source": [
        "### Append"
      ]
    },
    {
      "cell_type": "code",
      "execution_count": null,
      "metadata": {
        "id": "sp-EuVeMiHFZ",
        "outputId": "18349e23-bc15-4e9b-b101-a2eb7906824d"
      },
      "outputs": [
        {
          "data": {
            "text/html": [
              "<div>\n",
              "<style scoped>\n",
              "    .dataframe tbody tr th:only-of-type {\n",
              "        vertical-align: middle;\n",
              "    }\n",
              "\n",
              "    .dataframe tbody tr th {\n",
              "        vertical-align: top;\n",
              "    }\n",
              "\n",
              "    .dataframe thead th {\n",
              "        text-align: right;\n",
              "    }\n",
              "</style>\n",
              "<table border=\"1\" class=\"dataframe\">\n",
              "  <thead>\n",
              "    <tr style=\"text-align: right;\">\n",
              "      <th></th>\n",
              "      <th>province</th>\n",
              "      <th>year</th>\n",
              "      <th>population</th>\n",
              "    </tr>\n",
              "  </thead>\n",
              "  <tbody>\n",
              "    <tr>\n",
              "      <th>0</th>\n",
              "      <td>Chiang Mai</td>\n",
              "      <td>2016</td>\n",
              "      <td>1630428</td>\n",
              "    </tr>\n",
              "    <tr>\n",
              "      <th>1</th>\n",
              "      <td>Chiang Mai</td>\n",
              "      <td>2017</td>\n",
              "      <td>1664012</td>\n",
              "    </tr>\n",
              "    <tr>\n",
              "      <th>2</th>\n",
              "      <td>Chiang Mai</td>\n",
              "      <td>2018</td>\n",
              "      <td>1687971</td>\n",
              "    </tr>\n",
              "  </tbody>\n",
              "</table>\n",
              "</div>"
            ],
            "text/plain": [
              "     province  year  population\n",
              "0  Chiang Mai  2016     1630428\n",
              "1  Chiang Mai  2017     1664012\n",
              "2  Chiang Mai  2018     1687971"
            ]
          },
          "execution_count": 174,
          "metadata": {},
          "output_type": "execute_result"
        }
      ],
      "source": [
        "# Create From a List\n",
        "data = [\n",
        "    ['Chiang Mai', 2016, 1630428],\n",
        "    ['Chiang Mai', 2017, 1664012],\n",
        "    ['Chiang Mai', 2018, 1687971],\n",
        "]\n",
        "df1 = pd.DataFrame(\n",
        "    data=data,\n",
        "    columns=['province','year','population']\n",
        ")\n",
        "df1"
      ]
    },
    {
      "cell_type": "code",
      "execution_count": null,
      "metadata": {
        "id": "vltUGddxiHFb",
        "outputId": "7f6726ed-e259-48b5-a377-2eb0446bb657"
      },
      "outputs": [
        {
          "data": {
            "text/html": [
              "<div>\n",
              "<style scoped>\n",
              "    .dataframe tbody tr th:only-of-type {\n",
              "        vertical-align: middle;\n",
              "    }\n",
              "\n",
              "    .dataframe tbody tr th {\n",
              "        vertical-align: top;\n",
              "    }\n",
              "\n",
              "    .dataframe thead th {\n",
              "        text-align: right;\n",
              "    }\n",
              "</style>\n",
              "<table border=\"1\" class=\"dataframe\">\n",
              "  <thead>\n",
              "    <tr style=\"text-align: right;\">\n",
              "      <th></th>\n",
              "      <th>province</th>\n",
              "      <th>year</th>\n",
              "      <th>population</th>\n",
              "    </tr>\n",
              "  </thead>\n",
              "  <tbody>\n",
              "    <tr>\n",
              "      <th>0</th>\n",
              "      <td>Phrae</td>\n",
              "      <td>2016</td>\n",
              "      <td>398936</td>\n",
              "    </tr>\n",
              "    <tr>\n",
              "      <th>1</th>\n",
              "      <td>Phrae</td>\n",
              "      <td>2017</td>\n",
              "      <td>410382</td>\n",
              "    </tr>\n",
              "    <tr>\n",
              "      <th>2</th>\n",
              "      <td>Phrae</td>\n",
              "      <td>2018</td>\n",
              "      <td>421653</td>\n",
              "    </tr>\n",
              "  </tbody>\n",
              "</table>\n",
              "</div>"
            ],
            "text/plain": [
              "  province  year  population\n",
              "0    Phrae  2016      398936\n",
              "1    Phrae  2017      410382\n",
              "2    Phrae  2018      421653"
            ]
          },
          "execution_count": 175,
          "metadata": {},
          "output_type": "execute_result"
        }
      ],
      "source": [
        "# Create From a List\n",
        "data = [\n",
        "    ['Phrae', 2016, 398936],\n",
        "    ['Phrae', 2017, 410382],\n",
        "    ['Phrae', 2018, 421653]\n",
        "]\n",
        "df2 = pd.DataFrame(\n",
        "    data=data,\n",
        "    columns=['province','year','population']\n",
        ")\n",
        "df2"
      ]
    },
    {
      "cell_type": "code",
      "execution_count": null,
      "metadata": {
        "id": "ZFADFs0siHFe",
        "outputId": "64c13074-4d55-4c41-ba0f-e711d3495b65"
      },
      "outputs": [
        {
          "data": {
            "text/html": [
              "<div>\n",
              "<style scoped>\n",
              "    .dataframe tbody tr th:only-of-type {\n",
              "        vertical-align: middle;\n",
              "    }\n",
              "\n",
              "    .dataframe tbody tr th {\n",
              "        vertical-align: top;\n",
              "    }\n",
              "\n",
              "    .dataframe thead th {\n",
              "        text-align: right;\n",
              "    }\n",
              "</style>\n",
              "<table border=\"1\" class=\"dataframe\">\n",
              "  <thead>\n",
              "    <tr style=\"text-align: right;\">\n",
              "      <th></th>\n",
              "      <th>province</th>\n",
              "      <th>year</th>\n",
              "      <th>population</th>\n",
              "    </tr>\n",
              "  </thead>\n",
              "  <tbody>\n",
              "    <tr>\n",
              "      <th>0</th>\n",
              "      <td>Chiang Mai</td>\n",
              "      <td>2016</td>\n",
              "      <td>1630428</td>\n",
              "    </tr>\n",
              "    <tr>\n",
              "      <th>1</th>\n",
              "      <td>Chiang Mai</td>\n",
              "      <td>2017</td>\n",
              "      <td>1664012</td>\n",
              "    </tr>\n",
              "    <tr>\n",
              "      <th>2</th>\n",
              "      <td>Chiang Mai</td>\n",
              "      <td>2018</td>\n",
              "      <td>1687971</td>\n",
              "    </tr>\n",
              "    <tr>\n",
              "      <th>0</th>\n",
              "      <td>Phrae</td>\n",
              "      <td>2016</td>\n",
              "      <td>398936</td>\n",
              "    </tr>\n",
              "    <tr>\n",
              "      <th>1</th>\n",
              "      <td>Phrae</td>\n",
              "      <td>2017</td>\n",
              "      <td>410382</td>\n",
              "    </tr>\n",
              "    <tr>\n",
              "      <th>2</th>\n",
              "      <td>Phrae</td>\n",
              "      <td>2018</td>\n",
              "      <td>421653</td>\n",
              "    </tr>\n",
              "  </tbody>\n",
              "</table>\n",
              "</div>"
            ],
            "text/plain": [
              "     province  year  population\n",
              "0  Chiang Mai  2016     1630428\n",
              "1  Chiang Mai  2017     1664012\n",
              "2  Chiang Mai  2018     1687971\n",
              "0       Phrae  2016      398936\n",
              "1       Phrae  2017      410382\n",
              "2       Phrae  2018      421653"
            ]
          },
          "execution_count": 176,
          "metadata": {},
          "output_type": "execute_result"
        }
      ],
      "source": [
        "df = pd.concat([df1, df2])\n",
        "df"
      ]
    },
    {
      "cell_type": "code",
      "execution_count": null,
      "metadata": {
        "id": "n8bekMPEiHFf",
        "outputId": "a5690505-374b-45f2-da67-f99c39892ea0"
      },
      "outputs": [
        {
          "data": {
            "text/html": [
              "<div>\n",
              "<style scoped>\n",
              "    .dataframe tbody tr th:only-of-type {\n",
              "        vertical-align: middle;\n",
              "    }\n",
              "\n",
              "    .dataframe tbody tr th {\n",
              "        vertical-align: top;\n",
              "    }\n",
              "\n",
              "    .dataframe thead th {\n",
              "        text-align: right;\n",
              "    }\n",
              "</style>\n",
              "<table border=\"1\" class=\"dataframe\">\n",
              "  <thead>\n",
              "    <tr style=\"text-align: right;\">\n",
              "      <th></th>\n",
              "      <th>province</th>\n",
              "      <th>year</th>\n",
              "      <th>population</th>\n",
              "      <th>province</th>\n",
              "      <th>year</th>\n",
              "      <th>population</th>\n",
              "    </tr>\n",
              "  </thead>\n",
              "  <tbody>\n",
              "    <tr>\n",
              "      <th>0</th>\n",
              "      <td>Chiang Mai</td>\n",
              "      <td>2016</td>\n",
              "      <td>1630428</td>\n",
              "      <td>Phrae</td>\n",
              "      <td>2016</td>\n",
              "      <td>398936</td>\n",
              "    </tr>\n",
              "    <tr>\n",
              "      <th>1</th>\n",
              "      <td>Chiang Mai</td>\n",
              "      <td>2017</td>\n",
              "      <td>1664012</td>\n",
              "      <td>Phrae</td>\n",
              "      <td>2017</td>\n",
              "      <td>410382</td>\n",
              "    </tr>\n",
              "    <tr>\n",
              "      <th>2</th>\n",
              "      <td>Chiang Mai</td>\n",
              "      <td>2018</td>\n",
              "      <td>1687971</td>\n",
              "      <td>Phrae</td>\n",
              "      <td>2018</td>\n",
              "      <td>421653</td>\n",
              "    </tr>\n",
              "  </tbody>\n",
              "</table>\n",
              "</div>"
            ],
            "text/plain": [
              "     province  year  population province  year  population\n",
              "0  Chiang Mai  2016     1630428    Phrae  2016      398936\n",
              "1  Chiang Mai  2017     1664012    Phrae  2017      410382\n",
              "2  Chiang Mai  2018     1687971    Phrae  2018      421653"
            ]
          },
          "execution_count": 177,
          "metadata": {},
          "output_type": "execute_result"
        }
      ],
      "source": [
        "df2 = pd.concat([df1, df2], axis=1)\n",
        "df2"
      ]
    },
    {
      "cell_type": "markdown",
      "metadata": {
        "id": "qxdP858DiHFh"
      },
      "source": [
        "### Join"
      ]
    },
    {
      "cell_type": "code",
      "execution_count": null,
      "metadata": {
        "id": "ezoEs7UliHFh",
        "outputId": "f948c394-3928-4ace-d0d8-ed06b6e31d89"
      },
      "outputs": [
        {
          "data": {
            "text/html": [
              "<div>\n",
              "<style scoped>\n",
              "    .dataframe tbody tr th:only-of-type {\n",
              "        vertical-align: middle;\n",
              "    }\n",
              "\n",
              "    .dataframe tbody tr th {\n",
              "        vertical-align: top;\n",
              "    }\n",
              "\n",
              "    .dataframe thead th {\n",
              "        text-align: right;\n",
              "    }\n",
              "</style>\n",
              "<table border=\"1\" class=\"dataframe\">\n",
              "  <thead>\n",
              "    <tr style=\"text-align: right;\">\n",
              "      <th></th>\n",
              "      <th>province</th>\n",
              "      <th>year</th>\n",
              "      <th>population</th>\n",
              "    </tr>\n",
              "  </thead>\n",
              "  <tbody>\n",
              "    <tr>\n",
              "      <th>0</th>\n",
              "      <td>Chiang Mai</td>\n",
              "      <td>2016</td>\n",
              "      <td>1630428</td>\n",
              "    </tr>\n",
              "    <tr>\n",
              "      <th>1</th>\n",
              "      <td>Chiang Mai</td>\n",
              "      <td>2017</td>\n",
              "      <td>1664012</td>\n",
              "    </tr>\n",
              "    <tr>\n",
              "      <th>2</th>\n",
              "      <td>Chiang Mai</td>\n",
              "      <td>2018</td>\n",
              "      <td>1687971</td>\n",
              "    </tr>\n",
              "    <tr>\n",
              "      <th>0</th>\n",
              "      <td>Phrae</td>\n",
              "      <td>2016</td>\n",
              "      <td>398936</td>\n",
              "    </tr>\n",
              "    <tr>\n",
              "      <th>1</th>\n",
              "      <td>Phrae</td>\n",
              "      <td>2017</td>\n",
              "      <td>410382</td>\n",
              "    </tr>\n",
              "    <tr>\n",
              "      <th>2</th>\n",
              "      <td>Phrae</td>\n",
              "      <td>2018</td>\n",
              "      <td>421653</td>\n",
              "    </tr>\n",
              "  </tbody>\n",
              "</table>\n",
              "</div>"
            ],
            "text/plain": [
              "     province  year  population\n",
              "0  Chiang Mai  2016     1630428\n",
              "1  Chiang Mai  2017     1664012\n",
              "2  Chiang Mai  2018     1687971\n",
              "0       Phrae  2016      398936\n",
              "1       Phrae  2017      410382\n",
              "2       Phrae  2018      421653"
            ]
          },
          "execution_count": 178,
          "metadata": {},
          "output_type": "execute_result"
        }
      ],
      "source": [
        "df"
      ]
    },
    {
      "cell_type": "code",
      "execution_count": null,
      "metadata": {
        "id": "_xDt2PL3iHFi",
        "outputId": "9dfe75eb-1bf5-46b9-f418-632eacec048f"
      },
      "outputs": [
        {
          "data": {
            "text/html": [
              "<div>\n",
              "<style scoped>\n",
              "    .dataframe tbody tr th:only-of-type {\n",
              "        vertical-align: middle;\n",
              "    }\n",
              "\n",
              "    .dataframe tbody tr th {\n",
              "        vertical-align: top;\n",
              "    }\n",
              "\n",
              "    .dataframe thead th {\n",
              "        text-align: right;\n",
              "    }\n",
              "</style>\n",
              "<table border=\"1\" class=\"dataframe\">\n",
              "  <thead>\n",
              "    <tr style=\"text-align: right;\">\n",
              "      <th></th>\n",
              "      <th>province</th>\n",
              "      <th>avg_pop</th>\n",
              "    </tr>\n",
              "  </thead>\n",
              "  <tbody>\n",
              "    <tr>\n",
              "      <th>0</th>\n",
              "      <td>Chiang Mai</td>\n",
              "      <td>1.660804e+06</td>\n",
              "    </tr>\n",
              "    <tr>\n",
              "      <th>1</th>\n",
              "      <td>Phrae</td>\n",
              "      <td>4.103237e+05</td>\n",
              "    </tr>\n",
              "  </tbody>\n",
              "</table>\n",
              "</div>"
            ],
            "text/plain": [
              "     province       avg_pop\n",
              "0  Chiang Mai  1.660804e+06\n",
              "1       Phrae  4.103237e+05"
            ]
          },
          "execution_count": 179,
          "metadata": {},
          "output_type": "execute_result"
        }
      ],
      "source": [
        "avg_df = df.groupby('province')['population'].mean().reset_index(name='avg_pop')\n",
        "avg_df"
      ]
    },
    {
      "cell_type": "code",
      "execution_count": null,
      "metadata": {
        "id": "Dd_b2p9HiHFk",
        "outputId": "e18fbb21-40cb-4188-b124-d3ecca737161"
      },
      "outputs": [
        {
          "data": {
            "text/plain": [
              "province      object\n",
              "year           int64\n",
              "population     int64\n",
              "dtype: object"
            ]
          },
          "execution_count": 180,
          "metadata": {},
          "output_type": "execute_result"
        }
      ],
      "source": [
        "df.dtypes"
      ]
    },
    {
      "cell_type": "code",
      "execution_count": null,
      "metadata": {
        "id": "OC9B6YgPiHFl",
        "outputId": "6c245a47-deeb-44ad-eac7-c128ca2bbc5e"
      },
      "outputs": [
        {
          "data": {
            "text/plain": [
              "province     object\n",
              "avg_pop     float64\n",
              "dtype: object"
            ]
          },
          "execution_count": 181,
          "metadata": {},
          "output_type": "execute_result"
        }
      ],
      "source": [
        "avg_df.dtypes"
      ]
    },
    {
      "cell_type": "code",
      "execution_count": null,
      "metadata": {
        "id": "1Yp_npbciHFp",
        "outputId": "5705766d-bc6d-426c-b328-1d07eb28ddc6",
        "scrolled": true
      },
      "outputs": [
        {
          "data": {
            "text/html": [
              "<div>\n",
              "<style scoped>\n",
              "    .dataframe tbody tr th:only-of-type {\n",
              "        vertical-align: middle;\n",
              "    }\n",
              "\n",
              "    .dataframe tbody tr th {\n",
              "        vertical-align: top;\n",
              "    }\n",
              "\n",
              "    .dataframe thead th {\n",
              "        text-align: right;\n",
              "    }\n",
              "</style>\n",
              "<table border=\"1\" class=\"dataframe\">\n",
              "  <thead>\n",
              "    <tr style=\"text-align: right;\">\n",
              "      <th></th>\n",
              "      <th>province</th>\n",
              "      <th>year</th>\n",
              "      <th>population</th>\n",
              "      <th>avg_pop</th>\n",
              "    </tr>\n",
              "  </thead>\n",
              "  <tbody>\n",
              "    <tr>\n",
              "      <th>0</th>\n",
              "      <td>Chiang Mai</td>\n",
              "      <td>2016</td>\n",
              "      <td>1630428</td>\n",
              "      <td>1.660804e+06</td>\n",
              "    </tr>\n",
              "    <tr>\n",
              "      <th>1</th>\n",
              "      <td>Chiang Mai</td>\n",
              "      <td>2017</td>\n",
              "      <td>1664012</td>\n",
              "      <td>1.660804e+06</td>\n",
              "    </tr>\n",
              "    <tr>\n",
              "      <th>2</th>\n",
              "      <td>Chiang Mai</td>\n",
              "      <td>2018</td>\n",
              "      <td>1687971</td>\n",
              "      <td>1.660804e+06</td>\n",
              "    </tr>\n",
              "    <tr>\n",
              "      <th>3</th>\n",
              "      <td>Phrae</td>\n",
              "      <td>2016</td>\n",
              "      <td>398936</td>\n",
              "      <td>4.103237e+05</td>\n",
              "    </tr>\n",
              "    <tr>\n",
              "      <th>4</th>\n",
              "      <td>Phrae</td>\n",
              "      <td>2017</td>\n",
              "      <td>410382</td>\n",
              "      <td>4.103237e+05</td>\n",
              "    </tr>\n",
              "    <tr>\n",
              "      <th>5</th>\n",
              "      <td>Phrae</td>\n",
              "      <td>2018</td>\n",
              "      <td>421653</td>\n",
              "      <td>4.103237e+05</td>\n",
              "    </tr>\n",
              "  </tbody>\n",
              "</table>\n",
              "</div>"
            ],
            "text/plain": [
              "     province  year  population       avg_pop\n",
              "0  Chiang Mai  2016     1630428  1.660804e+06\n",
              "1  Chiang Mai  2017     1664012  1.660804e+06\n",
              "2  Chiang Mai  2018     1687971  1.660804e+06\n",
              "3       Phrae  2016      398936  4.103237e+05\n",
              "4       Phrae  2017      410382  4.103237e+05\n",
              "5       Phrae  2018      421653  4.103237e+05"
            ]
          },
          "execution_count": 182,
          "metadata": {},
          "output_type": "execute_result"
        }
      ],
      "source": [
        "df.merge(avg_df, on = 'province', how = 'inner')"
      ]
    },
    {
      "cell_type": "markdown",
      "metadata": {
        "id": "Cqfv_mFviHFs"
      },
      "source": [
        "## SQL"
      ]
    },
    {
      "cell_type": "code",
      "execution_count": null,
      "metadata": {
        "id": "bo_dSLraiHFs",
        "outputId": "c75d7ba5-31a6-41ea-a0c4-41bf897fdf49"
      },
      "outputs": [
        {
          "name": "stdout",
          "output_type": "stream",
          "text": [
            "Looking in indexes: https://pypi.org/simple, https://pypi.ngc.nvidia.com"
          ]
        },
        {
          "name": "stderr",
          "output_type": "stream",
          "text": [
            "DEPRECATION: markdown 3.3.5 has a non-standard dependency specifier importlib-metadata>='4.4'; python_version < \"3.10\". pip 24.0 will enforce this behaviour change. A possible replacement is to upgrade to a newer version of markdown or contact the author to suggest that they release a version with a conforming dependency specifiers. Discussion can be found at https://github.com/pypa/pip/issues/12063\n",
            "\n",
            "[notice] A new release of pip is available: 23.3.1 -> 24.2\n",
            "[notice] To update, run: C:\\Users\\Om\\AppData\\Local\\Microsoft\\WindowsApps\\PythonSoftwareFoundation.Python.3.9_qbz5n2kfra8p0\\python.exe -m pip install --upgrade pip\n"
          ]
        },
        {
          "name": "stdout",
          "output_type": "stream",
          "text": [
            "\n",
            "Collecting pandasql\n",
            "  Downloading pandasql-0.7.3.tar.gz (26 kB)\n",
            "  Preparing metadata (setup.py): started\n",
            "  Preparing metadata (setup.py): finished with status 'done'\n",
            "Requirement already satisfied: numpy in c:\\users\\om\\appdata\\local\\packages\\pythonsoftwarefoundation.python.3.9_qbz5n2kfra8p0\\localcache\\local-packages\\python39\\site-packages (from pandasql) (1.26.1)\n",
            "Requirement already satisfied: pandas in c:\\users\\om\\appdata\\local\\packages\\pythonsoftwarefoundation.python.3.9_qbz5n2kfra8p0\\localcache\\local-packages\\python39\\site-packages (from pandasql) (1.3.5)\n",
            "Requirement already satisfied: sqlalchemy in c:\\users\\om\\appdata\\local\\packages\\pythonsoftwarefoundation.python.3.9_qbz5n2kfra8p0\\localcache\\local-packages\\python39\\site-packages (from pandasql) (1.4.45)\n",
            "Requirement already satisfied: python-dateutil>=2.7.3 in c:\\users\\om\\appdata\\local\\packages\\pythonsoftwarefoundation.python.3.9_qbz5n2kfra8p0\\localcache\\local-packages\\python39\\site-packages (from pandas->pandasql) (2.8.2)\n",
            "Requirement already satisfied: pytz>=2017.3 in c:\\users\\om\\appdata\\local\\packages\\pythonsoftwarefoundation.python.3.9_qbz5n2kfra8p0\\localcache\\local-packages\\python39\\site-packages (from pandas->pandasql) (2021.3)\n",
            "Requirement already satisfied: greenlet!=0.4.17 in c:\\users\\om\\appdata\\local\\packages\\pythonsoftwarefoundation.python.3.9_qbz5n2kfra8p0\\localcache\\local-packages\\python39\\site-packages (from sqlalchemy->pandasql) (2.0.1)\n",
            "Requirement already satisfied: six>=1.5 in c:\\users\\om\\appdata\\local\\packages\\pythonsoftwarefoundation.python.3.9_qbz5n2kfra8p0\\localcache\\local-packages\\python39\\site-packages (from python-dateutil>=2.7.3->pandas->pandasql) (1.16.0)\n",
            "Building wheels for collected packages: pandasql\n",
            "  Building wheel for pandasql (setup.py): started\n",
            "  Building wheel for pandasql (setup.py): finished with status 'done'\n",
            "  Created wheel for pandasql: filename=pandasql-0.7.3-py3-none-any.whl size=26781 sha256=56824746e04b11e7e76e3389ab1c9574d6f75a99633f2590a33f1a6dc781a1a8\n",
            "  Stored in directory: C:\\Users\\Om\\AppData\\Local\\Temp\\pip-ephem-wheel-cache-p7vhbt1q\\wheels\\63\\e8\\ec\\75b1df467ecf57b6ececb32cb16f4e86697cbfe55cb0c51f07\n",
            "Successfully built pandasql\n",
            "Installing collected packages: pandasql\n",
            "Successfully installed pandasql-0.7.3\n"
          ]
        }
      ],
      "source": [
        "!pip install pandasql"
      ]
    },
    {
      "cell_type": "code",
      "execution_count": null,
      "metadata": {
        "id": "dcJuR9ixiHFx"
      },
      "outputs": [],
      "source": [
        "import pandasql"
      ]
    },
    {
      "cell_type": "code",
      "execution_count": null,
      "metadata": {
        "id": "OoDSKiKuiHF1",
        "outputId": "1b24536d-33e6-4ee2-e2f9-5fe11b35e4a6"
      },
      "outputs": [
        {
          "data": {
            "text/html": [
              "<div>\n",
              "<style scoped>\n",
              "    .dataframe tbody tr th:only-of-type {\n",
              "        vertical-align: middle;\n",
              "    }\n",
              "\n",
              "    .dataframe tbody tr th {\n",
              "        vertical-align: top;\n",
              "    }\n",
              "\n",
              "    .dataframe thead th {\n",
              "        text-align: right;\n",
              "    }\n",
              "</style>\n",
              "<table border=\"1\" class=\"dataframe\">\n",
              "  <thead>\n",
              "    <tr style=\"text-align: right;\">\n",
              "      <th></th>\n",
              "      <th>province</th>\n",
              "      <th>year</th>\n",
              "      <th>population</th>\n",
              "    </tr>\n",
              "  </thead>\n",
              "  <tbody>\n",
              "    <tr>\n",
              "      <th>0</th>\n",
              "      <td>Chiang Mai</td>\n",
              "      <td>2016</td>\n",
              "      <td>1630428</td>\n",
              "    </tr>\n",
              "    <tr>\n",
              "      <th>1</th>\n",
              "      <td>Chiang Mai</td>\n",
              "      <td>2017</td>\n",
              "      <td>1664012</td>\n",
              "    </tr>\n",
              "    <tr>\n",
              "      <th>2</th>\n",
              "      <td>Chiang Mai</td>\n",
              "      <td>2018</td>\n",
              "      <td>1687971</td>\n",
              "    </tr>\n",
              "    <tr>\n",
              "      <th>3</th>\n",
              "      <td>Phrae</td>\n",
              "      <td>2016</td>\n",
              "      <td>398936</td>\n",
              "    </tr>\n",
              "    <tr>\n",
              "      <th>4</th>\n",
              "      <td>Phrae</td>\n",
              "      <td>2017</td>\n",
              "      <td>410382</td>\n",
              "    </tr>\n",
              "    <tr>\n",
              "      <th>5</th>\n",
              "      <td>Phrae</td>\n",
              "      <td>2018</td>\n",
              "      <td>421653</td>\n",
              "    </tr>\n",
              "  </tbody>\n",
              "</table>\n",
              "</div>"
            ],
            "text/plain": [
              "     province  year  population\n",
              "0  Chiang Mai  2016     1630428\n",
              "1  Chiang Mai  2017     1664012\n",
              "2  Chiang Mai  2018     1687971\n",
              "3       Phrae  2016      398936\n",
              "4       Phrae  2017      410382\n",
              "5       Phrae  2018      421653"
            ]
          },
          "execution_count": 185,
          "metadata": {},
          "output_type": "execute_result"
        }
      ],
      "source": [
        "sql_df = pandasql.sqldf(\"SELECT * FROM df;\")\n",
        "sql_df"
      ]
    },
    {
      "cell_type": "code",
      "execution_count": null,
      "metadata": {
        "id": "3vrg_IZOiHF2",
        "outputId": "97234804-ecaf-4d63-aadf-7115f25a2462"
      },
      "outputs": [
        {
          "data": {
            "text/html": [
              "<div>\n",
              "<style scoped>\n",
              "    .dataframe tbody tr th:only-of-type {\n",
              "        vertical-align: middle;\n",
              "    }\n",
              "\n",
              "    .dataframe tbody tr th {\n",
              "        vertical-align: top;\n",
              "    }\n",
              "\n",
              "    .dataframe thead th {\n",
              "        text-align: right;\n",
              "    }\n",
              "</style>\n",
              "<table border=\"1\" class=\"dataframe\">\n",
              "  <thead>\n",
              "    <tr style=\"text-align: right;\">\n",
              "      <th></th>\n",
              "      <th>province</th>\n",
              "      <th>avg(population)</th>\n",
              "    </tr>\n",
              "  </thead>\n",
              "  <tbody>\n",
              "    <tr>\n",
              "      <th>0</th>\n",
              "      <td>Chiang Mai</td>\n",
              "      <td>1.660804e+06</td>\n",
              "    </tr>\n",
              "    <tr>\n",
              "      <th>1</th>\n",
              "      <td>Phrae</td>\n",
              "      <td>4.103237e+05</td>\n",
              "    </tr>\n",
              "  </tbody>\n",
              "</table>\n",
              "</div>"
            ],
            "text/plain": [
              "     province  avg(population)\n",
              "0  Chiang Mai     1.660804e+06\n",
              "1       Phrae     4.103237e+05"
            ]
          },
          "execution_count": 186,
          "metadata": {},
          "output_type": "execute_result"
        }
      ],
      "source": [
        "sql_df = pandasql.sqldf(\"select province, avg(population) from df group by province;\")\n",
        "sql_df"
      ]
    },
    {
      "cell_type": "code",
      "execution_count": null,
      "metadata": {
        "id": "bTjQUZadeaVu"
      },
      "outputs": [],
      "source": []
    }
  ],
  "metadata": {
    "colab": {
      "name": "Pandas.ipynb",
      "provenance": [],
      "toc_visible": true
    },
    "kernelspec": {
      "display_name": "datasci",
      "language": "python",
      "name": "python3"
    },
    "language_info": {
      "codemirror_mode": {
        "name": "ipython",
        "version": 3
      },
      "file_extension": ".py",
      "mimetype": "text/x-python",
      "name": "python",
      "nbconvert_exporter": "python",
      "pygments_lexer": "ipython3",
      "version": "3.13.1"
    },
    "toc": {
      "base_numbering": 1,
      "nav_menu": {},
      "number_sections": true,
      "sideBar": true,
      "skip_h1_title": false,
      "title_cell": "Table of Contents",
      "title_sidebar": "Contents",
      "toc_cell": false,
      "toc_position": {
        "height": "calc(100% - 180px)",
        "left": "10px",
        "top": "150px",
        "width": "498.594px"
      },
      "toc_section_display": true,
      "toc_window_display": true
    },
    "varInspector": {
      "cols": {
        "lenName": 16,
        "lenType": 16,
        "lenVar": 40
      },
      "kernels_config": {
        "python": {
          "delete_cmd_postfix": "",
          "delete_cmd_prefix": "del ",
          "library": "var_list.py",
          "varRefreshCmd": "print(var_dic_list())"
        },
        "r": {
          "delete_cmd_postfix": ") ",
          "delete_cmd_prefix": "rm(",
          "library": "var_list.r",
          "varRefreshCmd": "cat(var_dic_list()) "
        }
      },
      "types_to_exclude": [
        "module",
        "function",
        "builtin_function_or_method",
        "instance",
        "_Feature"
      ],
      "window_display": false
    }
  },
  "nbformat": 4,
  "nbformat_minor": 0
}
