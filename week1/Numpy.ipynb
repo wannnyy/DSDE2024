{
  "cells": [
    {
      "cell_type": "markdown",
      "metadata": {
        "id": "bpmNbV46BHw9"
      },
      "source": [
        "![Accel.AI](https://github.com/kaopanboonyuen/2110446_DataScience_2021s2/raw/main/%20files/accelai.png)"
      ]
    },
    {
      "cell_type": "code",
      "execution_count": 1,
      "metadata": {
        "id": "cMjz8KKBBHw_"
      },
      "outputs": [],
      "source": [
        "# First, we need to import the package NumPy, which is the library enabling all the fun with algebraic structures.\n",
        "import numpy as np"
      ]
    },
    {
      "cell_type": "markdown",
      "metadata": {
        "id": "GnLR-gTNhjqO"
      },
      "source": [
        "# Numpy Array VS Python List"
      ]
    },
    {
      "cell_type": "code",
      "execution_count": 2,
      "metadata": {
        "colab": {
          "base_uri": "https://localhost:8080/"
        },
        "id": "NumJy2hkhjqO",
        "outputId": "1dc4bdc3-499d-429f-ccaa-63d75fb098f7"
      },
      "outputs": [
        {
          "name": "stdout",
          "output_type": "stream",
          "text": [
            "0.11324000358581543 seconds\n",
            "0.004964351654052734 seconds\n",
            "faster 0.1082756519317627 seconds\n",
            "faster 22.81063298434348 times\n"
          ]
        }
      ],
      "source": [
        "# The Test to see that numpy is faster than pure python.\n",
        "\n",
        "import time\n",
        "import numpy as np\n",
        "\n",
        "size_of_vec = 1000000 #1M\n",
        "\n",
        "def pure_python():\n",
        "    t1 = time.time()\n",
        "    x = range(size_of_vec)\n",
        "    y = range(size_of_vec)\n",
        "    z = [x[i] + y[i] for i in range (len(x))]\n",
        "    t2 = time.time()\n",
        "    used_time = t2-t1\n",
        "    print(used_time,'seconds')\n",
        "    return used_time\n",
        "\n",
        "def numpy_version():\n",
        "    t1 = time.time()\n",
        "    x = np.arange(size_of_vec)\n",
        "    y = np.arange(size_of_vec)\n",
        "    z = x+y\n",
        "    t2 = time.time()\n",
        "    used_time = t2-t1\n",
        "    print(used_time,'seconds')\n",
        "    return used_time\n",
        "\n",
        "t1 = pure_python()\n",
        "t2 = numpy_version()\n",
        "print('faster', t1 - t2, 'seconds')\n",
        "print('faster', t1/t2, 'times')"
      ]
    },
    {
      "cell_type": "markdown",
      "metadata": {
        "id": "WuJund_bBHxU"
      },
      "source": [
        "# Vectors and Matrices"
      ]
    },
    {
      "cell_type": "markdown",
      "metadata": {
        "id": "icTCfzrjBHxW"
      },
      "source": [
        "Using NumPy we can define vectors and matrices with both real or complex elements. Although, in contrast to Matlab, where matrix is the default type, in Python we need to define vectors and matrices as `array` or `matrix` type from NumPy package."
      ]
    },
    {
      "cell_type": "markdown",
      "metadata": {
        "id": "YrRrqqerhjqT"
      },
      "source": [
        "## Create Numpy Array"
      ]
    },
    {
      "cell_type": "markdown",
      "metadata": {
        "id": "zyKv1vwdhjqU"
      },
      "source": [
        "### 1D Array"
      ]
    },
    {
      "cell_type": "code",
      "execution_count": 3,
      "metadata": {
        "colab": {
          "base_uri": "https://localhost:8080/"
        },
        "id": "mUBaU-gzBHxX",
        "outputId": "f9f8c55a-da69-40e9-adae-2c22e44e0881"
      },
      "outputs": [
        {
          "name": "stdout",
          "output_type": "stream",
          "text": [
            "[10 20 30]\n",
            "(3,)\n"
          ]
        }
      ],
      "source": [
        "a = np.array([10,20,30])   # Define a vector of size 3 using type 'array'\n",
        "print(a)\n",
        "print(a.shape)          # Size/shape of vector"
      ]
    },
    {
      "cell_type": "markdown",
      "metadata": {
        "id": "4xrKVw4nhjqZ"
      },
      "source": [
        "### 2D Array or Matrix"
      ]
    },
    {
      "cell_type": "code",
      "execution_count": 4,
      "metadata": {
        "colab": {
          "base_uri": "https://localhost:8080/"
        },
        "id": "U1mQK9fjBHxf",
        "outputId": "ad619442-389b-45de-ae15-53fe3c08aa05"
      },
      "outputs": [
        {
          "name": "stdout",
          "output_type": "stream",
          "text": [
            "[[10 20 30]\n",
            " [40 50 60]]\n",
            "(2, 3)\n"
          ]
        }
      ],
      "source": [
        "b = np.array([[10,20,30],[40,50,60]])  # Define a vector of size 3 using type 'matrix'\n",
        "print(b)\n",
        "print(b.shape)          # Size/shape of vector"
      ]
    },
    {
      "cell_type": "markdown",
      "metadata": {
        "id": "5HQ2cZJehjqd"
      },
      "source": [
        "### Essetial Matrix"
      ]
    },
    {
      "cell_type": "code",
      "execution_count": 5,
      "metadata": {
        "colab": {
          "base_uri": "https://localhost:8080/"
        },
        "id": "rZgiYYp3hjqe",
        "outputId": "7debe41e-7c66-43d6-f0b8-ad4f748dd6c0"
      },
      "outputs": [
        {
          "name": "stdout",
          "output_type": "stream",
          "text": [
            "3x3 Matrix full of zeros:\n",
            "[[0. 0. 0.]\n",
            " [0. 0. 0.]\n",
            " [0. 0. 0.]]\n",
            "\n",
            "3x3 Matrix full of ones:\n",
            "[[1. 1. 1.]\n",
            " [1. 1. 1.]\n",
            " [1. 1. 1.]]\n",
            "\n",
            "3x3 identity matrix:\n",
            "[[1. 0. 0.]\n",
            " [0. 1. 0.]\n",
            " [0. 0. 1.]]\n",
            "\n",
            "3x3 diagonal matrix:\n",
            "[[1. 0. 0.]\n",
            " [0. 2. 0.]\n",
            " [0. 0. 3.]]\n",
            "\n",
            "3x3 random matrix:\n",
            "[[0.42912744 0.25528077 0.60750569]\n",
            " [0.73260045 0.84125654 0.35639727]\n",
            " [0.10122302 0.90111068 0.41832668]]\n"
          ]
        }
      ],
      "source": [
        "print('3x3 Matrix full of zeros:')\n",
        "print(np.zeros([3,3]))\n",
        "\n",
        "print('\\n3x3 Matrix full of ones:')\n",
        "print(np.ones([3,3]))\n",
        "\n",
        "print('\\n3x3 identity matrix:')\n",
        "print(np.eye(3))\n",
        "\n",
        "print('\\n3x3 diagonal matrix:')\n",
        "x = np.array([1.,2.,3.])\n",
        "print(np.diag(x))\n",
        "\n",
        "print('\\n3x3 random matrix:')\n",
        "print(np.random.rand(3,3))"
      ]
    },
    {
      "cell_type": "markdown",
      "metadata": {
        "id": "NFxBupTQhjqh"
      },
      "source": [
        "## Indexing"
      ]
    },
    {
      "cell_type": "markdown",
      "metadata": {
        "id": "M1tOQ7UMBHxr"
      },
      "source": [
        "Note that matrix and array elements in Python are indexed from 0, in contrast to Matlab where indexing starts from 1."
      ]
    },
    {
      "cell_type": "markdown",
      "metadata": {
        "id": "WeAvtqrFBHyH"
      },
      "source": [
        "**_Matrices_** can be defined as 2D arrays of type `array` or `matrix` (there is no problem with transposition with any type)."
      ]
    },
    {
      "cell_type": "code",
      "execution_count": 6,
      "metadata": {
        "colab": {
          "base_uri": "https://localhost:8080/"
        },
        "id": "msEthMgyBHxt",
        "outputId": "e090aea2-57fc-428b-d48c-1dcf52499ae2"
      },
      "outputs": [
        {
          "name": "stdout",
          "output_type": "stream",
          "text": [
            "[10 20 30]\n",
            "[10 20 30]\n",
            "10\n",
            "[20 30]\n",
            "[10 20]\n"
          ]
        }
      ],
      "source": [
        "# 1D indexing\n",
        "print(a)\n",
        "print(a[:])\n",
        "print(a[0])\n",
        "print(a[1:])\n",
        "print(a[:-1])"
      ]
    },
    {
      "cell_type": "code",
      "execution_count": 7,
      "metadata": {
        "colab": {
          "base_uri": "https://localhost:8080/"
        },
        "id": "4p-QY2kJuDlZ",
        "outputId": "4357ef01-db72-43a7-868d-aefaa8273aee"
      },
      "outputs": [
        {
          "name": "stdout",
          "output_type": "stream",
          "text": [
            "[[10 20 30]\n",
            " [40 50 60]]\n",
            "50\n",
            "[[10 20 30]\n",
            " [40 50 60]]\n",
            "[10 20 30]\n",
            "[40 50 60]\n",
            "[[10 20 30]\n",
            " [40 50 60]]\n",
            "[[10 20 30]\n",
            " [40 50 60]]\n",
            "[]\n"
          ]
        }
      ],
      "source": [
        "# 2D indexing\n",
        "print(b)\n",
        "print(b[1,1])\n",
        "\n",
        "print(b[:])     # Get all elements\n",
        "print(b[0])     # The first element\n",
        "print(b[-1])    # The last element\n",
        "print(b[:3])    # The first 3 rows\n",
        "print(b[-3:])   # The last 3 rows\n",
        "print(b[2:4])   # 2:4 selects elements of indexes 2 and 3"
      ]
    },
    {
      "cell_type": "markdown",
      "metadata": {
        "id": "PFXBLXF3hjqr"
      },
      "source": [
        "# Functions"
      ]
    },
    {
      "cell_type": "markdown",
      "metadata": {
        "id": "yo7Gecs1hjqs"
      },
      "source": [
        "## Arange and Linspace"
      ]
    },
    {
      "cell_type": "code",
      "execution_count": 8,
      "metadata": {
        "colab": {
          "base_uri": "https://localhost:8080/"
        },
        "id": "A3-4y9EKhjqs",
        "outputId": "cfa04a44-f0b8-4b33-ad62-559528964691"
      },
      "outputs": [
        {
          "name": "stdout",
          "output_type": "stream",
          "text": [
            "[10 12 14 16 18]\n"
          ]
        }
      ],
      "source": [
        "c = np.arange(10,20,2)   # Define vector from 10 to 20 with step 2\n",
        "print(c)"
      ]
    },
    {
      "cell_type": "code",
      "execution_count": 9,
      "metadata": {
        "colab": {
          "base_uri": "https://localhost:8080/"
        },
        "id": "TfUDHblnBHxl",
        "outputId": "879aacc6-dffb-4a7a-a763-abc8fd55a172"
      },
      "outputs": [
        {
          "name": "stdout",
          "output_type": "stream",
          "text": [
            "[10. 12. 14. 16. 18. 20.]\n"
          ]
        }
      ],
      "source": [
        "c = np.linspace(10,20,6)   # Define vector as 6 values evenly spaced from 10 to 20\n",
        "print(c)"
      ]
    },
    {
      "cell_type": "markdown",
      "metadata": {
        "id": "sSYtSdqDhjq1"
      },
      "source": [
        "## Random"
      ]
    },
    {
      "cell_type": "code",
      "execution_count": 10,
      "metadata": {
        "colab": {
          "base_uri": "https://localhost:8080/"
        },
        "id": "fCFyX4Wbhjq2",
        "outputId": "35fe3807-7e7d-485a-ac1b-4ccecab45c12"
      },
      "outputs": [
        {
          "name": "stdout",
          "output_type": "stream",
          "text": [
            "[0.26342794 0.21540646 0.6295201  0.49133883]\n"
          ]
        }
      ],
      "source": [
        "print(np.random.rand(4))"
      ]
    },
    {
      "cell_type": "code",
      "execution_count": 11,
      "metadata": {
        "colab": {
          "base_uri": "https://localhost:8080/"
        },
        "id": "KKs5DvwBhjq4",
        "outputId": "4720a720-1d6d-490c-8217-d0cfcafd7f9c"
      },
      "outputs": [
        {
          "name": "stdout",
          "output_type": "stream",
          "text": [
            "[[0.87634729 0.11160122 0.75620501 0.90058536 0.34366862]\n",
            " [0.26367077 0.36919197 0.14982941 0.21238542 0.59609454]\n",
            " [0.85538    0.25574707 0.66284681 0.47484248 0.64795519]\n",
            " [0.54355594 0.45896525 0.52131492 0.82702953 0.91339767]]\n"
          ]
        }
      ],
      "source": [
        "print(np.random.rand(4,5))"
      ]
    },
    {
      "cell_type": "code",
      "execution_count": 12,
      "metadata": {
        "colab": {
          "base_uri": "https://localhost:8080/"
        },
        "id": "BNGffok1hjq8",
        "outputId": "60b4c367-fd7c-4e33-8742-93cd83758765"
      },
      "outputs": [
        {
          "name": "stdout",
          "output_type": "stream",
          "text": [
            "[8 1 1]\n"
          ]
        }
      ],
      "source": [
        "# Random array of int, size=3, value 0-9\n",
        "print(np.random.randint(10, size=(3)))"
      ]
    },
    {
      "cell_type": "markdown",
      "metadata": {
        "id": "3HySbSsWhjrB"
      },
      "source": [
        "## Basic Array Operations"
      ]
    },
    {
      "cell_type": "code",
      "execution_count": 13,
      "metadata": {
        "colab": {
          "base_uri": "https://localhost:8080/"
        },
        "id": "8aDGRi59hjrB",
        "outputId": "c341da11-0791-4eef-cf9a-8dd40142246b"
      },
      "outputs": [
        {
          "name": "stdout",
          "output_type": "stream",
          "text": [
            "[[1 2]\n",
            " [3 4]]\n",
            "\n",
            "[[5 6]\n",
            " [7 8]]\n"
          ]
        }
      ],
      "source": [
        "x = np.array([[1,2],[3,4]])\n",
        "y = np.array([[5,6],[7,8]])\n",
        "print(x)\n",
        "print()\n",
        "print(y)"
      ]
    },
    {
      "cell_type": "markdown",
      "metadata": {
        "id": "S_BQqZL7hjrE"
      },
      "source": [
        "### Working with Scalar"
      ]
    },
    {
      "cell_type": "code",
      "execution_count": 14,
      "metadata": {
        "colab": {
          "base_uri": "https://localhost:8080/"
        },
        "id": "o0CzZK8bhjrF",
        "outputId": "390b0af3-0700-4fe5-e2ea-e7052fbfd360"
      },
      "outputs": [
        {
          "name": "stdout",
          "output_type": "stream",
          "text": [
            "[[3 4]\n",
            " [5 6]]\n"
          ]
        }
      ],
      "source": [
        "print(x+2)"
      ]
    },
    {
      "cell_type": "code",
      "execution_count": 15,
      "metadata": {
        "colab": {
          "base_uri": "https://localhost:8080/"
        },
        "id": "D2CoQO3phjrI",
        "outputId": "9ab72213-cf0e-47d9-e259-2997c3478e14"
      },
      "outputs": [
        {
          "name": "stdout",
          "output_type": "stream",
          "text": [
            "[[2 4]\n",
            " [6 8]]\n"
          ]
        }
      ],
      "source": [
        "print(x*2)"
      ]
    },
    {
      "cell_type": "markdown",
      "metadata": {
        "id": "eBVSfxWuhjrN"
      },
      "source": [
        "### Working with 2 Vectors"
      ]
    },
    {
      "cell_type": "code",
      "execution_count": 16,
      "metadata": {
        "colab": {
          "base_uri": "https://localhost:8080/"
        },
        "id": "XEyJbUJFhjrO",
        "outputId": "85fab96a-514d-4dc1-c9ce-b76268c762bd"
      },
      "outputs": [
        {
          "name": "stdout",
          "output_type": "stream",
          "text": [
            "[[ 6  8]\n",
            " [10 12]]\n"
          ]
        }
      ],
      "source": [
        "print(x+y)"
      ]
    },
    {
      "cell_type": "code",
      "execution_count": 17,
      "metadata": {
        "colab": {
          "base_uri": "https://localhost:8080/"
        },
        "id": "m1FSKpSohjrQ",
        "outputId": "fda8c038-b5f5-45b4-adbd-007e95ec2332"
      },
      "outputs": [
        {
          "name": "stdout",
          "output_type": "stream",
          "text": [
            "[[4 4]\n",
            " [4 4]]\n"
          ]
        }
      ],
      "source": [
        "print(y-x)"
      ]
    },
    {
      "cell_type": "code",
      "execution_count": 18,
      "metadata": {
        "colab": {
          "base_uri": "https://localhost:8080/"
        },
        "id": "yeufI_PShjrS",
        "outputId": "66e9e590-17bc-4907-eb82-6b2dcb55ecd3"
      },
      "outputs": [
        {
          "name": "stdout",
          "output_type": "stream",
          "text": [
            "[[ 5 12]\n",
            " [21 32]]\n"
          ]
        }
      ],
      "source": [
        "print(x*y) # element-wise multiplication"
      ]
    },
    {
      "cell_type": "code",
      "execution_count": 19,
      "metadata": {
        "colab": {
          "base_uri": "https://localhost:8080/"
        },
        "id": "NtglPHzRhjrU",
        "outputId": "6cbad04a-1975-4059-8286-74cadad27d3e"
      },
      "outputs": [
        {
          "name": "stdout",
          "output_type": "stream",
          "text": [
            "[[0.2        0.33333333]\n",
            " [0.42857143 0.5       ]]\n"
          ]
        }
      ],
      "source": [
        "print(x/y)"
      ]
    },
    {
      "cell_type": "markdown",
      "metadata": {
        "id": "4F3RsBwVhjrX"
      },
      "source": [
        "## Dot"
      ]
    },
    {
      "cell_type": "markdown",
      "metadata": {
        "id": "ZKMyooPvBHyz"
      },
      "source": [
        "**_Matrix multiplication_** must be executed by method for dot product `numpy.dot`. Operator `*` produces only element-wise multiplication in Python."
      ]
    },
    {
      "cell_type": "code",
      "execution_count": 20,
      "metadata": {
        "id": "Syk4aIJyhjrY"
      },
      "outputs": [],
      "source": [
        "v = np.array([9,10])\n",
        "w = np.array([11,12])"
      ]
    },
    {
      "cell_type": "code",
      "execution_count": 21,
      "metadata": {
        "colab": {
          "base_uri": "https://localhost:8080/"
        },
        "id": "olIKq3bVhjrf",
        "outputId": "883f1f47-d359-48ae-fe5f-be2d1a2e86d6"
      },
      "outputs": [
        {
          "name": "stdout",
          "output_type": "stream",
          "text": [
            "Matrix v\n",
            " [ 9 10]\n",
            "=====================\n",
            "Matrix w\n",
            " [11 12]\n",
            "=====================\n",
            "v.dot(w)\n",
            " 219\n",
            "=====================\n"
          ]
        }
      ],
      "source": [
        "print('Matrix v\\n', v)\n",
        "print('=====================')\n",
        "print('Matrix w\\n', w)\n",
        "print('=====================')\n",
        "print('v.dot(w)\\n', v.dot(w))\n",
        "print('=====================')"
      ]
    },
    {
      "cell_type": "code",
      "execution_count": 22,
      "metadata": {
        "colab": {
          "base_uri": "https://localhost:8080/"
        },
        "id": "Bqc4xCl0hjri",
        "outputId": "60fe446b-d8ac-4c77-df0d-8f98b6637cc1"
      },
      "outputs": [
        {
          "name": "stdout",
          "output_type": "stream",
          "text": [
            "Matrix x\n",
            " [[1 2]\n",
            " [3 4]]\n",
            "=====================\n",
            "Matrix v\n",
            " [ 9 10]\n",
            "=====================\n",
            "x.dot(v)\n",
            " [29 67]\n",
            "=====================\n"
          ]
        }
      ],
      "source": [
        "print('Matrix x\\n', x)\n",
        "print('=====================')\n",
        "print('Matrix v\\n', v)\n",
        "print('=====================')\n",
        "print('x.dot(v)\\n', x.dot(v))\n",
        "print('=====================')"
      ]
    },
    {
      "cell_type": "code",
      "execution_count": 23,
      "metadata": {
        "colab": {
          "base_uri": "https://localhost:8080/"
        },
        "id": "5RRQ8Vd9hjrm",
        "outputId": "0311dffc-471f-4721-bb18-d83cadfa02ce"
      },
      "outputs": [
        {
          "name": "stdout",
          "output_type": "stream",
          "text": [
            "Matrix x\n",
            " [[1 2]\n",
            " [3 4]]\n",
            "=====================\n",
            "Matrix y\n",
            " [[5 6]\n",
            " [7 8]]\n",
            "=====================\n",
            "x.dot(y)\n",
            " [[19 22]\n",
            " [43 50]]\n",
            "=====================\n"
          ]
        }
      ],
      "source": [
        "print('Matrix x\\n', x)\n",
        "print('=====================')\n",
        "print('Matrix y\\n', y)\n",
        "print('=====================')\n",
        "print('x.dot(y)\\n', x.dot(y))\n",
        "print('=====================')"
      ]
    },
    {
      "cell_type": "code",
      "execution_count": 24,
      "metadata": {
        "colab": {
          "base_uri": "https://localhost:8080/"
        },
        "id": "CWQPkrfwBHy0",
        "outputId": "cddeba63-8511-454e-f2de-0da5eb3f80dd"
      },
      "outputs": [
        {
          "name": "stdout",
          "output_type": "stream",
          "text": [
            "Matrix A:\n",
            "[[11 12 13]\n",
            " [21 22 23]\n",
            " [31 32 33]]\n",
            "\n",
            "Matrix B:\n",
            "[[1. 1. 1.]\n",
            " [1. 1. 1.]\n",
            " [1. 1. 1.]]\n",
            "\n",
            "Element-wise multiplication A*B:\n",
            "[[11. 12. 13.]\n",
            " [21. 22. 23.]\n",
            " [31. 32. 33.]]\n",
            "\n",
            "Matrix multiplication A by B:\n",
            "[[36. 36. 36.]\n",
            " [66. 66. 66.]\n",
            " [96. 96. 96.]]\n",
            "\n",
            "Matrix multiplication B by A:\n",
            "[[63. 66. 69.]\n",
            " [63. 66. 69.]\n",
            " [63. 66. 69.]]\n"
          ]
        }
      ],
      "source": [
        "print('Matrix A:')\n",
        "A = np.array([[11,12,13], [21,22,23], [31,32,33]])\n",
        "print(A)\n",
        "\n",
        "print('\\nMatrix B:')\n",
        "B = np.ones([3,3])\n",
        "print(B)\n",
        "\n",
        "print('\\nElement-wise multiplication A*B:')\n",
        "print(A*B)\n",
        "\n",
        "print('\\nMatrix multiplication A by B:')\n",
        "print(np.dot(A,B))\n",
        "\n",
        "print('\\nMatrix multiplication B by A:')\n",
        "print(np.dot(B,A))"
      ]
    },
    {
      "cell_type": "markdown",
      "metadata": {
        "id": "tJS_Z5IPhjrs"
      },
      "source": [
        "## Transpose"
      ]
    },
    {
      "cell_type": "markdown",
      "metadata": {
        "id": "l0FDDryvBHx5"
      },
      "source": [
        "**_Transposition_** of vectors is not so intuitive as in Matlab, especially if a vector is defined as 1D `array` and you cannot distinguish between row and column vector. However, using the keyword `newaxis` it's possible to shape the vector into 2D array (as matrix of size $1 \\times n$ or $n \\times 1$), where transposition makes sense and can be obtained by attribute `.T`."
      ]
    },
    {
      "cell_type": "markdown",
      "metadata": {
        "id": "wzKVNmfLBHyp"
      },
      "source": [
        "**_Matrix transposition_** is obtained by attribute `.T`"
      ]
    },
    {
      "cell_type": "code",
      "execution_count": 25,
      "metadata": {
        "colab": {
          "base_uri": "https://localhost:8080/"
        },
        "id": "expuVonNBHx6",
        "outputId": "1d1456aa-82d2-4faa-fa99-f8bf4ed22462"
      },
      "outputs": [
        {
          "name": "stdout",
          "output_type": "stream",
          "text": [
            "[[10]\n",
            " [20]\n",
            " [30]]\n",
            "(3, 1)\n",
            "[[10 20 30]]\n"
          ]
        }
      ],
      "source": [
        "x = a[:, np.newaxis]  # Make column vector from vector a (defined as array)\n",
        "print(x)\n",
        "print(x.shape)    # Now size of column vector is 3x1\n",
        "print(x.T)        # Make row vector by transpostion of column vector"
      ]
    },
    {
      "cell_type": "markdown",
      "metadata": {
        "id": "psQsskCeBHx_"
      },
      "source": [
        "If a vector was defined as 2D array of type `matrix`, transportation is not a problem."
      ]
    },
    {
      "cell_type": "code",
      "execution_count": 26,
      "metadata": {
        "colab": {
          "base_uri": "https://localhost:8080/"
        },
        "id": "PaSw3UNrBHyA",
        "outputId": "fc8d817a-82d7-4add-fa06-694139751f99"
      },
      "outputs": [
        {
          "name": "stdout",
          "output_type": "stream",
          "text": [
            "[[10 40]\n",
            " [20 50]\n",
            " [30 60]]\n",
            "(3, 2)\n",
            "[[10 20 30]\n",
            " [40 50 60]]\n"
          ]
        }
      ],
      "source": [
        "x = b.T           # Make column vector from vector b (defined as matrix)\n",
        "print(x)\n",
        "print(x.shape)    # Now size of column vector is 3x1\n",
        "print(x.T)        # Make row vector by transpostion of column vector"
      ]
    },
    {
      "cell_type": "code",
      "execution_count": 27,
      "metadata": {
        "colab": {
          "base_uri": "https://localhost:8080/"
        },
        "id": "XCHUxY5sBHyq",
        "outputId": "5dffc431-c219-4af3-fad9-96ece55f7096"
      },
      "outputs": [
        {
          "name": "stdout",
          "output_type": "stream",
          "text": [
            "Matrix X of size (2, 5) :\n",
            " [[1. 1. 1. 1. 1.]\n",
            " [1. 1. 1. 1. 1.]]\n",
            "\n",
            "Matrix Y=X.T of size (5, 2) :\n",
            " [[1. 1.]\n",
            " [1. 1.]\n",
            " [1. 1.]\n",
            " [1. 1.]\n",
            " [1. 1.]]\n"
          ]
        }
      ],
      "source": [
        "X = np.ones([2,5])     # Generate 2x5 matrix full of ones\n",
        "Y = X.T             # Obtain transpose of matrix X\n",
        "\n",
        "print('Matrix X of size', X.shape, ':\\n', X)\n",
        "print('\\nMatrix Y=X.T of size', Y.shape, ':\\n', Y)"
      ]
    },
    {
      "cell_type": "markdown",
      "metadata": {
        "id": "e8M378iLhjr3"
      },
      "source": [
        "## VStack and HStack"
      ]
    },
    {
      "cell_type": "code",
      "execution_count": 28,
      "metadata": {},
      "outputs": [
        {
          "data": {
            "text/plain": [
              "array([[11, 12, 13],\n",
              "       [21, 22, 23],\n",
              "       [31, 32, 33]])"
            ]
          },
          "execution_count": 28,
          "metadata": {},
          "output_type": "execute_result"
        }
      ],
      "source": [
        "A"
      ]
    },
    {
      "cell_type": "code",
      "execution_count": 29,
      "metadata": {
        "colab": {
          "base_uri": "https://localhost:8080/"
        },
        "id": "0kTXSgj4BHym",
        "outputId": "e9bedc85-e00d-4c1d-bff0-5df0ef9a6d8b"
      },
      "outputs": [
        {
          "name": "stdout",
          "output_type": "stream",
          "text": [
            "[[11. 12. 13.]\n",
            " [21. 22. 23.]\n",
            " [31. 32. 33.]\n",
            " [ 1.  1.  1.]]\n",
            "\n",
            "[[11. 12. 13.  1.]\n",
            " [21. 22. 23.  1.]\n",
            " [31. 32. 33.  1.]]\n",
            "\n",
            "[[11. 12. 13.  1.  0.  0.]\n",
            " [21. 22. 23.  0.  1.  0.]\n",
            " [31. 32. 33.  0.  0.  1.]]\n"
          ]
        }
      ],
      "source": [
        "print(np.vstack([ A, np.ones([1,3]) ]))  # Add row vector to matrix\n",
        "print()\n",
        "print(np.hstack([ A, np.ones([3,1]) ]))  # Add column vector to matrix\n",
        "print()\n",
        "print(np.hstack([ A, np.eye(3) ]))       # Merge two matrices horizontally"
      ]
    },
    {
      "cell_type": "markdown",
      "metadata": {
        "id": "1k8ggz-1hjr7"
      },
      "source": [
        "## Other Matrix Features"
      ]
    },
    {
      "cell_type": "markdown",
      "metadata": {
        "id": "14b0IbRXBHy5"
      },
      "source": [
        "There are also methods for essential matrix features like **_Frobenius norm_**, **_rank_** or **_determinant_**.\n",
        "\n",
        "For a matrix \\( A \\) with elements \\( a_{ij} \\), the Frobenius norm \\( ||A||_F \\) is defined as:\n",
        "\n",
        "### Frobenius Norm Formula\n",
        "\n",
        "The Frobenius norm of a matrix \\( A \\) is defined as:\n",
        "\n",
        "\n",
        "$$\n",
        "\\| A \\|_F = \\sqrt{\\sum_{i=1}^m \\sum_{j=1}^n |a_{ij}|^2}\n",
        "$$\n",
        "\n",
        "\n",
        "\n",
        "where \\( A \\)is an \\( m \\times n \\) matrix with elements \\( a_{ij} \\)."
      ]
    },
    {
      "cell_type": "code",
      "execution_count": 33,
      "metadata": {
        "colab": {
          "base_uri": "https://localhost:8080/"
        },
        "id": "bweFhJJpBHy7",
        "outputId": "a3f262dd-673d-4f63-9513-5dd10fa63817"
      },
      "outputs": [
        {
          "name": "stdout",
          "output_type": "stream",
          "text": [
            "Matrix A of size (3, 3) :\n",
            " [[11 12 13]\n",
            " [21 22 23]\n",
            " [31 32 33]]\n",
            "\n",
            "Frobenius norm: ||A|| = 70.44146506142529\n",
            "rank(A) = 2\n",
            "det(A) = -3.387970907404506e-14\n"
          ]
        }
      ],
      "source": [
        "#  it is calculated as the square root of the sum of the absolute squares of its elements. Mathematically, it can be expressed as:\n",
        "\n",
        "print('Matrix A of size', A.shape, ':\\n', A)\n",
        "\n",
        "# Frobenius norm of matrix\n",
        "print('\\nFrobenius norm: ||A|| =', np.linalg.norm(A))\n",
        "\n",
        "# Rank of matrix\n",
        "print('rank(A) =', np.linalg.matrix_rank(A))\n",
        "\n",
        "# Determinant of matrix\n",
        "print('det(A) =',  np.linalg.det(A))"
      ]
    },
    {
      "cell_type": "markdown",
      "metadata": {
        "id": "H9kGnyl6BHy_"
      },
      "source": [
        "In example above, note that the matrix $\\mathbf{A}$ is a singular matrix, because its rank is lower than number of its rows, thus also its detemninat is zero."
      ]
    },
    {
      "cell_type": "markdown",
      "metadata": {
        "id": "QeiSlfmGBHxx"
      },
      "source": [
        "**_Euclidean norm_** of vector is returned by method `numpy.linalg.norm`"
      ]
    },
    {
      "cell_type": "markdown",
      "metadata": {},
      "source": [
        "### Euclidean Norm Formula\n",
        "\n",
        "The Euclidean norm of a vector \\( \\mathbf{x} \\) is defined as:\n",
        "\n",
        "$$\n",
        "\\| \\mathbf{x} \\| = \\sqrt{\\sum_{i=1}^n x_i^2}\n",
        "$$\n",
        "\n",
        "where \\( \\mathbf{x} \\) is a vector with components \\( x_1, x_2, \\ldots, x_n \\).\n"
      ]
    },
    {
      "cell_type": "code",
      "execution_count": 34,
      "metadata": {
        "colab": {
          "base_uri": "https://localhost:8080/"
        },
        "id": "feJzzwVwBHxz",
        "outputId": "2c6a05db-fd42-446d-a7bc-f16f09784cd6"
      },
      "outputs": [
        {
          "name": "stdout",
          "output_type": "stream",
          "text": [
            "a = [10 20 30]\n",
            "norm(a) = 37.416573867739416\n",
            "x = [0.26726124 0.53452248 0.80178373]\n",
            "norm(x) = 0.9999999999999999\n"
          ]
        }
      ],
      "source": [
        "# The Euclidean norm of a square matrix is the square root of the sum of all the squares of the matrix's elements\n",
        "norm = np.linalg.norm(a)      # Euclidean norm of vector a (Eucliean norm is also called L2 norm)\n",
        "print('a =', a)\n",
        "print('norm(a) =', norm)\n",
        "\n",
        "x = a/np.linalg.norm(a)       # Make normalized/unit vector from a\n",
        "print('x =', x)\n",
        "print('norm(x) =', np.linalg.norm(x))"
      ]
    }
  ],
  "metadata": {
    "colab": {
      "name": "Numpy.ipynb",
      "provenance": [],
      "toc_visible": true
    },
    "kernelspec": {
      "display_name": "datasci",
      "language": "python",
      "name": "python3"
    },
    "language_info": {
      "codemirror_mode": {
        "name": "ipython",
        "version": 3
      },
      "file_extension": ".py",
      "mimetype": "text/x-python",
      "name": "python",
      "nbconvert_exporter": "python",
      "pygments_lexer": "ipython3",
      "version": "3.13.1"
    },
    "toc": {
      "base_numbering": 1,
      "nav_menu": {},
      "number_sections": true,
      "sideBar": true,
      "skip_h1_title": false,
      "title_cell": "Table of Contents",
      "title_sidebar": "Contents",
      "toc_cell": false,
      "toc_position": {},
      "toc_section_display": true,
      "toc_window_display": true
    },
    "varInspector": {
      "cols": {
        "lenName": 16,
        "lenType": 16,
        "lenVar": 40
      },
      "kernels_config": {
        "python": {
          "delete_cmd_postfix": "",
          "delete_cmd_prefix": "del ",
          "library": "var_list.py",
          "varRefreshCmd": "print(var_dic_list())"
        },
        "r": {
          "delete_cmd_postfix": ") ",
          "delete_cmd_prefix": "rm(",
          "library": "var_list.r",
          "varRefreshCmd": "cat(var_dic_list()) "
        }
      },
      "types_to_exclude": [
        "module",
        "function",
        "builtin_function_or_method",
        "instance",
        "_Feature"
      ],
      "window_display": false
    }
  },
  "nbformat": 4,
  "nbformat_minor": 0
}
