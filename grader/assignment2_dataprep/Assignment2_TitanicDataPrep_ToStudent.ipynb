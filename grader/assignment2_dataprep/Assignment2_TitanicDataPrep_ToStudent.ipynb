{
 "cells": [
  {
   "cell_type": "markdown",
   "metadata": {
    "id": "GSigx26OuY3K"
   },
   "source": [
    "# Assignment: Preparing Data for Analysis (Modified Titanic)"
   ]
  },
  {
   "cell_type": "markdown",
   "metadata": {
    "id": "tGEv03EbuY3R"
   },
   "source": [
    "![](https://github.com/kaopanboonyuen/2110446_DataScience_2021s2/raw/main/%20files/hw.png)"
   ]
  },
  {
   "cell_type": "markdown",
   "metadata": {
    "id": "4Y7acU90oRtB"
   },
   "source": [
    "# 1) Load data & review the data\n",
    "\n",
    "How many rows are there in the \"titanic_to_student.csv\"?"
   ]
  },
  {
   "cell_type": "code",
   "execution_count": 1,
   "metadata": {
    "executionInfo": {
     "elapsed": 525,
     "status": "ok",
     "timestamp": 1673946487442,
     "user": {
      "displayName": "Peerapon Vateekul",
      "userId": "16254659850492260409"
     },
     "user_tz": -420
    },
    "id": "ENNw4KZRuY3S"
   },
   "outputs": [],
   "source": [
    "#Import the libraries\n",
    "import numpy as np\n",
    "import pandas as pd\n",
    "from sklearn.model_selection import train_test_split\n"
   ]
  },
  {
   "cell_type": "code",
   "execution_count": 2,
   "metadata": {},
   "outputs": [
    {
     "data": {
      "text/html": [
       "<div>\n",
       "<style scoped>\n",
       "    .dataframe tbody tr th:only-of-type {\n",
       "        vertical-align: middle;\n",
       "    }\n",
       "\n",
       "    .dataframe tbody tr th {\n",
       "        vertical-align: top;\n",
       "    }\n",
       "\n",
       "    .dataframe thead th {\n",
       "        text-align: right;\n",
       "    }\n",
       "</style>\n",
       "<table border=\"1\" class=\"dataframe\">\n",
       "  <thead>\n",
       "    <tr style=\"text-align: right;\">\n",
       "      <th></th>\n",
       "      <th>Unnamed: 0</th>\n",
       "      <th>PassengerId</th>\n",
       "      <th>Survived</th>\n",
       "      <th>Pclass</th>\n",
       "      <th>Name</th>\n",
       "      <th>Sex</th>\n",
       "      <th>Age</th>\n",
       "      <th>SibSp</th>\n",
       "      <th>Parch</th>\n",
       "      <th>Ticket</th>\n",
       "      <th>Fare</th>\n",
       "      <th>Cabin</th>\n",
       "      <th>Embarked</th>\n",
       "    </tr>\n",
       "  </thead>\n",
       "  <tbody>\n",
       "    <tr>\n",
       "      <th>0</th>\n",
       "      <td>0</td>\n",
       "      <td>2</td>\n",
       "      <td>1.0</td>\n",
       "      <td>1.0</td>\n",
       "      <td>Cumings, Mrs. John Bradley (Florence Briggs Th...</td>\n",
       "      <td>female</td>\n",
       "      <td>38.0</td>\n",
       "      <td>1.0</td>\n",
       "      <td>0</td>\n",
       "      <td>PC 17599</td>\n",
       "      <td>71.2833</td>\n",
       "      <td>C85</td>\n",
       "      <td>C</td>\n",
       "    </tr>\n",
       "    <tr>\n",
       "      <th>1</th>\n",
       "      <td>1</td>\n",
       "      <td>4</td>\n",
       "      <td>1.0</td>\n",
       "      <td>1.0</td>\n",
       "      <td>Futrelle, Mrs. Jacques Heath (Lily May Peel)</td>\n",
       "      <td>female</td>\n",
       "      <td>35.0</td>\n",
       "      <td>1.0</td>\n",
       "      <td>0</td>\n",
       "      <td>113803</td>\n",
       "      <td>53.1000</td>\n",
       "      <td>C123</td>\n",
       "      <td>S</td>\n",
       "    </tr>\n",
       "    <tr>\n",
       "      <th>2</th>\n",
       "      <td>2</td>\n",
       "      <td>6</td>\n",
       "      <td>0.0</td>\n",
       "      <td>3.0</td>\n",
       "      <td>Moran, Mr. James</td>\n",
       "      <td>male</td>\n",
       "      <td>NaN</td>\n",
       "      <td>0.0</td>\n",
       "      <td>0</td>\n",
       "      <td>330877</td>\n",
       "      <td>8.4583</td>\n",
       "      <td>NaN</td>\n",
       "      <td>Q</td>\n",
       "    </tr>\n",
       "    <tr>\n",
       "      <th>3</th>\n",
       "      <td>3</td>\n",
       "      <td>8</td>\n",
       "      <td>0.0</td>\n",
       "      <td>3.0</td>\n",
       "      <td>Palsson, Master. Gosta Leonard</td>\n",
       "      <td>male</td>\n",
       "      <td>2.0</td>\n",
       "      <td>3.0</td>\n",
       "      <td>1</td>\n",
       "      <td>349909</td>\n",
       "      <td>21.0750</td>\n",
       "      <td>NaN</td>\n",
       "      <td>S</td>\n",
       "    </tr>\n",
       "    <tr>\n",
       "      <th>4</th>\n",
       "      <td>4</td>\n",
       "      <td>10</td>\n",
       "      <td>1.0</td>\n",
       "      <td>2.0</td>\n",
       "      <td>Nasser, Mrs. Nicholas (Adele Achem)</td>\n",
       "      <td>female</td>\n",
       "      <td>14.0</td>\n",
       "      <td>1.0</td>\n",
       "      <td>0</td>\n",
       "      <td>237736</td>\n",
       "      <td>30.0708</td>\n",
       "      <td>NaN</td>\n",
       "      <td>C</td>\n",
       "    </tr>\n",
       "  </tbody>\n",
       "</table>\n",
       "</div>"
      ],
      "text/plain": [
       "   Unnamed: 0  PassengerId  Survived  Pclass  \\\n",
       "0           0            2       1.0     1.0   \n",
       "1           1            4       1.0     1.0   \n",
       "2           2            6       0.0     3.0   \n",
       "3           3            8       0.0     3.0   \n",
       "4           4           10       1.0     2.0   \n",
       "\n",
       "                                                Name     Sex   Age  SibSp  \\\n",
       "0  Cumings, Mrs. John Bradley (Florence Briggs Th...  female  38.0    1.0   \n",
       "1       Futrelle, Mrs. Jacques Heath (Lily May Peel)  female  35.0    1.0   \n",
       "2                                   Moran, Mr. James    male   NaN    0.0   \n",
       "3                     Palsson, Master. Gosta Leonard    male   2.0    3.0   \n",
       "4                Nasser, Mrs. Nicholas (Adele Achem)  female  14.0    1.0   \n",
       "\n",
       "   Parch    Ticket     Fare Cabin Embarked  \n",
       "0      0  PC 17599  71.2833   C85        C  \n",
       "1      0    113803  53.1000  C123        S  \n",
       "2      0    330877   8.4583   NaN        Q  \n",
       "3      1    349909  21.0750   NaN        S  \n",
       "4      0    237736  30.0708   NaN        C  "
      ]
     },
     "execution_count": 2,
     "metadata": {},
     "output_type": "execute_result"
    }
   ],
   "source": [
    "file = 'titanic_to_student.csv'\n",
    "\n",
    "df = pd.read_csv(file)\n",
    "df.head()"
   ]
  },
  {
   "cell_type": "code",
   "execution_count": 4,
   "metadata": {},
   "outputs": [],
   "source": [
    "def load():\n",
    "   file = 'titanic_to_student.csv'\n",
    "   df =  pd.read_csv(file)\n",
    "   df.drop(df.columns[df.columns.str.contains('unnamed',case = False)],axis = 1, inplace = True)\n",
    "   return df\n",
    "\n",
    "   # df.head() "
   ]
  },
  {
   "cell_type": "code",
   "execution_count": 6,
   "metadata": {},
   "outputs": [
    {
     "data": {
      "text/plain": [
       "445"
      ]
     },
     "execution_count": 6,
     "metadata": {},
     "output_type": "execute_result"
    }
   ],
   "source": [
    "df.shape[0]"
   ]
  },
  {
   "cell_type": "markdown",
   "metadata": {
    "id": "HyyLjiviotA3"
   },
   "source": [
    "# 2) Drop unqualified variables\n",
    "\n",
    "Drop unqualified variables\n",
    "\n",
    "Drop variables with missing > 50%\n",
    "\n",
    "Drop categorical variables with flat values > 70% (variables with the same value in the same column)\n",
    "\n",
    "How many columns do we have left?\n",
    "\n",
    "\n",
    "\n"
   ]
  },
  {
   "cell_type": "code",
   "execution_count": 78,
   "metadata": {},
   "outputs": [
    {
     "data": {
      "text/plain": [
       "Index(['PassengerId', 'Survived', 'Pclass', 'Name', 'Sex', 'Age', 'SibSp',\n",
       "       'Parch', 'Ticket', 'Fare', 'Cabin', 'Embarked'],\n",
       "      dtype='object')"
      ]
     },
     "execution_count": 78,
     "metadata": {},
     "output_type": "execute_result"
    }
   ],
   "source": [
    "df = load()\n",
    "df.columns"
   ]
  },
  {
   "cell_type": "code",
   "execution_count": 81,
   "metadata": {},
   "outputs": [
    {
     "name": "stdout",
     "output_type": "stream",
     "text": [
      "Name\n",
      "Behr, Mr. Karl Howell                           0.002309\n",
      "Daly, Mr. Peter Denis                           0.002309\n",
      "Aks, Mrs. Sam (Leah Rosen)                      0.002309\n",
      "Lines, Miss. Mary Conover                       0.002309\n",
      "Svensson, Mr. Johan                             0.002309\n",
      "                                                  ...   \n",
      "Bonnell, Miss. Elizabeth                        0.002309\n",
      "Nasser, Mrs. Nicholas (Adele Achem)             0.002309\n",
      "Palsson, Master. Gosta Leonard                  0.002309\n",
      "Moran, Mr. James                                0.002309\n",
      "Futrelle, Mrs. Jacques Heath (Lily May Peel)    0.002309\n",
      "Name: proportion, Length: 433, dtype: float64\n",
      "Sex\n",
      "male      0.647191\n",
      "female    0.352809\n",
      "Name: proportion, dtype: float64\n",
      "Ticket\n",
      "347082      0.009390\n",
      "347088      0.007042\n",
      "345773      0.007042\n",
      "CA 2144     0.007042\n",
      "PC 17760    0.007042\n",
      "              ...   \n",
      "248698      0.002347\n",
      "2649        0.002347\n",
      "244373      0.002347\n",
      "111369      0.002347\n",
      "347078      0.002347\n",
      "Name: proportion, Length: 359, dtype: float64\n",
      "Embarked\n",
      "S    0.7125\n",
      "C    0.2200\n",
      "Q    0.0675\n",
      "Name: proportion, dtype: float64\n",
      "Embarked\n"
     ]
    },
    {
     "data": {
      "text/plain": [
       "10"
      ]
     },
     "execution_count": 81,
     "metadata": {},
     "output_type": "execute_result"
    }
   ],
   "source": [
    "df.isnull().sum()\n",
    "tmp = df.isnull().sum()/df.shape[0]\n",
    "\n",
    "df = df.drop(columns = tmp[tmp > 0.5].index)\n",
    "\n",
    "for col in df.columns:\n",
    "    if(df[col].dtype == 'object'):\n",
    "        proportions = df[col].value_counts(normalize=True)\n",
    "        print(proportions)\n",
    "        if any(proportions > 0.7):\n",
    "            print(col)\n",
    "            df.drop(columns=[col],inplace=True)\n",
    "df.columns.size"
   ]
  },
  {
   "cell_type": "markdown",
   "metadata": {
    "id": "3jiMfyPxo7TK"
   },
   "source": [
    "# 3) Remove all rows with missing target (the variable \"Survived\")\n",
    "\n",
    "Remove all rows with missing targets (the variable \"Survived\")\n",
    "\n",
    "How many rows do we have left?\n"
   ]
  },
  {
   "cell_type": "code",
   "execution_count": 91,
   "metadata": {},
   "outputs": [
    {
     "data": {
      "text/plain": [
       "432"
      ]
     },
     "execution_count": 91,
     "metadata": {},
     "output_type": "execute_result"
    }
   ],
   "source": [
    "df = load()\n",
    "\n",
    "# df['Survived'].isnull()\n",
    "\n",
    "\n",
    "df[~df['Survived'].isnull()].shape[0]"
   ]
  },
  {
   "cell_type": "markdown",
   "metadata": {
    "id": "LtgthZWlpDJw"
   },
   "source": [
    "# 4) Handle outliers \n",
    "Handle outliers\n",
    "\n",
    "For the variable “Fare”, replace outlier values with the boundary values\n",
    "\n",
    "If value < (Q1 - 1.5IQR), replace with (Q1 - 1.5IQR)\n",
    "\n",
    "If value > (Q3 + 1.5IQR), replace with (Q3 + 1.5IQR)\n",
    "\n",
    "What is the average (mean) of “Fare” after replacing the outliers (round 2 decimal points)?\n",
    "\n",
    "Hint: Use function round(_, 2)\n",
    "\n"
   ]
  },
  {
   "cell_type": "code",
   "execution_count": 104,
   "metadata": {},
   "outputs": [
    {
     "name": "stdout",
     "output_type": "stream",
     "text": [
      "34.23847280898876\n"
     ]
    },
    {
     "data": {
      "text/plain": [
       "np.float64(26.27)"
      ]
     },
     "execution_count": 104,
     "metadata": {},
     "output_type": "execute_result"
    }
   ],
   "source": [
    "df = load()\n",
    "\n",
    "col = 'Fare'\n",
    "\n",
    "print(df[col].mean())\n",
    "\n",
    "q1 = df[col].quantile(0.25)\n",
    "q3 = df[col].quantile(0.75)\n",
    "iqr = q3 - q1   \n",
    "\n",
    "idx = df[df[col] > q3 + 1.5*iqr].index\n",
    "\n",
    "df.loc[idx,col] = q3 + 1.5*iqr\n",
    "\n",
    "idx = df[df[col] < q1 - 1.5*iqr].index\n",
    "\n",
    "df.loc[idx,col] = q1 - 1.5*iqr\n",
    "\n",
    "round(df[col].mean(),2)"
   ]
  },
  {
   "cell_type": "markdown",
   "metadata": {
    "id": "wkZZEjXHpYS1"
   },
   "source": [
    "# 5) Impute missing value\n",
    "\n",
    "Impute missing value\n",
    "\n",
    "For number type column, impute missing values with mean\n",
    "\n",
    "What is the average (mean) of “Age” after imputing the missing values (round 2 decimal points)?\n",
    "\n",
    "Hint: Use function round(_, 2)\n"
   ]
  },
  {
   "cell_type": "code",
   "execution_count": 118,
   "metadata": {},
   "outputs": [
    {
     "data": {
      "text/plain": [
       "np.float64(29.136361111111107)"
      ]
     },
     "execution_count": 118,
     "metadata": {},
     "output_type": "execute_result"
    }
   ],
   "source": [
    "# pd.api.types.is_numeric_dtype(df.columns)\n",
    "df = load()\n",
    "\n",
    "col = 'Age'\n",
    "idx = df[col].isnull()\n",
    "\n",
    "df.loc[idx,col] = df[col].mean()\n",
    "\n",
    "df[col].mean()"
   ]
  },
  {
   "cell_type": "markdown",
   "metadata": {
    "id": "FCR7DNJgt4Cg"
   },
   "source": [
    "# 6) Convert categorical to numeric values\n",
    "\n",
    "Convert categorical to numeric values\n",
    "\n",
    "For the variable “Embarked”, perform the dummy coding.\n",
    "\n",
    "What is the average (mean) of “Embarked_Q” after performing dummy coding (round 2 decimal points)?\n",
    "\n",
    "Hint: Use function round(_, 2)\n",
    "\n"
   ]
  },
  {
   "cell_type": "code",
   "execution_count": 122,
   "metadata": {},
   "outputs": [
    {
     "data": {
      "text/plain": [
       "np.float64(0.060674157303370786)"
      ]
     },
     "execution_count": 122,
     "metadata": {},
     "output_type": "execute_result"
    }
   ],
   "source": [
    "df = load()\n",
    "col = 'Embarked'\n",
    "# df[col].unique()\n",
    "\n",
    "dummies = pd.get_dummies(df['Embarked'], prefix='Embarked')\n",
    "\n",
    "df['Embarked_Q'] = dummies['Embarked_Q']\n",
    "\n",
    "df['Embarked_Q'].mean()"
   ]
  },
  {
   "cell_type": "markdown",
   "metadata": {
    "id": "XZAhqMgst93r"
   },
   "source": [
    "# 7) Partition data\n",
    "Split train/test split with stratification using 70%:30% and random seed with 123\n",
    "\n",
    "Show a proportion between survived (1) and died (0) in all data sets (total data, train, test)\n",
    "\n",
    "What is the proportion of survivors (survived = 1) in the training data (round 2 decimal points)?\n",
    "\n",
    "Hint: Use function round(_, 2), and train_test_split() from sklearn.model_selection\n",
    "\n",
    "\n"
   ]
  },
  {
   "cell_type": "code",
   "execution_count": 31,
   "metadata": {},
   "outputs": [
    {
     "data": {
      "text/plain": [
       "np.int64(13)"
      ]
     },
     "execution_count": 31,
     "metadata": {},
     "output_type": "execute_result"
    }
   ],
   "source": [
    "df = load()\n",
    "df['Survived'].isnull().sum()   "
   ]
  },
  {
   "cell_type": "code",
   "execution_count": 29,
   "metadata": {},
   "outputs": [
    {
     "name": "stdout",
     "output_type": "stream",
     "text": [
      "13\n"
     ]
    },
    {
     "data": {
      "text/plain": [
       "np.float64(0.40066225165562913)"
      ]
     },
     "execution_count": 29,
     "metadata": {},
     "output_type": "execute_result"
    }
   ],
   "source": [
    "from sklearn.model_selection import train_test_split\n",
    "\n",
    "df = load()\n",
    "\n",
    "# df.drop(df['Survived'].isnull().index,inplace=True)\n",
    "\n",
    "print(df['Survived'].isnull().sum())\n",
    "df.drop(df[df['Survived'].isnull()].index,inplace=True)\n",
    "\n",
    "train, test = train_test_split(df, test_size=0.3, random_state=123)\n",
    "\n",
    "# train['Survived'].sum()/train.shape[0]\n",
    "train['Survived'].sum()/train.shape[0]"
   ]
  },
  {
   "cell_type": "code",
   "execution_count": 35,
   "metadata": {},
   "outputs": [
    {
     "data": {
      "text/plain": [
       "Survived\n",
       "0.0    252\n",
       "1.0    180\n",
       "Name: count, dtype: int64"
      ]
     },
     "execution_count": 35,
     "metadata": {},
     "output_type": "execute_result"
    }
   ],
   "source": [
    "df = load()\n",
    "\n",
    "\n",
    "df.value_counts(\"Survived\")"
   ]
  }
 ],
 "metadata": {
  "colab": {
   "provenance": [],
   "toc_visible": true
  },
  "kernelspec": {
   "display_name": "datasci",
   "language": "python",
   "name": "python3"
  },
  "language_info": {
   "codemirror_mode": {
    "name": "ipython",
    "version": 3
   },
   "file_extension": ".py",
   "mimetype": "text/x-python",
   "name": "python",
   "nbconvert_exporter": "python",
   "pygments_lexer": "ipython3",
   "version": "3.13.1"
  },
  "toc": {
   "base_numbering": 1,
   "nav_menu": {},
   "number_sections": true,
   "sideBar": true,
   "skip_h1_title": false,
   "title_cell": "Table of Contents",
   "title_sidebar": "Contents",
   "toc_cell": false,
   "toc_position": {},
   "toc_section_display": true,
   "toc_window_display": false
  }
 },
 "nbformat": 4,
 "nbformat_minor": 0
}
